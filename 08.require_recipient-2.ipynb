{
 "cells": [
  {
   "cell_type": "code",
   "execution_count": 1,
   "metadata": {},
   "outputs": [],
   "source": [
    "from init import *"
   ]
  },
  {
   "cell_type": "markdown",
   "metadata": {},
   "source": [
    "[eosio.token.cpp](https://github.com/EOSIO/eosio.contracts/blob/c046863a65d7e98424312ee8009f0acb493e6231/contracts/eosio.token/src/eosio.token.cpp#L87)"
   ]
  },
  {
   "cell_type": "markdown",
   "metadata": {},
   "source": [
    "```C++\n",
    "void token::transfer( name    from,\n",
    "                      name    to,\n",
    "                      asset   quantity,\n",
    "                      string  memo )\n",
    "{\n",
    "    check( from != to, \"cannot transfer to self\" );\n",
    "    require_auth( from );\n",
    "    check( is_account( to ), \"to account does not exist\");\n",
    "    auto sym = quantity.symbol.code();\n",
    "    stats statstable( _self, sym.raw() );\n",
    "    const auto& st = statstable.get( sym.raw() );\n",
    "\n",
    "    require_recipient( from );\n",
    "    require_recipient( to );\n",
    "\n",
    "    check( quantity.is_valid(), \"invalid quantity\" );\n",
    "    check( quantity.amount > 0, \"must transfer positive quantity\" );\n",
    "    check( quantity.symbol == st.supply.symbol, \"symbol precision mismatch\" );\n",
    "    check( memo.size() <= 256, \"memo has more than 256 bytes\" );\n",
    "\n",
    "    auto payer = has_auth( to ) ? to : from;\n",
    "\n",
    "    sub_balance( from, quantity );\n",
    "    add_balance( to, quantity, payer );\n",
    "}\n",
    "```"
   ]
  },
  {
   "cell_type": "markdown",
   "metadata": {},
   "source": [
    "### require_recipient\n",
    "def require_recipient(account: name) -> None:"
   ]
  },
  {
   "cell_type": "code",
   "execution_count": 5,
   "metadata": {},
   "outputs": [],
   "source": [
    "name = 'test11111112'\n",
    "code = '''\n",
    "import struct\n",
    "import chain\n",
    "eosio_token = name('eosio.token')\n",
    "transfer = name('transfer')\n",
    "def apply(receiver, code, action):\n",
    "    if code == eosio_token and transfer == action:\n",
    "        data = chain.read_action_data()\n",
    "        from_, to, amount, symbol = struct.unpack('QQq8s', data[:32])\n",
    "        print(from_, to, amount, symbol)\n",
    "'''\n",
    "abi = ''\n",
    "\n",
    "code = uuosapi.mp_compile(python_contract, code)\n",
    "r = uuosapi.deploy_python_contract(python_contract, code, abi, deploy_type=1)\n"
   ]
  },
  {
   "cell_type": "code",
   "execution_count": 6,
   "metadata": {},
   "outputs": [
    {
     "name": "stdout",
     "output_type": "stream",
     "text": [
      "\n",
      "16441275259769748896 4808904159322610784 1000 b'\\x04TNT\\x00\\x00\\x00\\x00'\r\n",
      "\n",
      "837\n"
     ]
    }
   ],
   "source": [
    "r = uuosapi.transfer(test_account1, python_contract, 0.1)\n",
    "print(r['processed']['action_traces'][0]['inline_traces'][0]['console'])\n",
    "print(r['processed']['action_traces'][0]['inline_traces'][1]['console'])\n",
    "print(r['processed']['elapsed'])"
   ]
  }
 ],
 "metadata": {
  "kernelspec": {
   "display_name": "Python 3",
   "language": "python",
   "name": "python3"
  },
  "language_info": {
   "codemirror_mode": {
    "name": "ipython",
    "version": 3
   },
   "file_extension": ".py",
   "mimetype": "text/x-python",
   "name": "python",
   "nbconvert_exporter": "python",
   "pygments_lexer": "ipython3",
   "version": "3.7.4"
  }
 },
 "nbformat": 4,
 "nbformat_minor": 2
}
