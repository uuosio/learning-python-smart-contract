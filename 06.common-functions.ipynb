{
 "cells": [
  {
   "cell_type": "code",
   "execution_count": 1,
   "metadata": {},
   "outputs": [],
   "source": [
    "from init import *"
   ]
  },
  {
   "cell_type": "markdown",
   "metadata": {},
   "source": [
    "# s2n, n2s"
   ]
  },
  {
   "cell_type": "markdown",
   "metadata": {},
   "source": [
    "s2n converts the string into uint64_t type, n2s converts the uint64_t type into string,"
   ]
  },
  {
   "cell_type": "code",
   "execution_count": 9,
   "metadata": {},
   "outputs": [
    {
     "name": "stdout",
     "output_type": "stream",
     "text": [
      "ceyelqpjeeia ceyelqpjeeia sayhello\r\n",
      "7684013976526520320 hello\r\n",
      "\n"
     ]
    }
   ],
   "source": [
    "code = '''\n",
    "import chain\n",
    "def apply(receiver, code, action):\n",
    "    print(receiver, code, action)\n",
    "    n = chain.s2n('hello')\n",
    "    s = chain.n2s(n)\n",
    "    print(n, s)\n",
    "'''\n",
    "code = uuosapi.mp_compile(python_contract, code)\n",
    "uuosapi.deploy_python_contract(python_contract, code, b'', deploy_type=1)\n",
    "r = uuosapi.push_action(python_contract, 'sayhello', b'hello,world', {python_contract:'active'})\n",
    "print(r['processed']['action_traces'][0]['console'])"
   ]
  },
  {
   "cell_type": "markdown",
   "metadata": {},
   "source": [
    "# current_receiver\n",
    "获取当前的receiver"
   ]
  },
  {
   "cell_type": "code",
   "execution_count": 10,
   "metadata": {},
   "outputs": [
    {
     "name": "stdout",
     "output_type": "stream",
     "text": [
      "ceyelqpjeeia ceyelqpjeeia sayhello\r\n",
      "True\r\n",
      "\n"
     ]
    }
   ],
   "source": [
    "code = '''\n",
    "import chain\n",
    "def apply(receiver, code, action):\n",
    "    print(receiver, code, action)\n",
    "    print(receiver == chain.current_receiver())\n",
    "'''\n",
    "code = uuosapi.mp_compile(python_contract, code)\n",
    "uuosapi.deploy_python_contract(python_contract, code, b'', deploy_type=1)\n",
    "r = uuosapi.push_action(python_contract, 'sayhello', b'hello,world', {python_contract:'active'})\n",
    "print(r['processed']['action_traces'][0]['console'])"
   ]
  },
  {
   "cell_type": "markdown",
   "metadata": {},
   "source": [
    "# read_action_data"
   ]
  },
  {
   "cell_type": "markdown",
   "metadata": {},
   "source": []
  },
  {
   "cell_type": "code",
   "execution_count": 13,
   "metadata": {},
   "outputs": [
    {
     "name": "stdout",
     "output_type": "stream",
     "text": [
      "b'hello,world'\r\n",
      "\n"
     ]
    }
   ],
   "source": [
    "code = '''\n",
    "import chain\n",
    "def apply(receiver, code, action):\n",
    "    print(chain.read_action_data())\n",
    "'''\n",
    "\n",
    "code = uuosapi.mp_compile(python_contract, code)\n",
    "uuosapi.deploy_python_contract(python_contract, code, b'', deploy_type=1)\n",
    "r = uuosapi.push_action(python_contract, 'sayhello', b'hello,world', {python_contract:'active'})\n",
    "print(r['processed']['action_traces'][0]['console'])"
   ]
  },
  {
   "cell_type": "markdown",
   "metadata": {},
   "source": [
    "# is_account"
   ]
  },
  {
   "cell_type": "code",
   "execution_count": 14,
   "metadata": {},
   "outputs": [
    {
     "name": "stdout",
     "output_type": "stream",
     "text": [
      "True\r\n",
      "False\r\n",
      "\n"
     ]
    }
   ],
   "source": [
    "code = '''\n",
    "import chain\n",
    "def apply(receiver, code, action):\n",
    "    print(chain.is_account(receiver))\n",
    "    print(chain.is_account('test11111111'))\n",
    "'''\n",
    "\n",
    "code = uuosapi.mp_compile(python_contract, code)\n",
    "uuosapi.deploy_python_contract(python_contract, code, b'', deploy_type=1)\n",
    "r = uuosapi.push_action(python_contract, 'sayhello', b'hello,world', {python_contract:'active'})\n",
    "print(r['processed']['action_traces'][0]['console'])"
   ]
  },
  {
   "cell_type": "markdown",
   "metadata": {},
   "source": [
    "# publication_time"
   ]
  },
  {
   "cell_type": "code",
   "execution_count": 15,
   "metadata": {},
   "outputs": [
    {
     "name": "stdout",
     "output_type": "stream",
     "text": [
      "1609919607500000\r\n",
      "\n"
     ]
    }
   ],
   "source": [
    "code = '''\n",
    "import chain\n",
    "def apply(receiver, code, action):\n",
    "    print(chain.publication_time())\n",
    "'''\n",
    "\n",
    "code = uuosapi.mp_compile(python_contract, code)\n",
    "uuosapi.deploy_python_contract(python_contract, code, b'', deploy_type=1)\n",
    "r = uuosapi.push_action(python_contract, 'sayhello', b'hello,world', {python_contract:'active'})\n",
    "print(r['processed']['action_traces'][0]['console'])"
   ]
  },
  {
   "cell_type": "code",
   "execution_count": 16,
   "metadata": {},
   "outputs": [
    {
     "data": {
      "text/plain": [
       "'Wed, 06 Jan 2021 15:53:27 GMT'"
      ]
     },
     "execution_count": 16,
     "metadata": {},
     "output_type": "execute_result"
    }
   ],
   "source": [
    "import time\n",
    "local_time = time.localtime(1609919607500000/1e6)\n",
    "time.strftime('%a, %d %b %Y %H:%M:%S GMT', local_time)"
   ]
  },
  {
   "cell_type": "markdown",
   "metadata": {},
   "source": [
    "# has_auth"
   ]
  },
  {
   "cell_type": "code",
   "execution_count": 17,
   "metadata": {},
   "outputs": [
    {
     "name": "stdout",
     "output_type": "stream",
     "text": [
      "True\r\n",
      "True\r\n",
      "True\r\n",
      "\n"
     ]
    }
   ],
   "source": [
    "code = '''\n",
    "import chain\n",
    "def apply(receiver, code, action):\n",
    "    print(chain.has_auth(receiver))\n",
    "    print(chain.has_auth('test11111111'))\n",
    "    print(chain.has_auth('eosio'))\n",
    "'''\n",
    "\n",
    "\n",
    "code = uuosapi.mp_compile(python_contract, code)\n",
    "uuosapi.deploy_python_contract(python_contract, code, b'', deploy_type=1)\n",
    "r = uuosapi.push_action(python_contract, 'sayhello', b'hello,world', {python_contract:'active'})\n",
    "print(r['processed']['action_traces'][0]['console'])"
   ]
  },
  {
   "cell_type": "markdown",
   "metadata": {},
   "source": [
    "# require_auth/require_auth2"
   ]
  },
  {
   "cell_type": "code",
   "execution_count": 22,
   "metadata": {},
   "outputs": [
    {
     "name": "stdout",
     "output_type": "stream",
     "text": [
      "\n"
     ]
    }
   ],
   "source": [
    "code = '''\n",
    "import chain\n",
    "def apply(receiver, code, action):\n",
    "    chain.require_auth(receiver)\n",
    "    chain.require_auth2(receiver, 'active')\n",
    "'''\n",
    "\n",
    "code = uuosapi.mp_compile(python_contract, code)\n",
    "uuosapi.deploy_python_contract(python_contract, code, b'', deploy_type=1)\n",
    "r = uuosapi.push_action(python_contract, 'sayhello', b'hello,world', {python_contract:'active'})\n",
    "print(r['processed']['action_traces'][0]['console'])\n"
   ]
  },
  {
   "cell_type": "markdown",
   "metadata": {},
   "source": [
    "# publication_time/current_time"
   ]
  },
  {
   "cell_type": "markdown",
   "metadata": {},
   "source": [
    "```C++\n",
    "uint64_t  publication_time() {\n",
    "   return static_cast<uint64_t>( ctx().trx_context.published.time_since_epoch().count() );\n",
    "}\n",
    "\n",
    "uint64_t  current_time() {\n",
    "   return static_cast<uint64_t>( ctx().control.pending_block_time().time_since_epoch().count() );\n",
    "}\n",
    "\n",
    "```"
   ]
  },
  {
   "cell_type": "code",
   "execution_count": 27,
   "metadata": {},
   "outputs": [
    {
     "name": "stdout",
     "output_type": "stream",
     "text": [
      "1609919812000000\r\n",
      "1609919812000000\r\n",
      "\n"
     ]
    }
   ],
   "source": [
    "code = '''\n",
    "import chain\n",
    "def apply(receiver, code, action):\n",
    "    print(chain.publication_time())\n",
    "    print(chain.current_time())\n",
    "'''\n",
    "\n",
    "code = uuosapi.mp_compile(python_contract, code)\n",
    "uuosapi.deploy_python_contract(python_contract, code, b'', deploy_type=1)\n",
    "r = uuosapi.push_action(python_contract, 'sayhello', b'hello,world', {python_contract:'active'})\n",
    "print(r['processed']['action_traces'][0]['console'])\n"
   ]
  },
  {
   "cell_type": "markdown",
   "metadata": {},
   "source": [
    "# uuos_assert/uuos_assert_code"
   ]
  },
  {
   "cell_type": "code",
   "execution_count": 30,
   "metadata": {},
   "outputs": [
    {
     "name": "stdout",
     "output_type": "stream",
     "text": [
      "\n"
     ]
    }
   ],
   "source": [
    "code = '''\n",
    "import chain\n",
    "def apply(receiver, code, action):\n",
    "    chain.uuos_assert(True, 'oops!')\n",
    "    chain.uuos_assert_code(receiver==code, 111)\n",
    "'''\n",
    "\n",
    "code = uuosapi.mp_compile(python_contract, code)\n",
    "uuosapi.deploy_python_contract(python_contract, code, b'', deploy_type=1)\n",
    "r = uuosapi.push_action(python_contract, 'sayhello', b'hello,world', {python_contract:'active'})\n",
    "print(r['processed']['action_traces'][0]['console'])\n"
   ]
  }
 ],
 "metadata": {
  "kernelspec": {
   "display_name": "Python 3",
   "language": "python",
   "name": "python3"
  },
  "language_info": {
   "codemirror_mode": {
    "name": "ipython",
    "version": 3
   },
   "file_extension": ".py",
   "mimetype": "text/x-python",
   "name": "python",
   "nbconvert_exporter": "python",
   "pygments_lexer": "ipython3",
   "version": "3.7.4"
  }
 },
 "nbformat": 4,
 "nbformat_minor": 2
}
