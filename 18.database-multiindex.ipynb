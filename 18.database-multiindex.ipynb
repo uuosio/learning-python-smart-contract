{
 "cells": [
  {
   "cell_type": "code",
   "execution_count": 1,
   "metadata": {},
   "outputs": [],
   "source": [
    "from init import *"
   ]
  },
  {
   "cell_type": "markdown",
   "metadata": {},
   "source": [
    "### idx64_store\n",
    "\n",
    "```python\n",
    "def idx_store(idx, scope, table, payer, id, secondary) -> int\n",
    "```\n"
   ]
  },
  {
   "cell_type": "code",
   "execution_count": 15,
   "metadata": {},
   "outputs": [
    {
     "name": "stdout",
     "output_type": "stream",
     "text": [
      "0 16514440898579267584\r\n",
      "\n"
     ]
    }
   ],
   "source": [
    "code = '''\n",
    "import db\n",
    "import chain\n",
    "def apply(receiver, code, action):\n",
    "    code = receiver\n",
    "    scope = 'scope'\n",
    "    table = 'table'\n",
    "    payer = receiver\n",
    "    primary = 'hello'\n",
    "    secondary = chain.s2n('world')\n",
    "    itr, primary = chain.db_idx_find_primary(db.idx64, code, scope, table, primary)\n",
    "    print(itr, primary)\n",
    "    if itr >= 0:\n",
    "        chain.db_idx_update(db.idx64, itr, payer, secondary)\n",
    "    else:\n",
    "        itr = chain.db_idx_store(db.idx64, scope, table, payer, primary, secondary)\n",
    "'''\n",
    "\n",
    "code = uuosapi.mp_compile(python_contract, code)\n",
    "\n",
    "uuosapi.deploy_python_code(python_contract, code, deploy_type=1)\n",
    "r = uuosapi.push_action(python_contract, 'sayhello', b'hello,world', {python_contract:'active'})\n",
    "print(r['processed']['action_traces'][0]['console'])\n"
   ]
  },
  {
   "cell_type": "markdown",
   "metadata": {},
   "source": [
    "### idx_find_primary\n",
    "\n",
    "```python\n",
    "def idx_find_primary(idx, code, scope, table, primary) -> [int, Union[int, float, float128]]\n",
    "```\n",
    "\n",
    "return [iter, secondary]\n",
    "\n",
    "```\n",
    "if idx == db.idx64 or idx == db.idx128 or idx == db.idx256:\n",
    "    secondary is an int type\n",
    "elif idx == db.idx_double\n",
    "    secondary is an float type\n",
    "elif idx == db.idx_long_double:\n",
    "    secondary is an float128 type\n",
    "```"
   ]
  },
  {
   "cell_type": "code",
   "execution_count": 17,
   "metadata": {},
   "outputs": [
    {
     "name": "stdout",
     "output_type": "stream",
     "text": [
      "0 16514440898579267584\r\n",
      "\n"
     ]
    }
   ],
   "source": [
    "code = '''\n",
    "import db\n",
    "import chain\n",
    "def apply(receiver, code, action):\n",
    "    code = receiver\n",
    "    scope = 'scope'\n",
    "    table = 'table'\n",
    "    payer = receiver\n",
    "    primary = 'hello'\n",
    "    itr, secondary = chain.db_idx_find_primary(db.idx64, code, scope, table, primary)\n",
    "    print(itr, secondary)\n",
    "'''\n",
    "\n",
    "code = uuosapi.mp_compile(python_contract, code)\n",
    "\n",
    "uuosapi.deploy_python_code(python_contract, code, deploy_type=1)\n",
    "r = uuosapi.push_action(python_contract, 'sayhello', b'hello,world', {python_contract:'active'})\n",
    "print(r['processed']['action_traces'][0]['console'])\n"
   ]
  },
  {
   "cell_type": "markdown",
   "metadata": {},
   "source": [
    "### idx_find_secondary\n",
    "\n",
    "```python\n",
    "def idx_find_secondary(idx, code, scope, table, secondary) -> [int, int]\n",
    "```\n",
    "\n",
    "return [iter, primary]"
   ]
  },
  {
   "cell_type": "code",
   "execution_count": 18,
   "metadata": {},
   "outputs": [
    {
     "name": "stdout",
     "output_type": "stream",
     "text": [
      "0 hello\r\n",
      "\n"
     ]
    }
   ],
   "source": [
    "code = '''\n",
    "import db\n",
    "import chain\n",
    "def apply(receiver, code, action):\n",
    "    code = receiver\n",
    "    scope = 'scope'\n",
    "    table = 'table'\n",
    "    payer = receiver\n",
    "    secondary = chain.s2n('world')\n",
    "    itr, primary = chain.db_idx_find_secondary(db.idx64, code, scope, table, secondary)\n",
    "    print(itr, chain.n2s(primary))\n",
    "'''\n",
    "\n",
    "code = uuosapi.mp_compile(python_contract, code)\n",
    "\n",
    "uuosapi.deploy_python_code(python_contract, code, deploy_type=1)\n",
    "r = uuosapi.push_action(python_contract, 'sayhello', b'hello,world', {python_contract:'active'})\n",
    "print(r['processed']['action_traces'][0]['console'])\n"
   ]
  },
  {
   "cell_type": "markdown",
   "metadata": {},
   "source": [
    "### idx_update\n",
    "\n",
    "```python\n",
    "def idx_update(idx, iterator, payer, secondary)\n",
    "```\n"
   ]
  },
  {
   "cell_type": "code",
   "execution_count": 21,
   "metadata": {},
   "outputs": [
    {
     "name": "stdout",
     "output_type": "stream",
     "text": [
      "0\r\n",
      "123\r\n",
      "\n"
     ]
    }
   ],
   "source": [
    "code = '''\n",
    "import db\n",
    "import chain\n",
    "def apply(receiver, code, action):\n",
    "    code = receiver\n",
    "    scope = 'scope'\n",
    "    table = 'table'\n",
    "    payer = receiver\n",
    "    primary = 'hello'\n",
    "    \n",
    "    itr, secondary = chain.db_idx_find_primary(db.idx64, code, scope, table, primary)\n",
    "    print(itr)\n",
    "    if itr < 0:\n",
    "        chain.db_idx_store(db.idx64, scope, table, payer, primary, b'world')\n",
    "    else:\n",
    "        data = chain.read_action_data()\n",
    "        secondary = int.from_bytes(data, 'little')\n",
    "        chain.db_idx_update(db.idx64, itr, payer, secondary)\n",
    "        print(secondary)\n",
    "'''\n",
    "\n",
    "code = uuosapi.mp_compile(python_contract, code)\n",
    "\n",
    "uuosapi.deploy_python_code(python_contract, code, deploy_type=1)\n",
    "args = int.to_bytes(123, 8, 'little')\n",
    "r = uuosapi.push_action(python_contract, 'sayhello', args, {python_contract:'active'})\n",
    "print(r['processed']['action_traces'][0]['console'])\n",
    "\n"
   ]
  },
  {
   "cell_type": "markdown",
   "metadata": {},
   "source": [
    "### idx_lowerbound\n",
    "\n",
    "```python\n",
    "def idx_lowerbound(idx, code, scope, table) -> [int, int, Union[int, float, float128]]\n",
    "```\n",
    "\n",
    "return [iter, primary, secondary]\n",
    "\n",
    "### idx_upperbound\n",
    "\n",
    "```python\n",
    "def idx_upperbound(idx, code, scope, table) -> [int, int, Union[int, float, float128]]\n",
    "```\n",
    "\n",
    "return [iter, primary, secondary]\n"
   ]
  },
  {
   "cell_type": "code",
   "execution_count": 22,
   "metadata": {},
   "outputs": [
    {
     "name": "stdout",
     "output_type": "stream",
     "text": [
      "destroy done!\n",
      "\n",
      "init done!\n",
      "\n"
     ]
    }
   ],
   "source": [
    "abi = ''\n",
    "code = '''\n",
    "import db\n",
    "import chain\n",
    "def apply(receiver, code, action):\n",
    "    code = receiver\n",
    "    scope = 'scope'\n",
    "    table = 'table'\n",
    "    payer = receiver\n",
    "    data = chain.read_action_data()\n",
    "    if action == name('destroy'):\n",
    "        while True:\n",
    "            itr = chain.db_idx_end(db.idx64, code, scope, table)\n",
    "            if itr == -1:\n",
    "                break\n",
    "            itr, primary = chain.db_idx_previous(db.idx64, itr)\n",
    "            if itr < 0:\n",
    "                break\n",
    "            chain.db_idx_remove(db.idx64, itr)\n",
    "        print('destroy done!')\n",
    "    elif action == name('initdb'):\n",
    "        chain.db_idx_store(db.idx64, scope, table, payer, 11, 1)\n",
    "        chain.db_idx_store(db.idx64, scope, table, payer, 13, 3)\n",
    "        chain.db_idx_store(db.idx64, scope, table, payer, 15, 5)\n",
    "        chain.db_idx_store(db.idx64, scope, table, payer, 17, 7)\n",
    "        print('init done!')\n",
    "    elif action == name('test'):\n",
    "        itr, primary, secondary = chain.db_idx_upperbound(db.idx64, code, scope, table, 3)\n",
    "        print('upperbound of 3:', primary, secondary)\n",
    "\n",
    "        itr, primary, secondary = chain.db_idx_upperbound(db.idx64, code, scope, table, 2)\n",
    "        print('upperbound of 2:', primary, secondary)\n",
    "\n",
    "        itr, primary, secondary = chain.db_idx_lowerbound(db.idx64, code, scope, table, 3)\n",
    "        print('lowerbound of 3:', primary, secondary)\n",
    "\n",
    "        itr, primary, secondary = chain.db_idx_lowerbound(db.idx64, code, scope, table, 2)\n",
    "        print('lowerbound of 2:', primary, secondary)\n",
    "'''\n",
    "\n",
    "code = uuosapi.mp_compile(python_contract, code)\n",
    "\n",
    "uuosapi.deploy_python_code(python_contract, code, deploy_type=1)\n",
    "\n",
    "r = uuosapi.push_action(python_contract, 'destroy', b'', {python_contract:'active'})\n",
    "print(r['processed']['action_traces'][0]['console'])\n",
    "\n",
    "r = uuosapi.push_action(python_contract, 'initdb', b'', {python_contract:'active'})\n",
    "print(r['processed']['action_traces'][0]['console'])\n"
   ]
  },
  {
   "cell_type": "code",
   "execution_count": 25,
   "metadata": {},
   "outputs": [
    {
     "name": "stdout",
     "output_type": "stream",
     "text": [
      "upperbound of 3: 15 5\r\n",
      "upperbound of 2: 13 3\r\n",
      "lowerbound of 3: 13 3\r\n",
      "lowerbound of 2: 13 3\r\n",
      "\n"
     ]
    }
   ],
   "source": [
    "r = uuosapi.push_action(python_contract, 'test', b'', {python_contract:'active'})\n",
    "print(r['processed']['action_traces'][0]['console'])\n"
   ]
  },
  {
   "cell_type": "markdown",
   "metadata": {},
   "source": [
    "\n",
    "### idx_remove\n",
    "\n",
    "```python\n",
    "void idx_remove(iterator: int) -> int\n",
    "```\n",
    "\n",
    "### idx_next\n",
    "\n",
    "```python\n",
    "def idx_next(iterator: int) -> [int, int]\n",
    "```\n",
    "\n",
    "return [iter, primary]\n",
    "\n",
    "### idx_previous\n",
    "\n",
    "```python\n",
    "def idx_previous(iterator: int, primary: int) -> [int, int]\n",
    "```\n",
    "\n",
    "return [iterator, primary]\n",
    "\n",
    "\n",
    "### idx_end\n",
    "\n",
    "```python\n",
    "def idx_end(code, scope, table) -> int\n",
    "```"
   ]
  },
  {
   "cell_type": "code",
   "execution_count": 26,
   "metadata": {},
   "outputs": [
    {
     "name": "stdout",
     "output_type": "stream",
     "text": [
      "destroy done!\n",
      "\n",
      "init done!\n",
      "\n"
     ]
    }
   ],
   "source": [
    "abi = ''\n",
    "code = '''\n",
    "import db\n",
    "import chain\n",
    "def apply(receiver, code, action):\n",
    "    code = receiver\n",
    "    scope = 'scope'\n",
    "    table = 'table'\n",
    "    payer = receiver\n",
    "    id = 'hello'\n",
    "    data = chain.read_action_data()\n",
    "    if action == name('destroy'):\n",
    "        while True:\n",
    "            itr = chain.db_end_i64(code, scope, table)\n",
    "            if itr == -1:\n",
    "                break\n",
    "            itr, primary = chain.db_previous_i64(itr)\n",
    "            if itr < 0:\n",
    "                break\n",
    "            chain.db_remove_i64(itr)\n",
    "\n",
    "        while True:\n",
    "            itr = chain.db_idx_end(db.idx64, code, scope, table)\n",
    "            if itr == -1:\n",
    "                break\n",
    "            itr, primary = chain.db_idx_previous(db.idx64, itr)\n",
    "            if itr < 0:\n",
    "                break\n",
    "            chain.db_idx_remove(db.idx64, itr)\n",
    "        print('destroy done!')\n",
    "    elif action == name('initdb'):\n",
    "        chain.db_idx_store(db.idx64, scope, table, payer, 11, 1)\n",
    "        chain.db_idx_store(db.idx64, scope, table, payer, 13, 3)\n",
    "        chain.db_idx_store(db.idx64, scope, table, payer, 15, 5)\n",
    "        chain.db_idx_store(db.idx64, scope, table, payer, 17, 7)\n",
    "        print('init done!')\n",
    "    elif action == name('test'):\n",
    "        itr, primary, secondary = chain.db_idx_upperbound(db.idx64, code, scope, table, 3)\n",
    "        print('upperbound of 3:', primary, secondary)\n",
    "\n",
    "        itr, primary, secondary = chain.db_idx_upperbound(db.idx64, code, scope, table, 2)\n",
    "        print('upperbound of 2:', primary, secondary)\n",
    "\n",
    "        itr, primary, secondary = chain.db_idx_lowerbound(db.idx64, code, scope, table, 3)\n",
    "        print('lowerbound of 3:', primary, secondary)\n",
    "\n",
    "        itr, primary, secondary = chain.db_idx_lowerbound(db.idx64, code, scope, table, 2)\n",
    "        print('lowerbound of 2:', primary, secondary)\n",
    "'''\n",
    "\n",
    "code = uuosapi.mp_compile(python_contract, code)\n",
    "\n",
    "uuosapi.deploy_python_code(python_contract, code, deploy_type=1)\n",
    "\n",
    "r = uuosapi.push_action(python_contract, 'destroy', b'', {python_contract:'active'})\n",
    "print(r['processed']['action_traces'][0]['console'])\n",
    "\n",
    "r = uuosapi.push_action(python_contract, 'initdb', b'', {python_contract:'active'})\n",
    "print(r['processed']['action_traces'][0]['console'])\n"
   ]
  },
  {
   "cell_type": "code",
   "execution_count": 27,
   "metadata": {},
   "outputs": [
    {
     "name": "stdout",
     "output_type": "stream",
     "text": [
      "upperbound of 3: 15 5\r\n",
      "upperbound of 2: 13 3\r\n",
      "lowerbound of 3: 13 3\r\n",
      "lowerbound of 2: 13 3\r\n",
      "\n"
     ]
    }
   ],
   "source": [
    "r = uuosapi.push_action(python_contract, 'test', b'', {python_contract:'active'})\n",
    "print(r['processed']['action_traces'][0]['console'])\n"
   ]
  }
 ],
 "metadata": {
  "kernelspec": {
   "display_name": "Python 3",
   "language": "python",
   "name": "python3"
  },
  "language_info": {
   "codemirror_mode": {
    "name": "ipython",
    "version": 3
   },
   "file_extension": ".py",
   "mimetype": "text/x-python",
   "name": "python",
   "nbconvert_exporter": "python",
   "pygments_lexer": "ipython3",
   "version": "3.7.4"
  }
 },
 "nbformat": 4,
 "nbformat_minor": 2
}
