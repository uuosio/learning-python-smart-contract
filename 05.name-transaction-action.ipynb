{
 "cells": [
  {
   "cell_type": "markdown",
   "metadata": {},
   "source": [
    "### EOSIO account name/authority name/table name\n",
    "\n",
    "- > The account name consists of up to 12 characters, and the permission name/table name is up to 13 characters\n",
    "\n",
    "- > Allowed characters: .12345abcdefghijklmnopqrstuvwxyz\n",
    "\n",
    "- > The account name will be converted into a 64-bit unsigned integer"
   ]
  },
  {
   "cell_type": "markdown",
   "metadata": {},
   "source": [
    "[libraries/chain/include/eosio/chain/name.hpp](https://github.com/EOSIO/eos/blob/5082391c60b0fa5e68157c385cd402bf25aea934/libraries/chain/include/eosio/chain/name.hpp#L42)"
   ]
  },
  {
   "cell_type": "markdown",
   "metadata": {},
   "source": [
    "```c++\n",
    "   struct name {\n",
    "      uint64_t value = 0;\n",
    "      bool empty()const { return 0 == value; }\n",
    "      bool good()const  { return !empty();   }\n",
    "\n",
    "      name( const char* str )   { set(str);           } \n",
    "      name( const string& str ) { set( str.c_str() ); }\n",
    "...\n",
    "   }\n",
    "```"
   ]
  },
  {
   "cell_type": "markdown",
   "metadata": {},
   "source": [
    "[libraries/chain/include/eosio/chain/types.hpp](https://github.com/EOSIO/eos/blob/5082391c60b0fa5e68157c385cd402bf25aea934/libraries/chain/include/eosio/chain/types.hpp#L133)"
   ]
  },
  {
   "cell_type": "markdown",
   "metadata": {},
   "source": [
    "```c++\n",
    "   using action_name      = name;\n",
    "   using scope_name       = name;\n",
    "   using account_name     = name;\n",
    "   using permission_name  = name;\n",
    "   using table_name       = name;\n",
    "```"
   ]
  },
  {
   "cell_type": "markdown",
   "metadata": {},
   "source": [
    "[libraries/chain/include/eosio/chain/transaction.hpp](https://github.com/EOSIO/eos/blob/5082391c60b0fa5e68157c385cd402bf25aea934/libraries/chain/include/eosio/chain/transaction.hpp#L30)\n"
   ]
  },
  {
   "cell_type": "markdown",
   "metadata": {},
   "source": [
    "```c++\n",
    "struct transaction_header {\n",
    "      time_point_sec         expiration;   ///< the time at which a transaction expires\n",
    "      uint16_t               ref_block_num       = 0U; ///< specifies a block num in the last 2^16 blocks.\n",
    "      uint32_t               ref_block_prefix    = 0UL; ///< specifies the lower 32 bits of the blockid at get_ref_blocknum\n",
    "      fc::unsigned_int       max_net_usage_words = 0UL; /// upper limit on total network bandwidth (in 8 byte words) billed for this transaction\n",
    "      uint8_t                max_cpu_usage_ms    = 0; /// upper limit on the total CPU time billed for this transaction\n",
    "      fc::unsigned_int       delay_sec           = 0UL; /// number of seconds to delay this transaction for during which it may be canceled.\n",
    "\n",
    "...\n",
    "   };\n",
    "\n",
    "   struct transaction : public transaction_header {\n",
    "      vector<action>         context_free_actions;\n",
    "      vector<action>         actions;\n",
    "      extensions_type        transaction_extensions;\n",
    "...\n",
    "   };\n",
    "```"
   ]
  },
  {
   "cell_type": "markdown",
   "metadata": {},
   "source": [
    "[libraries/chain/include/eosio/chain/action.hpp](https://github.com/EOSIO/eos/blob/5082391c60b0fa5e68157c385cd402bf25aea934/libraries/chain/include/eosio/chain/action.hpp#L60)"
   ]
  },
  {
   "cell_type": "markdown",
   "metadata": {},
   "source": [
    "```c++\n",
    "   struct action {\n",
    "      account_name               account;\n",
    "      action_name                name;\n",
    "      vector<permission_level>   authorization;\n",
    "      bytes                      data;\n",
    "...\n",
    "   }\n",
    "```"
   ]
  },
  {
   "cell_type": "code",
   "execution_count": 1,
   "metadata": {},
   "outputs": [],
   "source": [
    "from init import *"
   ]
  },
  {
   "cell_type": "markdown",
   "metadata": {},
   "source": [
    "# push_action"
   ]
  },
  {
   "cell_type": "code",
   "execution_count": 2,
   "metadata": {},
   "outputs": [
    {
     "data": {
      "text/plain": [
       "77.6793"
      ]
     },
     "execution_count": 2,
     "metadata": {},
     "output_type": "execute_result"
    }
   ],
   "source": [
    "uuosapi.get_balance(test_account1)"
   ]
  },
  {
   "cell_type": "code",
   "execution_count": 3,
   "metadata": {},
   "outputs": [],
   "source": [
    "args = {'from':test_account1, 'to':'eosio', 'quantity':'0.1000 TNT', 'memo':'hello,world'}\n",
    "r = uuosapi.push_action('eosio.token', 'transfer', args, {test_account1:'active'})"
   ]
  },
  {
   "cell_type": "code",
   "execution_count": 4,
   "metadata": {
    "scrolled": true
   },
   "outputs": [
    {
     "data": {
      "text/plain": [
       "77.5793"
      ]
     },
     "execution_count": 4,
     "metadata": {},
     "output_type": "execute_result"
    }
   ],
   "source": [
    "uuosapi.get_balance(test_account1)"
   ]
  },
  {
   "cell_type": "markdown",
   "metadata": {},
   "source": [
    "# push_actions"
   ]
  },
  {
   "cell_type": "code",
   "execution_count": 5,
   "metadata": {},
   "outputs": [
    {
     "data": {
      "text/plain": [
       "77.5793"
      ]
     },
     "execution_count": 5,
     "metadata": {},
     "output_type": "execute_result"
    }
   ],
   "source": [
    "uuosapi.get_balance(test_account1)"
   ]
  },
  {
   "cell_type": "code",
   "execution_count": 6,
   "metadata": {},
   "outputs": [],
   "source": [
    "aa = []\n",
    "args = {'from':test_account1, 'to':'eosio', 'quantity':f'0.1000 {config.main_token}', 'memo':'hello,world'}\n",
    "a = ['eosio.token', 'transfer', args, {test_account1:'active'}]\n",
    "aa.append(a)\n",
    "\n",
    "args = {'from':test_account1, 'to':'eosio', 'quantity':f'0.2000 {config.main_token}', 'memo':'hello,world'}\n",
    "a = ['eosio.token', 'transfer', args, {test_account1:'active'}]\n",
    "aa.append(a)\n",
    "\n",
    "r = uuosapi.push_actions(aa)"
   ]
  },
  {
   "cell_type": "code",
   "execution_count": 7,
   "metadata": {},
   "outputs": [
    {
     "data": {
      "text/plain": [
       "77.2793"
      ]
     },
     "execution_count": 7,
     "metadata": {},
     "output_type": "execute_result"
    }
   ],
   "source": [
    "uuosapi.get_balance(test_account1)"
   ]
  },
  {
   "cell_type": "markdown",
   "metadata": {},
   "source": [
    "# push_transaction"
   ]
  },
  {
   "cell_type": "code",
   "execution_count": null,
   "metadata": {},
   "outputs": [],
   "source": []
  },
  {
   "cell_type": "markdown",
   "metadata": {},
   "source": [
    "# push_transactions"
   ]
  },
  {
   "cell_type": "code",
   "execution_count": 9,
   "metadata": {},
   "outputs": [
    {
     "data": {
      "text/plain": [
       "77.2793"
      ]
     },
     "execution_count": 9,
     "metadata": {},
     "output_type": "execute_result"
    }
   ],
   "source": [
    "uuosapi.get_balance(test_account1)"
   ]
  },
  {
   "cell_type": "code",
   "execution_count": 10,
   "metadata": {},
   "outputs": [
    {
     "data": {
      "text/plain": [
       "'TNT'"
      ]
     },
     "execution_count": 10,
     "metadata": {},
     "output_type": "execute_result"
    }
   ],
   "source": [
    "config.main_token"
   ]
  },
  {
   "cell_type": "code",
   "execution_count": 11,
   "metadata": {},
   "outputs": [
    {
     "data": {
      "text/plain": [
       "[{'transaction_id': '80c8ebdc88033bf4bef321c6ac2bf580732c202d9ce85c84e7e168d3a0b0b8ee',\n",
       "  'processed': {'id': '80c8ebdc88033bf4bef321c6ac2bf580732c202d9ce85c84e7e168d3a0b0b8ee',\n",
       "   'block_num': 44475282,\n",
       "   'block_time': '2021-01-06T07:40:22.500',\n",
       "   'producer_block_id': None,\n",
       "   'receipt': {'status': 'executed',\n",
       "    'cpu_usage_us': 409,\n",
       "    'net_usage_words': 27},\n",
       "   'elapsed': 409,\n",
       "   'net_usage': 216,\n",
       "   'scheduled': False,\n",
       "   'action_traces': [{'action_ordinal': 1,\n",
       "     'creator_action_ordinal': 0,\n",
       "     'closest_unnotified_ancestor_action_ordinal': 0,\n",
       "     'receipt': {'receiver': 'eosio.token',\n",
       "      'act_digest': '4c8f687d46d7c72792e6a7aadde5dc7735a9a1e98e28444844fa79906adbe017',\n",
       "      'global_sequence': 54861045,\n",
       "      'recv_sequence': 61319,\n",
       "      'auth_sequence': [['wkpmdjdsztyu', 2077]],\n",
       "      'code_sequence': 1,\n",
       "      'abi_sequence': 1},\n",
       "     'receiver': 'eosio.token',\n",
       "     'act': {'account': 'eosio.token',\n",
       "      'name': 'transfer',\n",
       "      'authorization': [{'actor': 'wkpmdjdsztyu', 'permission': 'active'}],\n",
       "      'data': {'from': 'wkpmdjdsztyu',\n",
       "       'to': 'eosio',\n",
       "       'quantity': '0.1000 TNT',\n",
       "       'memo': 'hello,world'},\n",
       "      'hex_data': 'a07dfe38bd242be40000000000ea3055e80300000000000004544e54000000000b68656c6c6f2c776f726c64'},\n",
       "     'context_free': False,\n",
       "     'elapsed': 119,\n",
       "     'console': '',\n",
       "     'trx_id': '80c8ebdc88033bf4bef321c6ac2bf580732c202d9ce85c84e7e168d3a0b0b8ee',\n",
       "     'block_num': 44475282,\n",
       "     'block_time': '2021-01-06T07:40:22.500',\n",
       "     'producer_block_id': None,\n",
       "     'account_ram_deltas': [],\n",
       "     'except': None,\n",
       "     'error_code': None,\n",
       "     'inline_traces': [{'action_ordinal': 3,\n",
       "       'creator_action_ordinal': 1,\n",
       "       'closest_unnotified_ancestor_action_ordinal': 1,\n",
       "       'receipt': {'receiver': 'wkpmdjdsztyu',\n",
       "        'act_digest': '4c8f687d46d7c72792e6a7aadde5dc7735a9a1e98e28444844fa79906adbe017',\n",
       "        'global_sequence': 54861046,\n",
       "        'recv_sequence': 57,\n",
       "        'auth_sequence': [['wkpmdjdsztyu', 2078]],\n",
       "        'code_sequence': 1,\n",
       "        'abi_sequence': 1},\n",
       "       'receiver': 'wkpmdjdsztyu',\n",
       "       'act': {'account': 'eosio.token',\n",
       "        'name': 'transfer',\n",
       "        'authorization': [{'actor': 'wkpmdjdsztyu', 'permission': 'active'}],\n",
       "        'data': {'from': 'wkpmdjdsztyu',\n",
       "         'to': 'eosio',\n",
       "         'quantity': '0.1000 TNT',\n",
       "         'memo': 'hello,world'},\n",
       "        'hex_data': 'a07dfe38bd242be40000000000ea3055e80300000000000004544e54000000000b68656c6c6f2c776f726c64'},\n",
       "       'context_free': False,\n",
       "       'elapsed': 2,\n",
       "       'console': '',\n",
       "       'trx_id': '80c8ebdc88033bf4bef321c6ac2bf580732c202d9ce85c84e7e168d3a0b0b8ee',\n",
       "       'block_num': 44475282,\n",
       "       'block_time': '2021-01-06T07:40:22.500',\n",
       "       'producer_block_id': None,\n",
       "       'account_ram_deltas': [],\n",
       "       'except': None,\n",
       "       'error_code': None,\n",
       "       'inline_traces': []},\n",
       "      {'action_ordinal': 4,\n",
       "       'creator_action_ordinal': 1,\n",
       "       'closest_unnotified_ancestor_action_ordinal': 1,\n",
       "       'receipt': {'receiver': 'eosio',\n",
       "        'act_digest': '4c8f687d46d7c72792e6a7aadde5dc7735a9a1e98e28444844fa79906adbe017',\n",
       "        'global_sequence': 54861047,\n",
       "        'recv_sequence': 44512481,\n",
       "        'auth_sequence': [['wkpmdjdsztyu', 2079]],\n",
       "        'code_sequence': 1,\n",
       "        'abi_sequence': 1},\n",
       "       'receiver': 'eosio',\n",
       "       'act': {'account': 'eosio.token',\n",
       "        'name': 'transfer',\n",
       "        'authorization': [{'actor': 'wkpmdjdsztyu', 'permission': 'active'}],\n",
       "        'data': {'from': 'wkpmdjdsztyu',\n",
       "         'to': 'eosio',\n",
       "         'quantity': '0.1000 TNT',\n",
       "         'memo': 'hello,world'},\n",
       "        'hex_data': 'a07dfe38bd242be40000000000ea3055e80300000000000004544e54000000000b68656c6c6f2c776f726c64'},\n",
       "       'context_free': False,\n",
       "       'elapsed': 14,\n",
       "       'console': '',\n",
       "       'trx_id': '80c8ebdc88033bf4bef321c6ac2bf580732c202d9ce85c84e7e168d3a0b0b8ee',\n",
       "       'block_num': 44475282,\n",
       "       'block_time': '2021-01-06T07:40:22.500',\n",
       "       'producer_block_id': None,\n",
       "       'account_ram_deltas': [],\n",
       "       'except': None,\n",
       "       'error_code': None,\n",
       "       'inline_traces': []}]},\n",
       "    {'action_ordinal': 2,\n",
       "     'creator_action_ordinal': 0,\n",
       "     'closest_unnotified_ancestor_action_ordinal': 0,\n",
       "     'receipt': {'receiver': 'eosio.token',\n",
       "      'act_digest': 'f3db532b0715acc9e8c4aa22b154689fe794c8b2e0efbc618b2f3dc2accc61cc',\n",
       "      'global_sequence': 54861048,\n",
       "      'recv_sequence': 61320,\n",
       "      'auth_sequence': [['wkpmdjdsztyu', 2080]],\n",
       "      'code_sequence': 1,\n",
       "      'abi_sequence': 1},\n",
       "     'receiver': 'eosio.token',\n",
       "     'act': {'account': 'eosio.token',\n",
       "      'name': 'transfer',\n",
       "      'authorization': [{'actor': 'wkpmdjdsztyu', 'permission': 'active'}],\n",
       "      'data': {'from': 'wkpmdjdsztyu',\n",
       "       'to': 'eosio',\n",
       "       'quantity': '0.2000 TNT',\n",
       "       'memo': 'hello,world'},\n",
       "      'hex_data': 'a07dfe38bd242be40000000000ea3055d00700000000000004544e54000000000b68656c6c6f2c776f726c64'},\n",
       "     'context_free': False,\n",
       "     'elapsed': 50,\n",
       "     'console': '',\n",
       "     'trx_id': '80c8ebdc88033bf4bef321c6ac2bf580732c202d9ce85c84e7e168d3a0b0b8ee',\n",
       "     'block_num': 44475282,\n",
       "     'block_time': '2021-01-06T07:40:22.500',\n",
       "     'producer_block_id': None,\n",
       "     'account_ram_deltas': [],\n",
       "     'except': None,\n",
       "     'error_code': None,\n",
       "     'inline_traces': [{'action_ordinal': 5,\n",
       "       'creator_action_ordinal': 2,\n",
       "       'closest_unnotified_ancestor_action_ordinal': 2,\n",
       "       'receipt': {'receiver': 'wkpmdjdsztyu',\n",
       "        'act_digest': 'f3db532b0715acc9e8c4aa22b154689fe794c8b2e0efbc618b2f3dc2accc61cc',\n",
       "        'global_sequence': 54861049,\n",
       "        'recv_sequence': 58,\n",
       "        'auth_sequence': [['wkpmdjdsztyu', 2081]],\n",
       "        'code_sequence': 1,\n",
       "        'abi_sequence': 1},\n",
       "       'receiver': 'wkpmdjdsztyu',\n",
       "       'act': {'account': 'eosio.token',\n",
       "        'name': 'transfer',\n",
       "        'authorization': [{'actor': 'wkpmdjdsztyu', 'permission': 'active'}],\n",
       "        'data': {'from': 'wkpmdjdsztyu',\n",
       "         'to': 'eosio',\n",
       "         'quantity': '0.2000 TNT',\n",
       "         'memo': 'hello,world'},\n",
       "        'hex_data': 'a07dfe38bd242be40000000000ea3055d00700000000000004544e54000000000b68656c6c6f2c776f726c64'},\n",
       "       'context_free': False,\n",
       "       'elapsed': 2,\n",
       "       'console': '',\n",
       "       'trx_id': '80c8ebdc88033bf4bef321c6ac2bf580732c202d9ce85c84e7e168d3a0b0b8ee',\n",
       "       'block_num': 44475282,\n",
       "       'block_time': '2021-01-06T07:40:22.500',\n",
       "       'producer_block_id': None,\n",
       "       'account_ram_deltas': [],\n",
       "       'except': None,\n",
       "       'error_code': None,\n",
       "       'inline_traces': []},\n",
       "      {'action_ordinal': 6,\n",
       "       'creator_action_ordinal': 2,\n",
       "       'closest_unnotified_ancestor_action_ordinal': 2,\n",
       "       'receipt': {'receiver': 'eosio',\n",
       "        'act_digest': 'f3db532b0715acc9e8c4aa22b154689fe794c8b2e0efbc618b2f3dc2accc61cc',\n",
       "        'global_sequence': 54861050,\n",
       "        'recv_sequence': 44512482,\n",
       "        'auth_sequence': [['wkpmdjdsztyu', 2082]],\n",
       "        'code_sequence': 1,\n",
       "        'abi_sequence': 1},\n",
       "       'receiver': 'eosio',\n",
       "       'act': {'account': 'eosio.token',\n",
       "        'name': 'transfer',\n",
       "        'authorization': [{'actor': 'wkpmdjdsztyu', 'permission': 'active'}],\n",
       "        'data': {'from': 'wkpmdjdsztyu',\n",
       "         'to': 'eosio',\n",
       "         'quantity': '0.2000 TNT',\n",
       "         'memo': 'hello,world'},\n",
       "        'hex_data': 'a07dfe38bd242be40000000000ea3055d00700000000000004544e54000000000b68656c6c6f2c776f726c64'},\n",
       "       'context_free': False,\n",
       "       'elapsed': 4,\n",
       "       'console': '',\n",
       "       'trx_id': '80c8ebdc88033bf4bef321c6ac2bf580732c202d9ce85c84e7e168d3a0b0b8ee',\n",
       "       'block_num': 44475282,\n",
       "       'block_time': '2021-01-06T07:40:22.500',\n",
       "       'producer_block_id': None,\n",
       "       'account_ram_deltas': [],\n",
       "       'except': None,\n",
       "       'error_code': None,\n",
       "       'inline_traces': []}]}],\n",
       "   'account_ram_delta': None,\n",
       "   'except': None,\n",
       "   'error_code': None}},\n",
       " {'transaction_id': '0000000000000000000000000000000000000000000000000000000000000000',\n",
       "  'processed': {'error': '3040008 tx_duplicate: Duplicate transaction\\nduplicate transaction 80c8ebdc88033bf4bef321c6ac2bf580732c202d9ce85c84e7e168d3a0b0b8ee\\n    {\"id\":\"80c8ebdc88033bf4bef321c6ac2bf580732c202d9ce85c84e7e168d3a0b0b8ee\"}\\n    nodeos  producer_plugin.cpp:549 process_incoming_transaction_async\\n'}}]"
      ]
     },
     "execution_count": 11,
     "metadata": {},
     "output_type": "execute_result"
    }
   ],
   "source": [
    "aa = []\n",
    "args = {'from':test_account1, 'to':'eosio', 'quantity':f'0.1000 {config.main_token}', 'memo':'hello,world'}\n",
    "a = ['eosio.token', 'transfer', args, {test_account1:'active'}]\n",
    "aa.append(a)\n",
    "\n",
    "args = {'from':test_account1, 'to':'eosio', 'quantity':f'0.2000 {config.main_token}', 'memo':'hello,world'}\n",
    "a = ['eosio.token', 'transfer', args, {test_account1:'active'}]\n",
    "aa.append(a)\n",
    "\n",
    "\n",
    "bb = []\n",
    "args = {'from':test_account1, 'to':'eosio', 'quantity':f'0.1000 {config.main_token}', 'memo':'hello,world'}\n",
    "a = ['eosio.token', 'transfer', args, {test_account1:'active'}]\n",
    "bb.append(a)\n",
    "\n",
    "args = {'from':test_account1, 'to':'eosio', 'quantity':f'0.2000 {config.main_token}', 'memo':'hello,world'}\n",
    "a = ['eosio.token', 'transfer', args, {test_account1:'active'}]\n",
    "bb.append(a)\n",
    "\n",
    "\n",
    "uuosapi.push_transactions([aa, bb])"
   ]
  },
  {
   "cell_type": "code",
   "execution_count": 12,
   "metadata": {},
   "outputs": [
    {
     "data": {
      "text/plain": [
       "76.9793"
      ]
     },
     "execution_count": 12,
     "metadata": {},
     "output_type": "execute_result"
    }
   ],
   "source": [
    "uuosapi.get_balance(test_account1)"
   ]
  }
 ],
 "metadata": {
  "kernelspec": {
   "display_name": "Python 3",
   "language": "python",
   "name": "python3"
  },
  "language_info": {
   "codemirror_mode": {
    "name": "ipython",
    "version": 3
   },
   "file_extension": ".py",
   "mimetype": "text/x-python",
   "name": "python",
   "nbconvert_exporter": "python",
   "pygments_lexer": "ipython3",
   "version": "3.7.4"
  }
 },
 "nbformat": 4,
 "nbformat_minor": 2
}
