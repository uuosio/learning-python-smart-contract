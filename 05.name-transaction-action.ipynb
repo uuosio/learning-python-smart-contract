{
 "cells": [
  {
   "cell_type": "markdown",
   "metadata": {},
   "source": [
    "### EOSIO account name/authority name/table name\n",
    "\n",
    "- > The account name consists of up to 12 characters, and the permission name/table name is up to 13 characters\n",
    "\n",
    "- > Allowed characters: .12345abcdefghijklmnopqrstuvwxyz\n",
    "\n",
    "- > The account name will be converted into a 64-bit unsigned integer"
   ]
  },
  {
   "cell_type": "markdown",
   "metadata": {},
   "source": [
    "[libraries/chain/include/eosio/chain/name.hpp](https://github.com/EOSIO/eos/blob/5082391c60b0fa5e68157c385cd402bf25aea934/libraries/chain/include/eosio/chain/name.hpp#L42)"
   ]
  },
  {
   "cell_type": "markdown",
   "metadata": {},
   "source": [
    "```c++\n",
    "   struct name {\n",
    "      uint64_t value = 0;\n",
    "      bool empty()const { return 0 == value; }\n",
    "      bool good()const  { return !empty();   }\n",
    "\n",
    "      name( const char* str )   { set(str);           } \n",
    "      name( const string& str ) { set( str.c_str() ); }\n",
    "...\n",
    "   }\n",
    "```"
   ]
  },
  {
   "cell_type": "markdown",
   "metadata": {},
   "source": [
    "[libraries/chain/include/eosio/chain/types.hpp](https://github.com/EOSIO/eos/blob/5082391c60b0fa5e68157c385cd402bf25aea934/libraries/chain/include/eosio/chain/types.hpp#L133)"
   ]
  },
  {
   "cell_type": "markdown",
   "metadata": {},
   "source": [
    "```c++\n",
    "   using action_name      = name;\n",
    "   using scope_name       = name;\n",
    "   using account_name     = name;\n",
    "   using permission_name  = name;\n",
    "   using table_name       = name;\n",
    "```"
   ]
  },
  {
   "cell_type": "markdown",
   "metadata": {},
   "source": [
    "[libraries/chain/include/eosio/chain/transaction.hpp](https://github.com/EOSIO/eos/blob/5082391c60b0fa5e68157c385cd402bf25aea934/libraries/chain/include/eosio/chain/transaction.hpp#L30)\n"
   ]
  },
  {
   "cell_type": "markdown",
   "metadata": {},
   "source": [
    "```c++\n",
    "struct transaction_header {\n",
    "      time_point_sec         expiration;   ///< the time at which a transaction expires\n",
    "      uint16_t               ref_block_num       = 0U; ///< specifies a block num in the last 2^16 blocks.\n",
    "      uint32_t               ref_block_prefix    = 0UL; ///< specifies the lower 32 bits of the blockid at get_ref_blocknum\n",
    "      fc::unsigned_int       max_net_usage_words = 0UL; /// upper limit on total network bandwidth (in 8 byte words) billed for this transaction\n",
    "      uint8_t                max_cpu_usage_ms    = 0; /// upper limit on the total CPU time billed for this transaction\n",
    "      fc::unsigned_int       delay_sec           = 0UL; /// number of seconds to delay this transaction for during which it may be canceled.\n",
    "\n",
    "...\n",
    "   };\n",
    "\n",
    "   struct transaction : public transaction_header {\n",
    "      vector<action>         context_free_actions;\n",
    "      vector<action>         actions;\n",
    "      extensions_type        transaction_extensions;\n",
    "...\n",
    "   };\n",
    "```"
   ]
  },
  {
   "cell_type": "markdown",
   "metadata": {},
   "source": [
    "[libraries/chain/include/eosio/chain/action.hpp](https://github.com/EOSIO/eos/blob/5082391c60b0fa5e68157c385cd402bf25aea934/libraries/chain/include/eosio/chain/action.hpp#L60)"
   ]
  },
  {
   "cell_type": "markdown",
   "metadata": {},
   "source": [
    "```c++\n",
    "   struct action {\n",
    "      account_name               account;\n",
    "      action_name                name;\n",
    "      vector<permission_level>   authorization;\n",
    "      bytes                      data;\n",
    "...\n",
    "   }\n",
    "```"
   ]
  },
  {
   "cell_type": "code",
   "execution_count": 8,
   "metadata": {},
   "outputs": [],
   "source": [
    "from init import *"
   ]
  },
  {
   "cell_type": "markdown",
   "metadata": {},
   "source": [
    "# push_action"
   ]
  },
  {
   "cell_type": "code",
   "execution_count": 30,
   "metadata": {},
   "outputs": [
    {
     "data": {
      "text/plain": [
       "100004999.9"
      ]
     },
     "execution_count": 30,
     "metadata": {},
     "output_type": "execute_result"
    }
   ],
   "source": [
    "uuosapi.get_balance(test_account1)"
   ]
  },
  {
   "cell_type": "code",
   "execution_count": 31,
   "metadata": {},
   "outputs": [],
   "source": [
    "args = {'from':test_account1, 'to':'eosio', 'quantity':'0.1000 EOS', 'memo':'hello,world'}\n",
    "r = uuosapi.push_action('eosio.token', 'transfer', args, {test_account1:'active'})"
   ]
  },
  {
   "cell_type": "code",
   "execution_count": 32,
   "metadata": {
    "scrolled": true
   },
   "outputs": [
    {
     "data": {
      "text/plain": [
       "100004999.8"
      ]
     },
     "execution_count": 32,
     "metadata": {},
     "output_type": "execute_result"
    }
   ],
   "source": [
    "uuosapi.get_balance(test_account1)"
   ]
  },
  {
   "cell_type": "markdown",
   "metadata": {},
   "source": [
    "# push_actions"
   ]
  },
  {
   "cell_type": "code",
   "execution_count": 33,
   "metadata": {},
   "outputs": [
    {
     "data": {
      "text/plain": [
       "100004999.8"
      ]
     },
     "execution_count": 33,
     "metadata": {},
     "output_type": "execute_result"
    }
   ],
   "source": [
    "uuosapi.get_balance(test_account1)"
   ]
  },
  {
   "cell_type": "code",
   "execution_count": 34,
   "metadata": {},
   "outputs": [],
   "source": [
    "aa = []\n",
    "args = {'from':test_account1, 'to':'eosio', 'quantity':f'0.1000 {config.main_token}', 'memo':'hello,world'}\n",
    "a = ['eosio.token', 'transfer', args, {test_account1:'active'}]\n",
    "aa.append(a)\n",
    "\n",
    "args = {'from':test_account1, 'to':'eosio', 'quantity':f'0.2000 {config.main_token}', 'memo':'hello,world'}\n",
    "a = ['eosio.token', 'transfer', args, {test_account1:'active'}]\n",
    "aa.append(a)\n",
    "\n",
    "r = uuosapi.push_actions(aa)"
   ]
  },
  {
   "cell_type": "code",
   "execution_count": 35,
   "metadata": {},
   "outputs": [
    {
     "data": {
      "text/plain": [
       "100004999.5"
      ]
     },
     "execution_count": 35,
     "metadata": {},
     "output_type": "execute_result"
    }
   ],
   "source": [
    "uuosapi.get_balance(test_account1)"
   ]
  },
  {
   "cell_type": "markdown",
   "metadata": {},
   "source": [
    "# push_transaction"
   ]
  },
  {
   "cell_type": "code",
   "execution_count": null,
   "metadata": {},
   "outputs": [],
   "source": []
  },
  {
   "cell_type": "markdown",
   "metadata": {},
   "source": [
    "# push_transactions"
   ]
  },
  {
   "cell_type": "code",
   "execution_count": 36,
   "metadata": {},
   "outputs": [
    {
     "data": {
      "text/plain": [
       "100004999.5"
      ]
     },
     "execution_count": 36,
     "metadata": {},
     "output_type": "execute_result"
    }
   ],
   "source": [
    "uuosapi.get_balance(test_account1)"
   ]
  },
  {
   "cell_type": "code",
   "execution_count": 37,
   "metadata": {},
   "outputs": [
    {
     "data": {
      "text/plain": [
       "'EOS'"
      ]
     },
     "execution_count": 37,
     "metadata": {},
     "output_type": "execute_result"
    }
   ],
   "source": [
    "config.main_token"
   ]
  },
  {
   "cell_type": "code",
   "execution_count": 38,
   "metadata": {},
   "outputs": [
    {
     "data": {
      "text/plain": [
       "[{'transaction_id': '8c1a0c18eb264025a1677bdf6bdc9dab0ea6c6a500698e4c57fa94e93e25d9d6',\n",
       "  'processed': {'id': '8c1a0c18eb264025a1677bdf6bdc9dab0ea6c6a500698e4c57fa94e93e25d9d6',\n",
       "   'block_num': 2674,\n",
       "   'block_time': {'slot': 332998424},\n",
       "   'producer_block_id': None,\n",
       "   'receipt': {'status': 'executed',\n",
       "    'cpu_usage_us': 395,\n",
       "    'net_usage_words': 27},\n",
       "   'elapsed': 395,\n",
       "   'net_usage': 216,\n",
       "   'scheduled': False,\n",
       "   'action_traces': [{'action_ordinal': 1,\n",
       "     'creator_action_ordinal': 0,\n",
       "     'closest_unnotified_ancestor_action_ordinal': 0,\n",
       "     'receipt': {'receiver': 'eosio.token',\n",
       "      'act_digest': '888eaa4d02a283e7ae06d0be02dae4f4004891a1622092c86d259c38c460bc92',\n",
       "      'global_sequence': 3159,\n",
       "      'recv_sequence': 115,\n",
       "      'auth_sequence': [['helloworld11', 16]],\n",
       "      'code_sequence': 1,\n",
       "      'abi_sequence': 1},\n",
       "     'receiver': 'eosio.token',\n",
       "     'act': {'account': 'eosio.token',\n",
       "      'name': 'transfer',\n",
       "      'authorization': [{'actor': 'helloworld11', 'permission': 'active'}],\n",
       "      'data': {'from': 'helloworld11',\n",
       "       'to': 'eosio',\n",
       "       'quantity': '0.1000 EOS',\n",
       "       'memo': 'hello,world'},\n",
       "      'hex_data': '10428a97721aa36a0000000000ea3055e80300000000000004454f53000000000b68656c6c6f2c776f726c64'},\n",
       "     'context_free': False,\n",
       "     'elapsed': 82,\n",
       "     'console': '',\n",
       "     'trx_id': '8c1a0c18eb264025a1677bdf6bdc9dab0ea6c6a500698e4c57fa94e93e25d9d6',\n",
       "     'block_num': 2674,\n",
       "     'block_time': {'slot': 332998424},\n",
       "     'producer_block_id': None,\n",
       "     'account_ram_deltas': [],\n",
       "     'account_disk_deltas': [],\n",
       "     'except': None,\n",
       "     'error_code': None,\n",
       "     'return_value_hex_data': '',\n",
       "     'inline_traces': [{'action_ordinal': 3,\n",
       "       'creator_action_ordinal': 1,\n",
       "       'closest_unnotified_ancestor_action_ordinal': 1,\n",
       "       'receipt': {'receiver': 'helloworld11',\n",
       "        'act_digest': '888eaa4d02a283e7ae06d0be02dae4f4004891a1622092c86d259c38c460bc92',\n",
       "        'global_sequence': 3160,\n",
       "        'recv_sequence': 11,\n",
       "        'auth_sequence': [['helloworld11', 17]],\n",
       "        'code_sequence': 1,\n",
       "        'abi_sequence': 1},\n",
       "       'receiver': 'helloworld11',\n",
       "       'act': {'account': 'eosio.token',\n",
       "        'name': 'transfer',\n",
       "        'authorization': [{'actor': 'helloworld11', 'permission': 'active'}],\n",
       "        'data': {'from': 'helloworld11',\n",
       "         'to': 'eosio',\n",
       "         'quantity': '0.1000 EOS',\n",
       "         'memo': 'hello,world'},\n",
       "        'hex_data': '10428a97721aa36a0000000000ea3055e80300000000000004454f53000000000b68656c6c6f2c776f726c64'},\n",
       "       'context_free': False,\n",
       "       'elapsed': 4,\n",
       "       'console': '',\n",
       "       'trx_id': '8c1a0c18eb264025a1677bdf6bdc9dab0ea6c6a500698e4c57fa94e93e25d9d6',\n",
       "       'block_num': 2674,\n",
       "       'block_time': {'slot': 332998424},\n",
       "       'producer_block_id': None,\n",
       "       'account_ram_deltas': [],\n",
       "       'account_disk_deltas': [],\n",
       "       'except': None,\n",
       "       'error_code': None,\n",
       "       'return_value_hex_data': '',\n",
       "       'inline_traces': []},\n",
       "      {'action_ordinal': 4,\n",
       "       'creator_action_ordinal': 1,\n",
       "       'closest_unnotified_ancestor_action_ordinal': 1,\n",
       "       'receipt': {'receiver': 'eosio',\n",
       "        'act_digest': '888eaa4d02a283e7ae06d0be02dae4f4004891a1622092c86d259c38c460bc92',\n",
       "        'global_sequence': 3161,\n",
       "        'recv_sequence': 2908,\n",
       "        'auth_sequence': [['helloworld11', 18]],\n",
       "        'code_sequence': 1,\n",
       "        'abi_sequence': 1},\n",
       "       'receiver': 'eosio',\n",
       "       'act': {'account': 'eosio.token',\n",
       "        'name': 'transfer',\n",
       "        'authorization': [{'actor': 'helloworld11', 'permission': 'active'}],\n",
       "        'data': {'from': 'helloworld11',\n",
       "         'to': 'eosio',\n",
       "         'quantity': '0.1000 EOS',\n",
       "         'memo': 'hello,world'},\n",
       "        'hex_data': '10428a97721aa36a0000000000ea3055e80300000000000004454f53000000000b68656c6c6f2c776f726c64'},\n",
       "       'context_free': False,\n",
       "       'elapsed': 23,\n",
       "       'console': '',\n",
       "       'trx_id': '8c1a0c18eb264025a1677bdf6bdc9dab0ea6c6a500698e4c57fa94e93e25d9d6',\n",
       "       'block_num': 2674,\n",
       "       'block_time': {'slot': 332998424},\n",
       "       'producer_block_id': None,\n",
       "       'account_ram_deltas': [],\n",
       "       'account_disk_deltas': [],\n",
       "       'except': None,\n",
       "       'error_code': None,\n",
       "       'return_value_hex_data': '',\n",
       "       'inline_traces': []}]},\n",
       "    {'action_ordinal': 2,\n",
       "     'creator_action_ordinal': 0,\n",
       "     'closest_unnotified_ancestor_action_ordinal': 0,\n",
       "     'receipt': {'receiver': 'eosio.token',\n",
       "      'act_digest': '162dc66a00e1f46509189543d9c0832d95f7dbc8cb91ddb04f0db2928784b472',\n",
       "      'global_sequence': 3162,\n",
       "      'recv_sequence': 116,\n",
       "      'auth_sequence': [['helloworld11', 19]],\n",
       "      'code_sequence': 1,\n",
       "      'abi_sequence': 1},\n",
       "     'receiver': 'eosio.token',\n",
       "     'act': {'account': 'eosio.token',\n",
       "      'name': 'transfer',\n",
       "      'authorization': [{'actor': 'helloworld11', 'permission': 'active'}],\n",
       "      'data': {'from': 'helloworld11',\n",
       "       'to': 'eosio',\n",
       "       'quantity': '0.2000 EOS',\n",
       "       'memo': 'hello,world'},\n",
       "      'hex_data': '10428a97721aa36a0000000000ea3055d00700000000000004454f53000000000b68656c6c6f2c776f726c64'},\n",
       "     'context_free': False,\n",
       "     'elapsed': 28,\n",
       "     'console': '',\n",
       "     'trx_id': '8c1a0c18eb264025a1677bdf6bdc9dab0ea6c6a500698e4c57fa94e93e25d9d6',\n",
       "     'block_num': 2674,\n",
       "     'block_time': {'slot': 332998424},\n",
       "     'producer_block_id': None,\n",
       "     'account_ram_deltas': [],\n",
       "     'account_disk_deltas': [],\n",
       "     'except': None,\n",
       "     'error_code': None,\n",
       "     'return_value_hex_data': '',\n",
       "     'inline_traces': [{'action_ordinal': 5,\n",
       "       'creator_action_ordinal': 2,\n",
       "       'closest_unnotified_ancestor_action_ordinal': 2,\n",
       "       'receipt': {'receiver': 'helloworld11',\n",
       "        'act_digest': '162dc66a00e1f46509189543d9c0832d95f7dbc8cb91ddb04f0db2928784b472',\n",
       "        'global_sequence': 3163,\n",
       "        'recv_sequence': 12,\n",
       "        'auth_sequence': [['helloworld11', 20]],\n",
       "        'code_sequence': 1,\n",
       "        'abi_sequence': 1},\n",
       "       'receiver': 'helloworld11',\n",
       "       'act': {'account': 'eosio.token',\n",
       "        'name': 'transfer',\n",
       "        'authorization': [{'actor': 'helloworld11', 'permission': 'active'}],\n",
       "        'data': {'from': 'helloworld11',\n",
       "         'to': 'eosio',\n",
       "         'quantity': '0.2000 EOS',\n",
       "         'memo': 'hello,world'},\n",
       "        'hex_data': '10428a97721aa36a0000000000ea3055d00700000000000004454f53000000000b68656c6c6f2c776f726c64'},\n",
       "       'context_free': False,\n",
       "       'elapsed': 3,\n",
       "       'console': '',\n",
       "       'trx_id': '8c1a0c18eb264025a1677bdf6bdc9dab0ea6c6a500698e4c57fa94e93e25d9d6',\n",
       "       'block_num': 2674,\n",
       "       'block_time': {'slot': 332998424},\n",
       "       'producer_block_id': None,\n",
       "       'account_ram_deltas': [],\n",
       "       'account_disk_deltas': [],\n",
       "       'except': None,\n",
       "       'error_code': None,\n",
       "       'return_value_hex_data': '',\n",
       "       'inline_traces': []},\n",
       "      {'action_ordinal': 6,\n",
       "       'creator_action_ordinal': 2,\n",
       "       'closest_unnotified_ancestor_action_ordinal': 2,\n",
       "       'receipt': {'receiver': 'eosio',\n",
       "        'act_digest': '162dc66a00e1f46509189543d9c0832d95f7dbc8cb91ddb04f0db2928784b472',\n",
       "        'global_sequence': 3164,\n",
       "        'recv_sequence': 2909,\n",
       "        'auth_sequence': [['helloworld11', 21]],\n",
       "        'code_sequence': 1,\n",
       "        'abi_sequence': 1},\n",
       "       'receiver': 'eosio',\n",
       "       'act': {'account': 'eosio.token',\n",
       "        'name': 'transfer',\n",
       "        'authorization': [{'actor': 'helloworld11', 'permission': 'active'}],\n",
       "        'data': {'from': 'helloworld11',\n",
       "         'to': 'eosio',\n",
       "         'quantity': '0.2000 EOS',\n",
       "         'memo': 'hello,world'},\n",
       "        'hex_data': '10428a97721aa36a0000000000ea3055d00700000000000004454f53000000000b68656c6c6f2c776f726c64'},\n",
       "       'context_free': False,\n",
       "       'elapsed': 12,\n",
       "       'console': '',\n",
       "       'trx_id': '8c1a0c18eb264025a1677bdf6bdc9dab0ea6c6a500698e4c57fa94e93e25d9d6',\n",
       "       'block_num': 2674,\n",
       "       'block_time': {'slot': 332998424},\n",
       "       'producer_block_id': None,\n",
       "       'account_ram_deltas': [],\n",
       "       'account_disk_deltas': [],\n",
       "       'except': None,\n",
       "       'error_code': None,\n",
       "       'return_value_hex_data': '',\n",
       "       'inline_traces': []}]}],\n",
       "   'account_ram_delta': None,\n",
       "   'except': None,\n",
       "   'error_code': None}},\n",
       " {'transaction_id': '0000000000000000000000000000000000000000000000000000000000000000',\n",
       "  'processed': {'error': '3040008 tx_duplicate: Duplicate transaction\\nduplicate transaction 8c1a0c18eb264025a1677bdf6bdc9dab0ea6c6a500698e4c57fa94e93e25d9d6\\n    {\"id\":\"8c1a0c18eb264025a1677bdf6bdc9dab0ea6c6a500698e4c57fa94e93e25d9d6\"}\\n    uuos  producer_plugin.cpp:546 process_incoming_transaction_async\\n'}}]"
      ]
     },
     "execution_count": 38,
     "metadata": {},
     "output_type": "execute_result"
    }
   ],
   "source": [
    "aa = []\n",
    "args = {'from':test_account1, 'to':'eosio', 'quantity':f'0.1000 {config.main_token}', 'memo':'hello,world'}\n",
    "a = ['eosio.token', 'transfer', args, {test_account1:'active'}]\n",
    "aa.append(a)\n",
    "\n",
    "args = {'from':test_account1, 'to':'eosio', 'quantity':f'0.2000 {config.main_token}', 'memo':'hello,world'}\n",
    "a = ['eosio.token', 'transfer', args, {test_account1:'active'}]\n",
    "aa.append(a)\n",
    "\n",
    "\n",
    "bb = []\n",
    "args = {'from':test_account1, 'to':'eosio', 'quantity':f'0.1000 {config.main_token}', 'memo':'hello,world'}\n",
    "a = ['eosio.token', 'transfer', args, {test_account1:'active'}]\n",
    "bb.append(a)\n",
    "\n",
    "args = {'from':test_account1, 'to':'eosio', 'quantity':f'0.2000 {config.main_token}', 'memo':'hello,world'}\n",
    "a = ['eosio.token', 'transfer', args, {test_account1:'active'}]\n",
    "bb.append(a)\n",
    "\n",
    "\n",
    "uuosapi.push_transactions([aa, bb])"
   ]
  },
  {
   "cell_type": "code",
   "execution_count": 39,
   "metadata": {},
   "outputs": [
    {
     "data": {
      "text/plain": [
       "100004999.2"
      ]
     },
     "execution_count": 39,
     "metadata": {},
     "output_type": "execute_result"
    }
   ],
   "source": [
    "uuosapi.get_balance(test_account1)"
   ]
  }
 ],
 "metadata": {
  "kernelspec": {
   "display_name": "Python 3",
   "language": "python",
   "name": "python3"
  },
  "language_info": {
   "codemirror_mode": {
    "name": "ipython",
    "version": 3
   },
   "file_extension": ".py",
   "mimetype": "text/x-python",
   "name": "python",
   "nbconvert_exporter": "python",
   "pygments_lexer": "ipython3",
   "version": "3.7.4"
  }
 },
 "nbformat": 4,
 "nbformat_minor": 2
}
