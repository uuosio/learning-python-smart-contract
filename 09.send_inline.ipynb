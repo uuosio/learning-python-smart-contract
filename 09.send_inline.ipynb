{
 "cells": [
  {
   "cell_type": "code",
   "execution_count": 1,
   "metadata": {
    "scrolled": false
   },
   "outputs": [],
   "source": [
    "from init import *"
   ]
  },
  {
   "cell_type": "markdown",
   "metadata": {},
   "source": [
    "###  send_inline(account, action_name, actor, permission, data) -> None"
   ]
  },
  {
   "cell_type": "code",
   "execution_count": 5,
   "metadata": {},
   "outputs": [
    {
     "name": "stdout",
     "output_type": "stream",
     "text": [
      "done!\n"
     ]
    }
   ],
   "source": [
    "a = {\n",
    "    \"account\": python_contract,\n",
    "    \"permission\": \"active\",\n",
    "    \"parent\": \"owner\",\n",
    "    \"auth\": {\n",
    "        \"threshold\": 1,\n",
    "        \"keys\": [\n",
    "            {\n",
    "                \"key\": \"EOS8moVJwVaR8pb43KBi2HwmtbwebXmjSJUerfwbvFW41tEvYsfDE\",\n",
    "                \"weight\": 1\n",
    "            },\n",
    "        ],\n",
    "        \"accounts\": [{\"permission\":{\"actor\":python_contract,\"permission\":\"eosio.code\"},\"weight\":1}],\n",
    "        \"waits\": []\n",
    "    }\n",
    "}\n",
    "r = uuosapi.push_action('eosio', 'updateauth', a, {python_contract:'active'})\n",
    "print('done!')"
   ]
  },
  {
   "cell_type": "code",
   "execution_count": 10,
   "metadata": {},
   "outputs": [
    {
     "data": {
      "text/plain": [
       "'ceyelqpjeeia'"
      ]
     },
     "execution_count": 10,
     "metadata": {},
     "output_type": "execute_result"
    }
   ],
   "source": [
    "python_contract"
   ]
  },
  {
   "cell_type": "code",
   "execution_count": 17,
   "metadata": {},
   "outputs": [],
   "source": [
    "code = f'''\n",
    "import chain\n",
    "def apply(receiver, code, action):\n",
    "    print(receiver, code, action)\n",
    "    if action == name('sayhello'):\n",
    "        data = chain.read_action_data()\n",
    "        print('+++sayhello:', data)\n",
    "    elif action == name('sendinline'):\n",
    "        receiver = name('ceyelqpjeeia')\n",
    "        chain.send_inline(receiver, name('sayhello'), name('ceyelqpjeeia'), name('active'), b'hellooooo,world')\n",
    "'''\n",
    "abi = ''\n",
    "\n",
    "code = uuosapi.mp_compile(python_contract, code)\n",
    "r = uuosapi.deploy_python_contract(python_contract, code, abi, deploy_type=1)"
   ]
  },
  {
   "cell_type": "code",
   "execution_count": 19,
   "metadata": {},
   "outputs": [
    {
     "name": "stdout",
     "output_type": "stream",
     "text": [
      "ceyelqpjeeia ceyelqpjeeia sendinline\r\n",
      "\n",
      "ceyelqpjeeia ceyelqpjeeia sayhello\r\n",
      "+++sayhello: b'hellooooo,world'\r\n",
      "\n"
     ]
    }
   ],
   "source": [
    "r = uuosapi.push_action(python_contract, 'sendinline', b'hello,world', {python_contract:'active'})\n",
    "print(r['processed']['action_traces'][0]['console'])\n",
    "print(r['processed']['action_traces'][0]['inline_traces'][0]['console'])"
   ]
  }
 ],
 "metadata": {
  "kernelspec": {
   "display_name": "Python 3",
   "language": "python",
   "name": "python3"
  },
  "language_info": {
   "codemirror_mode": {
    "name": "ipython",
    "version": 3
   },
   "file_extension": ".py",
   "mimetype": "text/x-python",
   "name": "python",
   "nbconvert_exporter": "python",
   "pygments_lexer": "ipython3",
   "version": "3.7.4"
  }
 },
 "nbformat": 4,
 "nbformat_minor": 2
}
