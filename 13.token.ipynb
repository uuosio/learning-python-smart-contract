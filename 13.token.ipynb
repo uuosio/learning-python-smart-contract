{
 "cells": [
  {
   "cell_type": "code",
   "execution_count": 1,
   "metadata": {},
   "outputs": [],
   "source": [
    "from init import *"
   ]
  },
  {
   "cell_type": "markdown",
   "metadata": {},
   "source": [
    "```python\n",
    "def token_create( issuer: int, maximum_supply: int, symbol: int) -> None\n",
    "def token_issue( to: int, quantity: int, symbol: int, memo: Union[str, bytes]) -> None\n",
    "def token_transfer( from_: int, to: int, quantity: int, symbol: int, memo: Union[str, bytes]) -> None\n",
    "```\n"
   ]
  },
  {
   "cell_type": "code",
   "execution_count": 2,
   "metadata": {},
   "outputs": [
    {
     "name": "stdout",
     "output_type": "stream",
     "text": [
      "done!\n"
     ]
    }
   ],
   "source": [
    "code = r'''\n",
    "import struct\n",
    "import chain\n",
    "\n",
    "def apply(receiver, first_receiver, action):\n",
    "    if not receiver == first_receiver:\n",
    "        return\n",
    "    if action == name('create'):\n",
    "#        token_create( uint64_t issuer, int64_t maximum_supply, uint64_t sym)\n",
    "        data = chain.read_action_data()\n",
    "        issuer, maximum_supply, symbol = struct.unpack('QQQ', data)\n",
    "        chain.token_create(issuer, maximum_supply, symbol)\n",
    "    elif action == name('issue'):\n",
    "# void token_issue( uint64_t to, int64_t quantity, uint64_t sym, const char* memo, size_t size2 );\n",
    "        data = chain.read_action_data()\n",
    "        to, quantity, symbol = struct.unpack('QQQ', data[:24])\n",
    "        chain.token_issue(to, quantity, symbol, data[25:])\n",
    "    elif action == name('transfer'):\n",
    "# void token_transfer( uint64_t from, uint64_t to, int64_t quantity, uint64_t sym, const char* memo, size_t size2);\n",
    "        data = chain.read_action_data()\n",
    "        _from, to, quantity, symbol = struct.unpack('QQQQ', data[:32])\n",
    "        chain.token_transfer(_from, to, quantity, symbol, data[33:])\n",
    "\n",
    "'''\n",
    "code = uuosapi.mp_compile(python_contract, code)\n",
    "r = uuosapi.deploy_python_contract(python_contract, code, b'', deploy_type=1)\n",
    "print('done!')"
   ]
  },
  {
   "cell_type": "code",
   "execution_count": 3,
   "metadata": {},
   "outputs": [],
   "source": [
    "abi = '''\n",
    "{\n",
    "    \"version\": \"eosio::abi/1.1\",\n",
    "    \"structs\": [\n",
    "        {\n",
    "            \"name\": \"account\",\n",
    "            \"base\": \"\",\n",
    "            \"fields\": [\n",
    "                {\n",
    "                    \"name\": \"balance\",\n",
    "                    \"type\": \"asset\"\n",
    "                }\n",
    "            ]\n",
    "        },\n",
    "        {\n",
    "            \"name\": \"close\",\n",
    "            \"base\": \"\",\n",
    "            \"fields\": [\n",
    "                {\n",
    "                    \"name\": \"owner\",\n",
    "                    \"type\": \"name\"\n",
    "                },\n",
    "                {\n",
    "                    \"name\": \"symbol\",\n",
    "                    \"type\": \"symbol\"\n",
    "                }\n",
    "            ]\n",
    "        },\n",
    "        {\n",
    "            \"name\": \"create\",\n",
    "            \"base\": \"\",\n",
    "            \"fields\": [\n",
    "                {\n",
    "                    \"name\": \"issuer\",\n",
    "                    \"type\": \"name\"\n",
    "                },\n",
    "                {\n",
    "                    \"name\": \"maximum_supply\",\n",
    "                    \"type\": \"asset\"\n",
    "                }\n",
    "            ]\n",
    "        },\n",
    "        {\n",
    "            \"name\": \"currency_stats\",\n",
    "            \"base\": \"\",\n",
    "            \"fields\": [\n",
    "                {\n",
    "                    \"name\": \"supply\",\n",
    "                    \"type\": \"asset\"\n",
    "                },\n",
    "                {\n",
    "                    \"name\": \"max_supply\",\n",
    "                    \"type\": \"asset\"\n",
    "                },\n",
    "                {\n",
    "                    \"name\": \"issuer\",\n",
    "                    \"type\": \"name\"\n",
    "                }\n",
    "            ]\n",
    "        },\n",
    "        {\n",
    "            \"name\": \"issue\",\n",
    "            \"base\": \"\",\n",
    "            \"fields\": [\n",
    "                {\n",
    "                    \"name\": \"to\",\n",
    "                    \"type\": \"name\"\n",
    "                },\n",
    "                {\n",
    "                    \"name\": \"quantity\",\n",
    "                    \"type\": \"asset\"\n",
    "                },\n",
    "                {\n",
    "                    \"name\": \"memo\",\n",
    "                    \"type\": \"string\"\n",
    "                }\n",
    "            ]\n",
    "        },\n",
    "        {\n",
    "            \"name\": \"open\",\n",
    "            \"base\": \"\",\n",
    "            \"fields\": [\n",
    "                {\n",
    "                    \"name\": \"owner\",\n",
    "                    \"type\": \"name\"\n",
    "                },\n",
    "                {\n",
    "                    \"name\": \"symbol\",\n",
    "                    \"type\": \"symbol\"\n",
    "                },\n",
    "                {\n",
    "                    \"name\": \"ram_payer\",\n",
    "                    \"type\": \"name\"\n",
    "                }\n",
    "            ]\n",
    "        },\n",
    "        {\n",
    "            \"name\": \"retire\",\n",
    "            \"base\": \"\",\n",
    "            \"fields\": [\n",
    "                {\n",
    "                    \"name\": \"quantity\",\n",
    "                    \"type\": \"asset\"\n",
    "                },\n",
    "                {\n",
    "                    \"name\": \"memo\",\n",
    "                    \"type\": \"string\"\n",
    "                }\n",
    "            ]\n",
    "        },\n",
    "        {\n",
    "            \"name\": \"transfer\",\n",
    "            \"base\": \"\",\n",
    "            \"fields\": [\n",
    "                {\n",
    "                    \"name\": \"from\",\n",
    "                    \"type\": \"name\"\n",
    "                },\n",
    "                {\n",
    "                    \"name\": \"to\",\n",
    "                    \"type\": \"name\"\n",
    "                },\n",
    "                {\n",
    "                    \"name\": \"quantity\",\n",
    "                    \"type\": \"asset\"\n",
    "                },\n",
    "                {\n",
    "                    \"name\": \"memo\",\n",
    "                    \"type\": \"string\"\n",
    "                }\n",
    "            ]\n",
    "        }\n",
    "    ],\n",
    "    \"types\": [],\n",
    "    \"actions\": [\n",
    "        {\n",
    "            \"name\": \"close\",\n",
    "            \"type\": \"close\",\n",
    "            \"ricardian_contract\": \"\"\n",
    "        },\n",
    "        {\n",
    "            \"name\": \"create\",\n",
    "            \"type\": \"create\",\n",
    "            \"ricardian_contract\": \"\"\n",
    "        },\n",
    "        {\n",
    "            \"name\": \"issue\",\n",
    "            \"type\": \"issue\",\n",
    "            \"ricardian_contract\": \"\"\n",
    "        },\n",
    "        {\n",
    "            \"name\": \"open\",\n",
    "            \"type\": \"open\",\n",
    "            \"ricardian_contract\": \"\"\n",
    "        },\n",
    "        {\n",
    "            \"name\": \"retire\",\n",
    "            \"type\": \"retire\",\n",
    "            \"ricardian_contract\": \"\"\n",
    "        },\n",
    "        {\n",
    "            \"name\": \"transfer\",\n",
    "            \"type\": \"transfer\",\n",
    "            \"ricardian_contract\": \"\"\n",
    "        }\n",
    "    ],\n",
    "    \"tables\": [\n",
    "        {\n",
    "            \"name\": \"accounts\",\n",
    "            \"type\": \"account\",\n",
    "            \"index_type\": \"i64\",\n",
    "            \"key_names\": [],\n",
    "            \"key_types\": []\n",
    "        },\n",
    "        {\n",
    "            \"name\": \"stat\",\n",
    "            \"type\": \"currency_stats\",\n",
    "            \"index_type\": \"i64\",\n",
    "            \"key_names\": [],\n",
    "            \"key_types\": []\n",
    "        },\n",
    "        {\n",
    "            \"name\": \"log\",\n",
    "            \"type\": \"string\",\n",
    "            \"index_type\": \"i64\",\n",
    "            \"key_names\": [],\n",
    "            \"key_types\": []\n",
    "        },\n",
    "        {\n",
    "            \"name\": \"codecache\",\n",
    "            \"type\": \"string\",\n",
    "            \"index_type\": \"i64\",\n",
    "            \"key_names\": [],\n",
    "            \"key_types\": []\n",
    "        },\n",
    "        {\n",
    "            \"name\": \"codetable\",\n",
    "            \"type\": \"string\",\n",
    "            \"index_type\": \"i64\",\n",
    "            \"key_names\": [],\n",
    "            \"key_types\": []\n",
    "        },\n",
    "        {\n",
    "            \"name\": \"modules\",\n",
    "            \"type\": \"string\",\n",
    "            \"index_type\": \"i64\",\n",
    "            \"key_names\": [],\n",
    "            \"key_types\": []\n",
    "        }\n",
    "    ],\n",
    "    \"ricardian_clauses\": [],\n",
    "    \"variants\": [],\n",
    "    \"abi_extensions\": [],\n",
    "    \"error_messages\": [],\n",
    "    \"abi_extensions\": []\n",
    "}\n",
    "'''"
   ]
  },
  {
   "cell_type": "code",
   "execution_count": 4,
   "metadata": {},
   "outputs": [],
   "source": [
    "r = uuosapi.deploy_abi(python_contract, abi)"
   ]
  },
  {
   "cell_type": "code",
   "execution_count": 5,
   "metadata": {},
   "outputs": [],
   "source": [
    "symbol_name = 'QQQ'\n",
    "args = {\"issuer\":python_contract,\"maximum_supply\":f\"11000000000000.0000 {symbol_name}\"}\n",
    "r = uuosapi.push_action(python_contract, 'create', args, {python_contract:'active'})"
   ]
  },
  {
   "cell_type": "code",
   "execution_count": 6,
   "metadata": {},
   "outputs": [
    {
     "name": "stdout",
     "output_type": "stream",
     "text": [
      "\n"
     ]
    }
   ],
   "source": [
    "args = {\"to\":python_contract,\"quantity\":f\"1000000.0000 {symbol_name}\", \"memo\":f\"issue 1000000.0000 {symbol_name} to {python_contract}\"}\n",
    "r = uuosapi.push_action(python_contract, 'issue', args, {python_contract:'active'})\n",
    "print(r['processed']['action_traces'][0]['console'])"
   ]
  },
  {
   "cell_type": "code",
   "execution_count": 7,
   "metadata": {},
   "outputs": [
    {
     "data": {
      "text/plain": [
       "1000000.0"
      ]
     },
     "execution_count": 7,
     "metadata": {},
     "output_type": "execute_result"
    }
   ],
   "source": [
    "uuosapi.get_balance(python_contract, token_account=python_contract, token_name=symbol_name)"
   ]
  },
  {
   "cell_type": "code",
   "execution_count": 8,
   "metadata": {},
   "outputs": [],
   "source": [
    "args = {'from':python_contract, 'to':'eosio', 'quantity':f'10.0000 {symbol_name}', 'memo':'hello,world'}\n",
    "r = uuosapi.push_action(python_contract, 'transfer', args, {python_contract:'active'})"
   ]
  },
  {
   "cell_type": "code",
   "execution_count": 9,
   "metadata": {},
   "outputs": [
    {
     "data": {
      "text/plain": [
       "10.0"
      ]
     },
     "execution_count": 9,
     "metadata": {},
     "output_type": "execute_result"
    }
   ],
   "source": [
    "uuosapi.get_balance('eosio', token_account=python_contract, token_name=symbol_name)"
   ]
  },
  {
   "cell_type": "code",
   "execution_count": 10,
   "metadata": {},
   "outputs": [
    {
     "data": {
      "text/plain": [
       "999990.0"
      ]
     },
     "execution_count": 10,
     "metadata": {},
     "output_type": "execute_result"
    }
   ],
   "source": [
    "uuosapi.get_balance(python_contract, token_account=python_contract, token_name=symbol_name)"
   ]
  }
 ],
 "metadata": {
  "kernelspec": {
   "display_name": "Python 3",
   "language": "python",
   "name": "python3"
  },
  "language_info": {
   "codemirror_mode": {
    "name": "ipython",
    "version": 3
   },
   "file_extension": ".py",
   "mimetype": "text/x-python",
   "name": "python",
   "nbconvert_exporter": "python",
   "pygments_lexer": "ipython3",
   "version": "3.7.4"
  }
 },
 "nbformat": 4,
 "nbformat_minor": 2
}
