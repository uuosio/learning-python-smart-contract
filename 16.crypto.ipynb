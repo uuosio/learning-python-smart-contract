{
 "cells": [
  {
   "cell_type": "markdown",
   "metadata": {},
   "source": [
    "```python\n",
    "def sha1(data: bytes) -> bytes\n",
    "def sha256(data: bytes) -> bytes\n",
    "def sha512(data: bytes) -> bytes\n",
    "def ripemd160(data: bytes) -> bytes\n",
    "def recover_key(data: bytes) -> bytes\n",
    "\n",
    "def assert_sha1(data: bytes, hash: bytes)\n",
    "def assert_sha256(data: bytes, hash: bytes)\n",
    "def assert_sha512(data: bytes, hash: bytes)\n",
    "def assert_ripemd160(data: bytes, hash: bytes)\n",
    "def assert_recover_key(data: bytes, hash: bytes)\n",
    "```"
   ]
  },
  {
   "cell_type": "code",
   "execution_count": 1,
   "metadata": {},
   "outputs": [],
   "source": [
    "from init import *"
   ]
  },
  {
   "cell_type": "code",
   "execution_count": 2,
   "metadata": {},
   "outputs": [
    {
     "name": "stdout",
     "output_type": "stream",
     "text": [
      "b'j\\xdf\\xb1\\x83\\xa4\\xa2\\xc9J/\\x92\\xda\\xb5\\xad\\xe7b\\xa4x\\x89\\xa5\\xa1\\x00\\x00\\x00\\x00\\x00\\x00\\x00\\x00\\x00\\x00\\x00\\x00'\r\n",
      "\n"
     ]
    }
   ],
   "source": [
    "code = '''\n",
    "import chain\n",
    "def apply(receiver, code, action):\n",
    "    print(chain.sha1(b'helloworld'))\n",
    "    chain.assert_sha1(b'helloworld', chain.sha1(b'helloworld'))\n",
    "    chain.assert_sha256(b'helloworld', chain.sha256(b'helloworld'))\n",
    "    chain.assert_sha512(b'helloworld', chain.sha512(b'helloworld'))\n",
    "    chain.assert_ripemd160(b'helloworld', chain.ripemd160(b'helloworld'))\n",
    "'''\n",
    "\n",
    "code = uuosapi.mp_compile(python_contract, code)\n",
    "uuosapi.deploy_python_code(python_contract, code, deploy_type=1)\n",
    "r = uuosapi.push_action(python_contract, 'sayhello', b'hello,world', {python_contract:'active'})\n",
    "print(r['processed']['action_traces'][0]['console'])\n"
   ]
  },
  {
   "cell_type": "code",
   "execution_count": 3,
   "metadata": {
    "scrolled": true
   },
   "outputs": [
    {
     "data": {
      "text/plain": [
       "{'account_name': 'hello',\n",
       " 'head_block_num': 3296,\n",
       " 'head_block_time': '2021-02-07T07:28:12.000',\n",
       " 'privileged': False,\n",
       " 'last_code_update': '2021-02-07T05:46:20.000',\n",
       " 'created': '2021-02-07T05:31:46.000',\n",
       " 'core_liquid_balance': '10000000.1000 EOS',\n",
       " 'ram_quota': -1,\n",
       " 'net_weight': -1,\n",
       " 'cpu_weight': -1,\n",
       " 'net_limit': {'used': -1,\n",
       "  'available': -1,\n",
       "  'max': -1,\n",
       "  'last_usage_update_time': {'slot': 332999046},\n",
       "  'current_used': -1},\n",
       " 'cpu_limit': {'used': -1,\n",
       "  'available': -1,\n",
       "  'max': -1,\n",
       "  'last_usage_update_time': {'slot': 332999046},\n",
       "  'current_used': -1},\n",
       " 'ram_usage': 2715211,\n",
       " 'permissions': [{'perm_name': 'active',\n",
       "   'parent': 'owner',\n",
       "   'required_auth': {'threshold': 1,\n",
       "    'keys': [{'key': 'EOS6AjF6hvF7GSuSd4sCgfPKq5uWaXvGM2aQtEUCwmEHygQaqxBSV',\n",
       "      'weight': 1}],\n",
       "    'accounts': [{'permission': {'actor': 'hello', 'permission': 'eosio.code'},\n",
       "      'weight': 1}],\n",
       "    'waits': []}},\n",
       "  {'perm_name': 'owner',\n",
       "   'parent': '',\n",
       "   'required_auth': {'threshold': 1,\n",
       "    'keys': [{'key': 'EOS6AjF6hvF7GSuSd4sCgfPKq5uWaXvGM2aQtEUCwmEHygQaqxBSV',\n",
       "      'weight': 1}],\n",
       "    'accounts': [],\n",
       "    'waits': []}},\n",
       "  {'perm_name': 'sayhello',\n",
       "   'parent': 'active',\n",
       "   'required_auth': {'threshold': 2,\n",
       "    'keys': [{'key': 'EOS7sPDxfw5yx5SZgQcVb57zS1XeSWLNpQKhaGjjy2qe61BrAQ49o',\n",
       "      'weight': 1},\n",
       "     {'key': 'EOS89jesRgvvnFVuNtLg4rkFXcBg2Qq26wjzppssdHj2a8PSoWMhx',\n",
       "      'weight': 1}],\n",
       "    'accounts': [],\n",
       "    'waits': []}}],\n",
       " 'total_resources': None,\n",
       " 'self_delegated_bandwidth': None,\n",
       " 'refund_request': None,\n",
       " 'voter_info': None,\n",
       " 'rex_info': None}"
      ]
     },
     "execution_count": 3,
     "metadata": {},
     "output_type": "execute_result"
    }
   ],
   "source": [
    "uuosapi.get_account(python_contract)"
   ]
  },
  {
   "cell_type": "code",
   "execution_count": 5,
   "metadata": {},
   "outputs": [
    {
     "name": "stdout",
     "output_type": "stream",
     "text": [
      "EOS6AjF6hvF7GSuSd4sCgfPKq5uWaXvGM2aQtEUCwmEHygQaqxBSV\n"
     ]
    },
    {
     "data": {
      "text/plain": [
       "b'\\x00\\x02\\xa8\\x91\\xe0\\xddW\\x13.\\xd6\\x83\\xbc\\x87]\\xac\\xc9a\\xc6\\xfd]\\xfa\\xe6\\x80\\x0b\\xc6\\x18\\x1a\\xb6\\x8b\\xb8H%\\x1eR\\xaa<\\x99\\xa6'"
      ]
     },
     "execution_count": 5,
     "metadata": {},
     "output_type": "execute_result"
    }
   ],
   "source": [
    "import base58\n",
    "public_key = 'EOS6AjF6hvF7GSuSd4sCgfPKq5uWaXvGM2aQtEUCwmEHygQaqxBSV'\n",
    "\n",
    "print(public_key)\n",
    "b'\\x00'+base58.b58decode(public_key[3:])"
   ]
  },
  {
   "cell_type": "markdown",
   "metadata": {},
   "source": [
    "```python\n",
    "def assert_recover_key(digest, sign, public_key) -> None\n",
    "def recover_key(digest, sign) -> bytes\n",
    "```"
   ]
  },
  {
   "cell_type": "code",
   "execution_count": null,
   "metadata": {},
   "outputs": [],
   "source": []
  },
  {
   "cell_type": "code",
   "execution_count": 7,
   "metadata": {},
   "outputs": [
    {
     "name": "stdout",
     "output_type": "stream",
     "text": [
      "b'hello,world'\r\n",
      "b'\\x0bhello,world\\x00  \\x87\\xd1\\x9b\\xca|L\\xf3\\x1e\\x8d\\x88.\\xf7\\x1e\\xa2\\xcc\\xab\\x7f%\\xd5\\xc0\\xd4x\\x01\\xdeK\\xeb:\\x0e\\x1d\\xd9\\x87/\\xf7\\xd0\\x06b<\\x95\\xaf\\xba\\xcf;,n7u\\xff\\xc5>&Y\\xad\\xeb<\\xd7c&\\x03\\x00\\x81\\xb2\\xb9\\xc5'\r\n",
      "38\r\n",
      "b'\\x00\\x02\\xa8\\x91\\xe0\\xddW\\x13.\\xd6\\x83\\xbc\\x87]\\xac\\xc9a\\xc6\\xfd]\\xfa\\xe6\\x80\\x0b\\xc6\\x18\\x1a\\xb6\\x8b\\xb8H%\\x1eR'\r\n",
      "34\r\n",
      "b'\\xaa<\\x99\\xa6#\\rn$\\xaa\\xa0\\x95LV\\xcfl\\x8d\\xf3e\\xf8\\xb3\\xfa\\xe6\\x80\\x0b\\x01\\x00\\x00\\x00\\x01\\x00\\x00\\x00'\r\n",
      "\n"
     ]
    }
   ],
   "source": [
    "\n",
    "code = r'''\n",
    "import struct\n",
    "import chain\n",
    "public_key = b'\\x00\\x02\\xa8\\x91\\xe0\\xddW\\x13.\\xd6\\x83\\xbc\\x87]\\xac\\xc9a\\xc6\\xfd]\\xfa\\xe6\\x80\\x0b\\xc6\\x18\\x1a\\xb6\\x8b\\xb8H%\\x1eR\\xaa<\\x99\\xa6'\n",
    "\n",
    "def apply(receiver, code, action):\n",
    "    data = chain.read_action_data()\n",
    "    value, size = struct.unpack_uint32(data)\n",
    "    text = data[size:value+size]\n",
    "    sign = data[size+value:]\n",
    "    print(text)\n",
    "    print(data)\n",
    "    print(len(public_key))\n",
    "\n",
    "    digest = chain.sha256(text)\n",
    "    chain.assert_recover_key(digest, sign, public_key)\n",
    "    \n",
    "    key = chain.recover_key(digest, sign)\n",
    "    print(key)\n",
    "    print(len(key))\n",
    "    \n",
    "    checksum = chain.ripemd160(key[1:])\n",
    "    print(checksum)\n",
    "'''\n",
    "abi = '''\n",
    "{\n",
    "   \"version\": \"eosio::abi/1.0\",\n",
    "   \"types\": [],\n",
    "  \"structs\": [{\n",
    "      \"name\": \"sayhello\",\n",
    "      \"base\": \"\",\n",
    "      \"fields\": [\n",
    "        {\"name\":\"text\", \"type\":\"bytes\"},\n",
    "        {\"name\":\"sign\", \"type\":\"signature\"}\n",
    "        ]\n",
    "    }\n",
    "  ],\n",
    "  \"actions\": [{\n",
    "      \"name\": \"sayhello\",\n",
    "      \"type\": \"sayhello\",\n",
    "      \"ricardian_contract\": \"\"\n",
    "    }\n",
    "  ],\n",
    "  \"tables\": [\n",
    "  ]\n",
    "}\n",
    "'''\n",
    "\n",
    "\n",
    "uuosapi.set_abi(python_contract, abi)\n",
    "\n",
    "code = uuosapi.mp_compile(python_contract, code)\n",
    "uuosapi.deploy_python_code(python_contract, code, deploy_type=1)\n",
    "\n",
    "\n",
    "text = b'hello,world'\n",
    "h = hashlib.sha256()\n",
    "h.update(text)\n",
    "signature = wallet.sign_digest(h.digest(), 'EOS6AjF6hvF7GSuSd4sCgfPKq5uWaXvGM2aQtEUCwmEHygQaqxBSV')\n",
    "\n",
    "args = {'text': text.hex(), 'sign': signature}\n",
    "\n",
    "r = uuosapi.push_action(python_contract, 'sayhello', args, {python_contract:'active'})\n",
    "print(r['processed']['action_traces'][0]['console'])"
   ]
  },
  {
   "cell_type": "code",
   "execution_count": 8,
   "metadata": {},
   "outputs": [
    {
     "name": "stdout",
     "output_type": "stream",
     "text": [
      "EOS6AjF6hvF7GSuSd4sCgfPKq5uWaXvGM2aQtEUCwmEHygQaqxBSV\n",
      "b'\\x02\\xa8\\x91\\xe0\\xddW\\x13.\\xd6\\x83\\xbc\\x87]\\xac\\xc9a\\xc6\\xfd]\\xfa\\xe6\\x80\\x0b\\xc6\\x18\\x1a\\xb6\\x8b\\xb8H%\\x1eR'\n"
     ]
    }
   ],
   "source": [
    "import base58\n",
    "public_key = 'EOS6AjF6hvF7GSuSd4sCgfPKq5uWaXvGM2aQtEUCwmEHygQaqxBSV'\n",
    "print(public_key)\n",
    "raw_pub_key = base58.b58decode(public_key[3:])[:-4]\n",
    "print(raw_pub_key)"
   ]
  },
  {
   "cell_type": "code",
   "execution_count": 10,
   "metadata": {},
   "outputs": [
    {
     "data": {
      "text/plain": [
       "b'EOS6AjF6hvF7GSuSd4sCgfPKq5uWaXvGM2aQtEUCwmEHygQaqxBSV'"
      ]
     },
     "execution_count": 10,
     "metadata": {},
     "output_type": "execute_result"
    }
   ],
   "source": [
    "import base58\n",
    "h = hashlib.new('ripemd160')\n",
    "h.update(raw_pub_key)\n",
    "\n",
    "digest = h.digest()\n",
    "\n",
    "public_key = raw_pub_key + digest[:4]\n",
    "b'EOS'+base58.b58encode(public_key)\n"
   ]
  }
 ],
 "metadata": {
  "kernelspec": {
   "display_name": "Python 3",
   "language": "python",
   "name": "python3"
  },
  "language_info": {
   "codemirror_mode": {
    "name": "ipython",
    "version": 3
   },
   "file_extension": ".py",
   "mimetype": "text/x-python",
   "name": "python",
   "nbconvert_exporter": "python",
   "pygments_lexer": "ipython3",
   "version": "3.7.4"
  }
 },
 "nbformat": 4,
 "nbformat_minor": 2
}
