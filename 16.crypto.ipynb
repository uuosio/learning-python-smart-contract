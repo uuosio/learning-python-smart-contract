{
 "cells": [
  {
   "cell_type": "markdown",
   "metadata": {},
   "source": [
    "```python\n",
    "def sha1(data: bytes) -> bytes\n",
    "def sha256(data: bytes) -> bytes\n",
    "def sha512(data: bytes) -> bytes\n",
    "def ripemd160(data: bytes) -> bytes\n",
    "def recover_key(data: bytes) -> bytes\n",
    "\n",
    "def assert_sha1(data: bytes, hash: bytes)\n",
    "def assert_sha256(data: bytes, hash: bytes)\n",
    "def assert_sha512(data: bytes, hash: bytes)\n",
    "def assert_ripemd160(data: bytes, hash: bytes)\n",
    "def assert_recover_key(data: bytes, hash: bytes)\n",
    "```"
   ]
  },
  {
   "cell_type": "code",
   "execution_count": 1,
   "metadata": {},
   "outputs": [],
   "source": [
    "from init import *"
   ]
  },
  {
   "cell_type": "code",
   "execution_count": 2,
   "metadata": {},
   "outputs": [
    {
     "name": "stdout",
     "output_type": "stream",
     "text": [
      "b'j\\xdf\\xb1\\x83\\xa4\\xa2\\xc9J/\\x92\\xda\\xb5\\xad\\xe7b\\xa4x\\x89\\xa5\\xa1\\x00\\x00\\x00\\x00\\x00\\x00\\x00\\x00\\x00\\x00\\x00\\x00'\r\n",
      "\n"
     ]
    }
   ],
   "source": [
    "code = '''\n",
    "import chain\n",
    "def apply(receiver, code, action):\n",
    "    print(chain.sha1(b'helloworld'))\n",
    "    chain.assert_sha1(b'helloworld', chain.sha1(b'helloworld'))\n",
    "    chain.assert_sha256(b'helloworld', chain.sha256(b'helloworld'))\n",
    "    chain.assert_sha512(b'helloworld', chain.sha512(b'helloworld'))\n",
    "    chain.assert_ripemd160(b'helloworld', chain.ripemd160(b'helloworld'))\n",
    "'''\n",
    "\n",
    "code = uuosapi.mp_compile(python_contract, code)\n",
    "uuosapi.deploy_python_code(python_contract, code, deploy_type=1)\n",
    "r = uuosapi.push_action(python_contract, 'sayhello', b'hello,world', {python_contract:'active'})\n",
    "print(r['processed']['action_traces'][0]['console'])\n"
   ]
  },
  {
   "cell_type": "code",
   "execution_count": 4,
   "metadata": {
    "scrolled": true
   },
   "outputs": [
    {
     "data": {
      "text/plain": [
       "{'account_name': 'ceyelqpjeeia',\n",
       " 'head_block_num': 44640296,\n",
       " 'head_block_time': '2021-01-07T06:35:29.500',\n",
       " 'privileged': False,\n",
       " 'last_code_update': '2021-01-07T06:02:15.000',\n",
       " 'created': '2020-11-30T02:20:16.000',\n",
       " 'core_liquid_balance': '78.8595 TNT',\n",
       " 'ram_quota': 3810651,\n",
       " 'net_weight': 30000,\n",
       " 'cpu_weight': 310000,\n",
       " 'net_limit': {'used': 611100, 'available': 6577645, 'max': 7188745},\n",
       " 'cpu_limit': {'used': 173620, 'available': 13993511, 'max': 14167131},\n",
       " 'ram_usage': 2732153,\n",
       " 'permissions': [{'perm_name': 'active',\n",
       "   'parent': 'owner',\n",
       "   'required_auth': {'threshold': 1,\n",
       "    'keys': [{'key': 'EOS8moVJwVaR8pb43KBi2HwmtbwebXmjSJUerfwbvFW41tEvYsfDE',\n",
       "      'weight': 1}],\n",
       "    'accounts': [{'permission': {'actor': 'ceyelqpjeeia',\n",
       "       'permission': 'eosio.code'},\n",
       "      'weight': 1}],\n",
       "    'waits': []}},\n",
       "  {'perm_name': 'owner',\n",
       "   'parent': '',\n",
       "   'required_auth': {'threshold': 1,\n",
       "    'keys': [{'key': 'EOS79fssH8wH5EyNtKP2oZAt1b9jfeu6hpna7RJ7eMwwjr73S5kWa',\n",
       "      'weight': 1}],\n",
       "    'accounts': [],\n",
       "    'waits': []}},\n",
       "  {'perm_name': 'sayhello',\n",
       "   'parent': 'active',\n",
       "   'required_auth': {'threshold': 2,\n",
       "    'keys': [{'key': 'EOS4yV91cqR6db8ntKtCLFVwWfvvvDMZctpd85GsaX5GUMaiqUWYL',\n",
       "      'weight': 1},\n",
       "     {'key': 'EOS5gNqDpWm72KzNWFVgBDmybrEtk9qx2ZuAeRbK9iSJMVJ2B8y73',\n",
       "      'weight': 1}],\n",
       "    'accounts': [],\n",
       "    'waits': []}}],\n",
       " 'total_resources': {'owner': 'ceyelqpjeeia',\n",
       "  'net_weight': '3.0000 TNT',\n",
       "  'cpu_weight': '31.0000 TNT',\n",
       "  'ram_bytes': 3809251},\n",
       " 'self_delegated_bandwidth': {'from': 'ceyelqpjeeia',\n",
       "  'to': 'ceyelqpjeeia',\n",
       "  'net_weight': '3.0000 TNT',\n",
       "  'cpu_weight': '31.0000 TNT'},\n",
       " 'refund_request': None,\n",
       " 'voter_info': {'owner': 'ceyelqpjeeia',\n",
       "  'proxy': '',\n",
       "  'producers': [],\n",
       "  'staked': 340000,\n",
       "  'last_vote_weight': '0.00000000000000000',\n",
       "  'proxied_vote_weight': '0.00000000000000000',\n",
       "  'is_proxy': 0,\n",
       "  'flags1': 0,\n",
       "  'reserved2': 0,\n",
       "  'reserved3': '0 '},\n",
       " 'rex_info': None}"
      ]
     },
     "execution_count": 4,
     "metadata": {},
     "output_type": "execute_result"
    }
   ],
   "source": [
    "uuosapi.get_account(python_contract)"
   ]
  },
  {
   "cell_type": "code",
   "execution_count": null,
   "metadata": {},
   "outputs": [],
   "source": [
    "b'EOS8moVJwVaR8pb43KBi2HwmtbwebXmjSJUerfwbvFW41tEvYsfDE"
   ]
  },
  {
   "cell_type": "code",
   "execution_count": 5,
   "metadata": {},
   "outputs": [
    {
     "name": "stdout",
     "output_type": "stream",
     "text": [
      "EOS8moVJwVaR8pb43KBi2HwmtbwebXmjSJUerfwbvFW41tEvYsfDE\n"
     ]
    },
    {
     "data": {
      "text/plain": [
       "b'\\x00\\x03\\xff\\x99\\x99]\\x1e\\xc7\\x9evb\\xbc\\x7f\\xfa\\x07j\\xec\\xed\\xa0\\x0f\\xb9T\\x04\\x06\\t\\x1a\\xd3k\\xf8\\xf2\\xecX\\xd6Q\\xfc\\xac\\x0b\\xbd'"
      ]
     },
     "execution_count": 5,
     "metadata": {},
     "output_type": "execute_result"
    }
   ],
   "source": [
    "import base58\n",
    "public_key = 'EOS8moVJwVaR8pb43KBi2HwmtbwebXmjSJUerfwbvFW41tEvYsfDE'\n",
    "\n",
    "print(public_key)\n",
    "b'\\x00'+base58.b58decode(public_key[3:])"
   ]
  },
  {
   "cell_type": "markdown",
   "metadata": {},
   "source": [
    "```python\n",
    "def assert_recover_key(digest, sign, public_key) -> None\n",
    "def recover_key(digest, sign) -> bytes\n",
    "```"
   ]
  },
  {
   "cell_type": "code",
   "execution_count": null,
   "metadata": {},
   "outputs": [],
   "source": []
  },
  {
   "cell_type": "code",
   "execution_count": 13,
   "metadata": {},
   "outputs": [
    {
     "name": "stdout",
     "output_type": "stream",
     "text": [
      "b'hello,world'\r\n",
      "b'\\x0bhello,world\\x00 z\\xc3}P\\x07\\x81\\xc4[qf\\x82\\xa71\\xe8\\xa3\\xd0\\x12p\\xfcHs\\xc2\\xb2\\xb9\\xee\\x19\\x8ePr\\x03\\x9d\\xe3\\x12\\x99\\x16\\xd3HW\\x80K\\xb9\\xa2\\x14\\x93\\x0e9Cf\\xf7-\\xb2\\x91\\xfe\\x9f\\x80q\\xa2\\xbf\\xd7n\\x06\\xd7.S'\r\n",
      "38\r\n",
      "b'\\x00\\x03\\xff\\x99\\x99]\\x1e\\xc7\\x9evb\\xbc\\x7f\\xfa\\x07j\\xec\\xed\\xa0\\x0f\\xb9T\\x04\\x06\\t\\x1a\\xd3k\\xf8\\xf2\\xecX\\xd6Q'\r\n",
      "34\r\n",
      "b'\\xfc\\xac\\x0b\\xbd\\xc1X\\x82\\xa0\\x98D\\xf2\\x10\\xe5\\xd8y\\x81YN\\xa0*\\xb9T\\x04\\x06\\x01\\x00\\x00\\x00\\x01\\x00\\x00\\x00'\r\n",
      "\n"
     ]
    }
   ],
   "source": [
    "\n",
    "code = r'''\n",
    "import struct\n",
    "import chain\n",
    "public_key = b'\\x00\\x03\\xff\\x99\\x99]\\x1e\\xc7\\x9evb\\xbc\\x7f\\xfa\\x07j\\xec\\xed\\xa0\\x0f\\xb9T\\x04\\x06\\t\\x1a\\xd3k\\xf8\\xf2\\xecX\\xd6Q\\xfc\\xac\\x0b\\xbd'\n",
    "\n",
    "def apply(receiver, code, action):\n",
    "    data = chain.read_action_data()\n",
    "    value, size = struct.unpack_uint32(data)\n",
    "    text = data[size:value+size]\n",
    "    sign = data[size+value:]\n",
    "    print(text)\n",
    "    print(data)\n",
    "    print(len(public_key))\n",
    "\n",
    "    digest = chain.sha256(text)\n",
    "    chain.assert_recover_key(digest, sign, public_key)\n",
    "    \n",
    "    key = chain.recover_key(digest, sign)\n",
    "    print(key)\n",
    "    print(len(key))\n",
    "    \n",
    "    checksum = chain.ripemd160(key[1:])\n",
    "    print(checksum)\n",
    "'''\n",
    "abi = '''\n",
    "{\n",
    "   \"version\": \"eosio::abi/1.0\",\n",
    "   \"types\": [],\n",
    "  \"structs\": [{\n",
    "      \"name\": \"sayhello\",\n",
    "      \"base\": \"\",\n",
    "      \"fields\": [\n",
    "        {\"name\":\"text\", \"type\":\"bytes\"},\n",
    "        {\"name\":\"sign\", \"type\":\"signature\"}\n",
    "        ]\n",
    "    }\n",
    "  ],\n",
    "  \"actions\": [{\n",
    "      \"name\": \"sayhello\",\n",
    "      \"type\": \"sayhello\",\n",
    "      \"ricardian_contract\": \"\"\n",
    "    }\n",
    "  ],\n",
    "  \"tables\": [\n",
    "  ]\n",
    "}\n",
    "'''\n",
    "\n",
    "\n",
    "uuosapi.set_abi(python_contract, abi)\n",
    "\n",
    "code = uuosapi.mp_compile(python_contract, code)\n",
    "uuosapi.deploy_python_code(python_contract, code, deploy_type=1)\n",
    "\n",
    "\n",
    "text = b'hello,world'\n",
    "h = hashlib.sha256()\n",
    "h.update(text)\n",
    "signature = wallet.sign_digest(h.digest(), 'EOS8moVJwVaR8pb43KBi2HwmtbwebXmjSJUerfwbvFW41tEvYsfDE')\n",
    "\n",
    "args = {'text': text.hex(), 'sign': signature}\n",
    "\n",
    "r = uuosapi.push_action(python_contract, 'sayhello', args, {python_contract:'active'})\n",
    "print(r['processed']['action_traces'][0]['console'])"
   ]
  },
  {
   "cell_type": "code",
   "execution_count": 17,
   "metadata": {},
   "outputs": [
    {
     "name": "stdout",
     "output_type": "stream",
     "text": [
      "EOS8moVJwVaR8pb43KBi2HwmtbwebXmjSJUerfwbvFW41tEvYsfDE\n",
      "b'\\x03\\xff\\x99\\x99]\\x1e\\xc7\\x9evb\\xbc\\x7f\\xfa\\x07j\\xec\\xed\\xa0\\x0f\\xb9T\\x04\\x06\\t\\x1a\\xd3k\\xf8\\xf2\\xecX\\xd6Q'\n"
     ]
    }
   ],
   "source": [
    "import base58\n",
    "public_key = 'EOS8moVJwVaR8pb43KBi2HwmtbwebXmjSJUerfwbvFW41tEvYsfDE'\n",
    "print(public_key)\n",
    "raw_pub_key = base58.b58decode(public_key[3:])[:-4]\n",
    "print(raw_pub_key)"
   ]
  },
  {
   "cell_type": "code",
   "execution_count": 18,
   "metadata": {},
   "outputs": [
    {
     "data": {
      "text/plain": [
       "b'EOS8moVJwVaR8pb43KBi2HwmtbwebXmjSJUerfwbvFW41tEvYsfDE'"
      ]
     },
     "execution_count": 18,
     "metadata": {},
     "output_type": "execute_result"
    }
   ],
   "source": [
    "import base58\n",
    "h = hashlib.new('ripemd160')\n",
    "h.update(raw_pub_key)\n",
    "\n",
    "digest = h.digest()\n",
    "\n",
    "public_key = raw_pub_key + digest[:4]\n",
    "b'EOS'+base58.b58encode(public_key)\n"
   ]
  }
 ],
 "metadata": {
  "kernelspec": {
   "display_name": "Python 3",
   "language": "python",
   "name": "python3"
  },
  "language_info": {
   "codemirror_mode": {
    "name": "ipython",
    "version": 3
   },
   "file_extension": ".py",
   "mimetype": "text/x-python",
   "name": "python",
   "nbconvert_exporter": "python",
   "pygments_lexer": "ipython3",
   "version": "3.7.4"
  }
 },
 "nbformat": 4,
 "nbformat_minor": 2
}
