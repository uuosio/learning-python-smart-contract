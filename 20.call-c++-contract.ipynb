{
 "cells": [
  {
   "cell_type": "code",
   "execution_count": null,
   "metadata": {
    "scrolled": true
   },
   "outputs": [],
   "source": [
    "from init import *\n",
    "code = r'''\n",
    "#include <eosio/eosio.hpp>\n",
    "#include <eosio/action.hpp>\n",
    "#include <eosio/print.hpp>\n",
    "\n",
    "extern \"C\" {\n",
    "    __attribute__((eosio_wasm_import))\n",
    "    int call_contract_get_extra_args(void* extra_args, size_t size1);\n",
    "\n",
    "    __attribute__((eosio_wasm_import))\n",
    "    int call_contract_set_results(void* result, size_t size1);\n",
    "\n",
    "    void apply( uint64_t receiver, uint64_t code, uint64_t action ) {\n",
    "        eosio::print(\"hello,world\\n\");\n",
    "    }\n",
    "\n",
    "   void call(uint64_t func, uint64_t arg1, uint64_t arg2, uint64_t arg3) {\n",
    "      if (func == eosio::name(\"calltest1\").value) {\n",
    "         uint64_t extra_args;\n",
    "         ::call_contract_get_extra_args(&extra_args, sizeof(extra_args));\n",
    "         eosio::print(\"+++++++++++call: extra_args:\", extra_args, \"\\n\");\n",
    "         extra_args += 1;\n",
    "         ::call_contract_set_results(&extra_args, sizeof(extra_args));\n",
    "      }\n",
    "   }\n",
    "}\n",
    "'''\n",
    "code = uuosapi.compile(test_account2, code, vm_type=0)\n",
    "uuosapi.deploy_contract(test_account2, code, b'', vm_type=0)\n",
    "\n",
    "print('done!')"
   ]
  },
  {
   "cell_type": "code",
   "execution_count": 5,
   "metadata": {},
   "outputs": [
    {
     "data": {
      "text/plain": [
       "'ebvjmdibybgq'"
      ]
     },
     "execution_count": 5,
     "metadata": {},
     "output_type": "execute_result"
    }
   ],
   "source": [
    "test_account2"
   ]
  },
  {
   "cell_type": "code",
   "execution_count": null,
   "metadata": {},
   "outputs": [],
   "source": [
    "code = '''\n",
    "def apply(receiver, code, action):\n",
    "    ret = call_contract('helloworld12', 'calltest1', 0, 0, 0, int.to_bytes(1, 8, 'little'))\n",
    "    print(ret)\n",
    "    print(int.from_bytes(ret, 'little'))\n",
    "'''\n",
    "\n",
    "code = uuosapi.mp_compile(python_contract, code)\n",
    "uuosapi.deploy_python_contract(python_contract, code, b'', deploy_type=1)\n",
    "r = uuosapi.push_action(python_contract, 'sayhello', b'hello,world', {python_contract:'active'})\n",
    "print(r['processed']['action_traces'][0]['console'])"
   ]
  },
  {
   "cell_type": "code",
   "execution_count": null,
   "metadata": {},
   "outputs": [],
   "source": []
  }
 ],
 "metadata": {
  "kernelspec": {
   "display_name": "Python 3",
   "language": "python",
   "name": "python3"
  },
  "language_info": {
   "codemirror_mode": {
    "name": "ipython",
    "version": 3
   },
   "file_extension": ".py",
   "mimetype": "text/x-python",
   "name": "python",
   "nbconvert_exporter": "python",
   "pygments_lexer": "ipython3",
   "version": "3.7.4"
  }
 },
 "nbformat": 4,
 "nbformat_minor": 2
}
