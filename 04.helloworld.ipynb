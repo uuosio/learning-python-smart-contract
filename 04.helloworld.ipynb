{
 "cells": [
  {
   "cell_type": "code",
   "execution_count": 51,
   "metadata": {},
   "outputs": [],
   "source": [
    "import os\n",
    "import hashlib\n",
    "import marshal\n",
    "from uuoskit import uuosapi, wallet, config\n",
    "\n",
    "if os.path.exists('test.wallet'):\n",
    "    os.remove('test.wallet')\n",
    "psw = wallet.create('test')\n",
    "\n",
    "# active key of helloworld11\n",
    "wallet.import_key('test', '5Jbb4wuwz8MAzTB9FJNmrVYGXo4ABb7wqPVoWGcZ6x8V2FwNeDo')\n",
    "# active key of helloworld12\n",
    "wallet.import_key('test', '5JHRxntHapUryUetZgWdd3cg6BrpZLMJdqhhXnMaZiiT4qdJPhv')\n",
    "\n",
    "uuosapi.set_node('http://127.0.0.1:8888')\n",
    "uuosapi.set_node('http://testnode.uuos.network:8080')\n",
    "config.setup_uuos_test_network()\n",
    "\n",
    "python_contract = config.python_contract\n",
    "test_account1 = 'helloworld11'"
   ]
  },
  {
   "cell_type": "code",
   "execution_count": 38,
   "metadata": {},
   "outputs": [],
   "source": [
    "python_contract = 'hello'"
   ]
  },
  {
   "cell_type": "code",
   "execution_count": 53,
   "metadata": {},
   "outputs": [],
   "source": [
    "code = '''\n",
    "def apply(receiver, code, action):\n",
    "    print('hello,world')\n",
    "'''\n",
    "abi = ''\n",
    "code = uuosapi.mp_compile(python_contract, code)\n",
    "args = uuosapi.s2b('helloworld11') + code\n",
    "r = uuosapi.push_action('hello', 'setcode', args, {'helloworld11':'active'})"
   ]
  },
  {
   "cell_type": "code",
   "execution_count": 55,
   "metadata": {},
   "outputs": [
    {
     "name": "stdout",
     "output_type": "stream",
     "text": [
      "hello,world\r\n",
      "\n"
     ]
    },
    {
     "data": {
      "text/plain": [
       "704"
      ]
     },
     "execution_count": 55,
     "metadata": {},
     "output_type": "execute_result"
    }
   ],
   "source": [
    "args = uuosapi.s2b('helloworld11') + b'hello,world'\n",
    "r = uuosapi.push_action('hello', 'exec', args, {'helloworld11':'active'})\n",
    "print(r['processed']['action_traces'][0]['console'])\n",
    "r['processed']['elapsed']"
   ]
  }
 ],
 "metadata": {
  "kernelspec": {
   "display_name": "Python 3",
   "language": "python",
   "name": "python3"
  },
  "language_info": {
   "codemirror_mode": {
    "name": "ipython",
    "version": 3
   },
   "file_extension": ".py",
   "mimetype": "text/x-python",
   "name": "python",
   "nbconvert_exporter": "python",
   "pygments_lexer": "ipython3",
   "version": "3.7.4"
  }
 },
 "nbformat": 4,
 "nbformat_minor": 2
}
