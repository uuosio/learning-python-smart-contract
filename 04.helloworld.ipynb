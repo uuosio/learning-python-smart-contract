{
 "cells": [
  {
   "cell_type": "code",
   "execution_count": 1,
   "metadata": {},
   "outputs": [],
   "source": [
    "import os\n",
    "import hashlib\n",
    "import marshal\n",
    "from uuoskit import uuosapi, wallet, config\n",
    "\n",
    "if os.path.exists('test.wallet'):\n",
    "    os.remove('test.wallet')\n",
    "psw = wallet.create('test')\n",
    "\n",
    "# active key of wkpmdjdsztyu\n",
    "wallet.import_key('test', '5Jaz37nnxbpAiAGQEsyxtnGfCPTJFjX9Wn6zv7V41Ko6DXSqhd9')\n",
    "# active key of ceyelqpjeeia\n",
    "wallet.import_key('test', '5JfZz1kXF8TXsxQgwfsvZCUBeTQefYSsCLDSbSPmnbKQfFmtBny')\n",
    "\n",
    "uuosapi.set_node('http://127.0.0.1:8888')\n",
    "uuosapi.set_node('https://api.testnet.eos.io')\n",
    "config.setup_eos_test_network()\n",
    "\n",
    "python_contract = config.python_contract\n",
    "test_account1 = 'wkpmdjdsztyu'"
   ]
  },
  {
   "cell_type": "code",
   "execution_count": 2,
   "metadata": {},
   "outputs": [],
   "source": [
    "code = '''\n",
    "def apply(receiver, code, action):\n",
    "    print('hello,world')\n",
    "'''\n",
    "abi = ''\n",
    "code = uuosapi.mp_compile(python_contract, code)\n",
    "r = uuosapi.deploy_python_contract(python_contract, code, abi, deploy_type=1)"
   ]
  },
  {
   "cell_type": "code",
   "execution_count": 3,
   "metadata": {},
   "outputs": [
    {
     "name": "stdout",
     "output_type": "stream",
     "text": [
      "hello,world\r\n",
      "\n",
      "506\n"
     ]
    }
   ],
   "source": [
    "r = uuosapi.push_action(python_contract, 'sayhello', b'hello,world', {test_account1:'active'})\n",
    "print(r['processed']['action_traces'][0]['console'])\n",
    "print(r['processed']['elapsed'])"
   ]
  }
 ],
 "metadata": {
  "kernelspec": {
   "display_name": "Python 3",
   "language": "python",
   "name": "python3"
  },
  "language_info": {
   "codemirror_mode": {
    "name": "ipython",
    "version": 3
   },
   "file_extension": ".py",
   "mimetype": "text/x-python",
   "name": "python",
   "nbconvert_exporter": "python",
   "pygments_lexer": "ipython3",
   "version": "3.7.4"
  }
 },
 "nbformat": 4,
 "nbformat_minor": 2
}
