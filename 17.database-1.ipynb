{
 "cells": [
  {
   "cell_type": "code",
   "execution_count": 1,
   "metadata": {},
   "outputs": [],
   "source": [
    "from init import *"
   ]
  },
  {
   "cell_type": "markdown",
   "metadata": {},
   "source": [
    "### store_i64\n",
    "\n",
    "```python\n",
    "def store_i64(scope: Union[uint64_t, str], table: Union[uint64_t, str], payer: Union[uint64_t, str], id: Union[uint64_t, str],  data: bytes) -> int32_t\n",
    "```"
   ]
  },
  {
   "cell_type": "code",
   "execution_count": 7,
   "metadata": {},
   "outputs": [
    {
     "name": "stdout",
     "output_type": "stream",
     "text": [
      "2\r\n",
      "b'world'\r\n",
      "\n"
     ]
    }
   ],
   "source": [
    "code = '''\n",
    "import chain\n",
    "def apply(receiver, code, action):\n",
    "    code = receiver\n",
    "    scope = 'scope'\n",
    "    table = 'table'\n",
    "    payer = receiver\n",
    "    id = 'hello'\n",
    "    itr = chain.db_find_i64(code, scope, table, id)\n",
    "    chain.db_remove_i64(1)\n",
    "    itr = chain.db_store_i64(scope, table, payer, id, b'world')\n",
    "    print(itr)\n",
    "    print(chain.db_get_i64(itr))\n",
    "'''\n",
    "code = uuosapi.mp_compile(python_contract, code)\n",
    "uuosapi.deploy_python_code(python_contract, code, deploy_type=1)\n",
    "\n",
    "r = uuosapi.push_action(python_contract, 'sayhello', b'hello,world', {python_contract:'active'})\n",
    "print(r['processed']['action_traces'][0]['console'])\n"
   ]
  },
  {
   "cell_type": "markdown",
   "metadata": {},
   "source": [
    "### find_i64\n",
    "\n",
    "```python\n",
    "def find_i64(code: Union[uint64_t, str], scope: Union[uint64_t, str], table: Union[uint64_t, str], id: Union[uint64_t, str]) -> int32_t\n",
    "```"
   ]
  },
  {
   "cell_type": "code",
   "execution_count": 9,
   "metadata": {},
   "outputs": [
    {
     "name": "stdout",
     "output_type": "stream",
     "text": [
      "1\r\n",
      "\n"
     ]
    }
   ],
   "source": [
    "code = '''\n",
    "import chain\n",
    "def apply(receiver, code, action):\n",
    "    code = receiver\n",
    "    scope = 'scope'\n",
    "    table = 'table'\n",
    "    payer = receiver\n",
    "    id = 'hello'\n",
    "    itr = chain.db_find_i64(code, scope, table, id)\n",
    "    print(itr)\n",
    "'''\n",
    "code = uuosapi.mp_compile(python_contract, code)\n",
    "uuosapi.deploy_python_code(python_contract, code, deploy_type=1)\n",
    "\n",
    "r = uuosapi.push_action(python_contract, 'sayhello', b'hello,world', {python_contract:'active'})\n",
    "print(r['processed']['action_traces'][0]['console'])\n"
   ]
  },
  {
   "cell_type": "markdown",
   "metadata": {},
   "source": [
    "### get_i64\n",
    "\n",
    "```python\n",
    "def get_i64(iterator: int32_t) -> bytes\n",
    "```"
   ]
  },
  {
   "cell_type": "code",
   "execution_count": 11,
   "metadata": {},
   "outputs": [
    {
     "name": "stdout",
     "output_type": "stream",
     "text": [
      "1\r\n",
      "b'world'\r\n",
      "\n"
     ]
    }
   ],
   "source": [
    "code = '''\n",
    "import chain\n",
    "def apply(receiver, code, action):\n",
    "    code = receiver\n",
    "    scope = 'scope'\n",
    "    table = 'table'\n",
    "    payer = receiver\n",
    "    id = 'hello'\n",
    "\n",
    "    itr = chain.db_find_i64(code, scope, table, id)\n",
    "    print(itr)\n",
    "    data = chain.db_get_i64(itr)\n",
    "    print(data)\n",
    "'''\n",
    "\n",
    "code = uuosapi.mp_compile(python_contract, code)\n",
    "uuosapi.deploy_python_code(python_contract, code, deploy_type=1)\n",
    "\n",
    "r = uuosapi.push_action(python_contract, 'sayhello', b'hello,world', {python_contract:'active'})\n",
    "print(r['processed']['action_traces'][0]['console'])\n"
   ]
  },
  {
   "cell_type": "markdown",
   "metadata": {},
   "source": [
    "### update_i64\n",
    "\n",
    "```python\n",
    "def update_i64(iterator: int32_t, payer: Union[uint64_t, str], data: bytes) -> None\n",
    "```"
   ]
  },
  {
   "cell_type": "code",
   "execution_count": 12,
   "metadata": {},
   "outputs": [
    {
     "name": "stdout",
     "output_type": "stream",
     "text": [
      "b'hello,world'\r\n",
      "1\r\n",
      "b'world'\r\n",
      "\n"
     ]
    }
   ],
   "source": [
    "code = '''\n",
    "import chain\n",
    "def apply(receiver, code, action):\n",
    "    code = receiver\n",
    "    scope = 'scope'\n",
    "    table = 'table'\n",
    "    payer = receiver\n",
    "    id = 'hello'\n",
    "    data = chain.read_action_data()\n",
    "    print(data)\n",
    "    \n",
    "    itr = chain.db_find_i64(code, scope, table, id)\n",
    "    print(itr)\n",
    "    if itr < 0:\n",
    "        chain.db_store_i64(scope, table, payer, id, b'world')\n",
    "    else:\n",
    "        old_data = chain.db_get_i64(itr)\n",
    "        print(old_data)\n",
    "        chain.db_update_i64(itr, receiver, data)\n",
    "'''\n",
    "\n",
    "code = uuosapi.mp_compile(python_contract, code)\n",
    "uuosapi.deploy_python_code(python_contract, code, deploy_type=1)\n",
    "\n",
    "r = uuosapi.push_action(python_contract, 'sayhello', b'hello,world', {python_contract:'active'})\n",
    "print(r['processed']['action_traces'][0]['console'])\n"
   ]
  },
  {
   "cell_type": "markdown",
   "metadata": {},
   "source": [
    "### lowerbound_i64\n",
    "\n",
    "```python\n",
    "def lowerbound_i64(code: Union[uint64_t, str], scope: Union[uint64_t, str], table: Union[uint64_t, str], id: Union[uint64_t, str]) -> int32_t\n",
    "```\n",
    "\n",
    "### upperbound_i64\n",
    "\n",
    "```python\n",
    "def upperbound_i64(code: Union[uint64_t, str], scope: Union[uint64_t, str], table: Union[uint64_t, str], id: Union[uint64_t, str]) -> int32_t\n",
    "```"
   ]
  },
  {
   "cell_type": "code",
   "execution_count": 21,
   "metadata": {},
   "outputs": [
    {
     "name": "stdout",
     "output_type": "stream",
     "text": [
      "None\n",
      "destroy done!\n",
      "\n",
      "b'hello,world'\n",
      "init done!\n",
      "\n"
     ]
    }
   ],
   "source": [
    "abi = ''\n",
    "code = '''\n",
    "import chain\n",
    "def apply(receiver, code, action):\n",
    "    code = receiver\n",
    "    scope = 'scope'\n",
    "    table = 'table'\n",
    "    payer = receiver\n",
    "    id = 'hello'\n",
    "    data = chain.read_action_data()\n",
    "    print(data)\n",
    "    if action == name('destroy'):\n",
    "        while True:\n",
    "            itr = chain.db_end_i64(code, scope, table)\n",
    "            if itr == -1:\n",
    "                break\n",
    "            itr, primary = chain.db_previous_i64(itr)\n",
    "            if itr < 0:\n",
    "                break\n",
    "            chain.db_remove_i64(itr)\n",
    "        print('destroy done!')\n",
    "    elif action == name('initdb'):\n",
    "        chain.db_store_i64(scope, table, payer, 1, b'1')\n",
    "        chain.db_store_i64(scope, table, payer, 3, b'3')\n",
    "        chain.db_store_i64(scope, table, payer, 5, b'5')\n",
    "        chain.db_store_i64(scope, table, payer, 7, b'7')\n",
    "        print('init done!')\n",
    "    elif action == name('test'):\n",
    "        itr = chain.db_upperbound_i64(code, scope, table, 3)\n",
    "        data = chain.db_get_i64(itr)\n",
    "        print('upperbound of 3:', data)\n",
    "\n",
    "        itr = chain.db_upperbound_i64(code, scope, table, 2)\n",
    "        data = chain.db_get_i64(itr)\n",
    "        print('upperbound of 2:', data)\n",
    "\n",
    "        itr = chain.db_lowerbound_i64(code, scope, table, 3)\n",
    "        data = chain.db_get_i64(itr)\n",
    "        print('lowerbound of 3:', data)\n",
    "\n",
    "        itr = chain.db_lowerbound_i64(code, scope, table, 2)\n",
    "        data = chain.db_get_i64(itr)\n",
    "        print('lowerbound of 2:', data)\n",
    "'''\n",
    "\n",
    "code = uuosapi.mp_compile(python_contract, code)\n",
    "uuosapi.deploy_python_code(python_contract, code, deploy_type=1)\n",
    "\n",
    "r = uuosapi.push_action(python_contract, 'destroy', b'', {python_contract:'active'})\n",
    "print(r['processed']['action_traces'][0]['console'])\n",
    "\n",
    "\n",
    "r = uuosapi.push_action(python_contract, 'initdb', b'hello,world', {python_contract:'active'})\n",
    "print(r['processed']['action_traces'][0]['console'])"
   ]
  },
  {
   "cell_type": "code",
   "execution_count": 20,
   "metadata": {},
   "outputs": [
    {
     "name": "stdout",
     "output_type": "stream",
     "text": [
      "\n"
     ]
    }
   ],
   "source": []
  },
  {
   "cell_type": "code",
   "execution_count": 22,
   "metadata": {},
   "outputs": [
    {
     "name": "stdout",
     "output_type": "stream",
     "text": [
      "None\r\n",
      "upperbound of 3: b'5'\r\n",
      "upperbound of 2: b'3'\r\n",
      "lowerbound of 3: b'3'\r\n",
      "lowerbound of 2: b'3'\r\n",
      "\n"
     ]
    }
   ],
   "source": [
    "r = uuosapi.push_action(python_contract, 'test', b'', {python_contract:'active'})\n",
    "print(r['processed']['action_traces'][0]['console'])"
   ]
  },
  {
   "cell_type": "markdown",
   "metadata": {},
   "source": [
    "\n",
    "### next_i64\n",
    "\n",
    "```python\n",
    "def next_i64(iterator: int32_t) -> [int32_t, uint64_t]\n",
    "```\n",
    "\n",
    "### previous_i64\n",
    "\n",
    "```python\n",
    "def previous_i64(iterator: int32_t) -> Union[int32_t, uint64_t]\n",
    "```\n",
    "\n",
    "\n",
    "### end_i64\n",
    "\n",
    "```python\n",
    "def end_i64(code: Union[uint64_t, str], scope: Union[uint64_t, str], table: Union[uint64_t, str]) -> int32_t\n",
    "```\n",
    "\n",
    "### remove_i64\n",
    "\n",
    "```python\n",
    "def remove_i64(iterator: int32_t) -> None\n",
    "```"
   ]
  },
  {
   "cell_type": "code",
   "execution_count": 23,
   "metadata": {},
   "outputs": [
    {
     "name": "stdout",
     "output_type": "stream",
     "text": [
      "destroy done!\r\n",
      "\n"
     ]
    }
   ],
   "source": [
    "abi = ''\n",
    "code = '''\n",
    "import chain\n",
    "def apply(receiver, code, action):\n",
    "    code = receiver\n",
    "    scope = 'scope'\n",
    "    table = 'table'\n",
    "    payer = receiver\n",
    "    id = 'hello'\n",
    "    data = chain.read_action_data()\n",
    "    if action == name('destroy'):\n",
    "        while True:\n",
    "            itr = chain.db_end_i64(code, scope, table)\n",
    "            if itr == -1:\n",
    "                break\n",
    "            itr, primary = chain.db_previous_i64(itr)\n",
    "            if itr < 0:\n",
    "                break\n",
    "            chain.db_remove_i64(itr)\n",
    "        print('destroy done!')\n",
    "    elif action == name('initdb'):\n",
    "        chain.db_store_i64(scope, table, payer, 1, b'1')\n",
    "        chain.db_store_i64(scope, table, payer, 3, b'3')\n",
    "        chain.db_store_i64(scope, table, payer, 5, b'5')\n",
    "        chain.db_store_i64(scope, table, payer, 7, b'7')\n",
    "        print('init done!')\n",
    "    elif action == name('test'):\n",
    "        itr = chain.db_find_i64(code, scope, table, 3)\n",
    "        data = chain.db_get_i64(itr)\n",
    "        print('++++get_i64:', data)\n",
    "        print(itr)\n",
    "        itr_next, primary = chain.db_next_i64(itr)\n",
    "        print(itr_next)\n",
    "\n",
    "        data = chain.db_get_i64(itr_next)\n",
    "\n",
    "        print('chain.db_next_i64: ', data)\n",
    "        \n",
    "        itr_previous, primary = chain.db_previous_i64(itr)\n",
    "        data = chain.db_get_i64(itr_previous)\n",
    "        print('chain.db_previous_i64: ', data)\n",
    "'''\n",
    "\n",
    "code = uuosapi.mp_compile(python_contract, code)\n",
    "uuosapi.deploy_python_code(python_contract, code, deploy_type=1)\n",
    "\n",
    "r = uuosapi.push_action(python_contract, 'destroy', b'', {python_contract:'active'})\n",
    "print(r['processed']['action_traces'][0]['console'])"
   ]
  },
  {
   "cell_type": "code",
   "execution_count": 26,
   "metadata": {},
   "outputs": [
    {
     "name": "stdout",
     "output_type": "stream",
     "text": [
      "destroy done!\n",
      "\n",
      "522\n",
      "init done!\n",
      "\n",
      "712\n"
     ]
    }
   ],
   "source": [
    "r = uuosapi.push_action(python_contract, 'destroy', b'', {python_contract:'active'})\n",
    "print(r['processed']['action_traces'][0]['console'])\n",
    "print(r['processed']['elapsed'])\n",
    "\n",
    "r = uuosapi.push_action(python_contract, 'initdb', b'hello,world', {python_contract:'active'})\n",
    "print(r['processed']['action_traces'][0]['console'])\n",
    "print(r['processed']['elapsed'])\n"
   ]
  },
  {
   "cell_type": "code",
   "execution_count": 27,
   "metadata": {
    "scrolled": true
   },
   "outputs": [
    {
     "name": "stdout",
     "output_type": "stream",
     "text": [
      "++++get_i64: b'3'\r\n",
      "1\r\n",
      "2\r\n",
      "chain.db_next_i64:  b'5'\r\n",
      "chain.db_previous_i64:  b'1'\r\n",
      "\n",
      "817\n"
     ]
    }
   ],
   "source": [
    "r = uuosapi.push_action(python_contract, 'test', b'', {python_contract:'active'})\n",
    "print(r['processed']['action_traces'][0]['console'])\n",
    "print(r['processed']['elapsed'])"
   ]
  }
 ],
 "metadata": {
  "kernelspec": {
   "display_name": "Python 3",
   "language": "python",
   "name": "python3"
  },
  "language_info": {
   "codemirror_mode": {
    "name": "ipython",
    "version": 3
   },
   "file_extension": ".py",
   "mimetype": "text/x-python",
   "name": "python",
   "nbconvert_exporter": "python",
   "pygments_lexer": "ipython3",
   "version": "3.7.4"
  }
 },
 "nbformat": 4,
 "nbformat_minor": 2
}
