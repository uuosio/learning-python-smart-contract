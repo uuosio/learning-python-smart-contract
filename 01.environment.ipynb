{
 "cells": [
  {
   "cell_type": "markdown",
   "metadata": {},
   "source": [
    "# Setup Env on the Windows platform"
   ]
  },
  {
   "cell_type": "markdown",
   "metadata": {},
   "source": [
    "1. Install Python\n",
    "```\n",
    "https://www.python.org/ftp/python/3.7.3/python-3.7.3-amd64.exe\n",
    "```\n",
    "2. Install UUOSKit\n",
    "```\n",
    "python -m pip install https://github.com/uuosio/UUOSKit/releases/download/v0.8.3/uuoskit-0.8.3-cp37-cp37m-win_amd64.whl\n",
    "```\n",
    "3. Install notebook\n",
    "```\n",
    "python -m pip install notebook\n",
    "```\n",
    "4. Run notebook\n",
    "```\n",
    "python -m notebook\n",
    "```\n",
    "5. Test\n",
    "```python\n",
    "from uuoskit import uuosapi\n",
    "uuosapi.set_node('api.hkeos.com')\n",
    "uuosapi.get_info()\n",
    "```"
   ]
  },
  {
   "cell_type": "code",
   "execution_count": 4,
   "metadata": {},
   "outputs": [
    {
     "data": {
      "text/plain": [
       "{'server_version': '94354d25',\n",
       " 'chain_id': 'aca376f206b8fc25a6ed44dbdc66547c36c6c33e3a119ffbeaef943642f0e906',\n",
       " 'head_block_num': 162417373,\n",
       " 'last_irreversible_block_num': 162417042,\n",
       " 'last_irreversible_block_id': '09ae499291c5ed980319b9dfbb12f89fb9911106ab4225f8e372b57f72c41509',\n",
       " 'head_block_id': '09ae4add2a99dad9bf7860d69345fca48e4de11a1b2e75aeac4d3f7cadb4c977',\n",
       " 'head_block_time': '2021-01-11T09:44:03.000',\n",
       " 'head_block_producer': 'eosiosg11111',\n",
       " 'virtual_block_cpu_limit': 200000,\n",
       " 'virtual_block_net_limit': 1048576000,\n",
       " 'block_cpu_limit': 199900,\n",
       " 'block_net_limit': 1048576,\n",
       " 'server_version_string': 'v2.0.3',\n",
       " 'fork_db_head_block_num': 162417373,\n",
       " 'fork_db_head_block_id': '09ae4add2a99dad9bf7860d69345fca48e4de11a1b2e75aeac4d3f7cadb4c977',\n",
       " 'server_full_version_string': 'v2.0.3-94354d2541e077349a280a3c92dff44df43e8dc6'}"
      ]
     },
     "execution_count": 4,
     "metadata": {},
     "output_type": "execute_result"
    }
   ],
   "source": [
    "from uuoskit import uuosapi\n",
    "uuosapi.set_node('api.hkeos.com')\n",
    "uuosapi.get_info()"
   ]
  },
  {
   "cell_type": "markdown",
   "metadata": {},
   "source": [
    "# Setup Env on the Linux platform"
   ]
  },
  {
   "cell_type": "markdown",
   "metadata": {},
   "source": [
    "1. Install python\n",
    "\n",
    "[Installing The Latest Python 3.7 On Ubuntu 16.04 / 18.04](https://websiteforstudents.com/installing-the-latest-python-3-7-on-ubuntu-16-04-18-04)\n",
    "\n",
    "Install steps:\n",
    "\n",
    "```bash\n",
    "sudo apt update\n",
    "sudo apt install software-properties-common\n",
    "sudo add-apt-repository ppa:deadsnakes/ppa\n",
    "sudo apt update\n",
    "sudo apt install python3.7\n",
    "```\n",
    "\n",
    "2. Install UUOSKit\n",
    "```\n",
    "python3.7 -m pip install https://github.com/uuosio/UUOSKit/releases/download/v0.8.3/uuoskit-0.8.3-cp37-cp37m-linux_x86_64.whl\n",
    "```\n",
    "3. Install notebook\n",
    "```\n",
    "python3.7 -m pip install notebook\n",
    "```\n",
    "4. Run notebook\n",
    "```\n",
    "python3.7 -m notebook\n",
    "```\n",
    "5. Test\n",
    "```python\n",
    "from uuoskit import uuosapi\n",
    "uuosapi.set_node('api.hkeos.com')\n",
    "uuosapi.get_info()\n",
    "```"
   ]
  },
  {
   "cell_type": "markdown",
   "metadata": {},
   "source": [
    "# Setup Env on the macOS X platform"
   ]
  },
  {
   "cell_type": "markdown",
   "metadata": {},
   "source": [
    "1. Install Python\n",
    "```\n",
    "brew install python3\n",
    "```\n",
    "\n",
    "2. Install UUOSKit\n",
    "```\n",
    "python3.7 -m pip install https://github.com/uuosio/UUOSKit/releases/download/v0.8.3/uuoskit-0.8.3-cp37-cp37m-macosx_10_9_x86_64.whl\n",
    "```\n",
    "\n",
    "3. Install notebook\n",
    "```\n",
    "python3.7 -m pip install notebook\n",
    "```\n",
    "\n",
    "4. Run notebook\n",
    "```\n",
    "python3.7 -m notebook\n",
    "```\n",
    "\n",
    "5. Test\n",
    "```python\n",
    "from uuoskit import uuosapi\n",
    "uuosapi.set_node('api.hkeos.com')\n",
    "uuosapi.get_info()\n",
    "```"
   ]
  },
  {
   "cell_type": "code",
   "execution_count": 5,
   "metadata": {},
   "outputs": [
    {
     "data": {
      "text/plain": [
       "{'server_version': '94354d25',\n",
       " 'chain_id': 'aca376f206b8fc25a6ed44dbdc66547c36c6c33e3a119ffbeaef943642f0e906',\n",
       " 'head_block_num': 162417882,\n",
       " 'last_irreversible_block_num': 162417546,\n",
       " 'last_irreversible_block_id': '09ae4b8a4dd999b480aca820ed7e3f32d0822e0e77c8b3197610b2be21edbdff',\n",
       " 'head_block_id': '09ae4cda205bc92a6ca2361f4e2c57027da98b08a344d41375595f54de775e56',\n",
       " 'head_block_time': '2021-01-11T09:48:17.500',\n",
       " 'head_block_producer': 'eosiosg11111',\n",
       " 'virtual_block_cpu_limit': 200000,\n",
       " 'virtual_block_net_limit': 1048576000,\n",
       " 'block_cpu_limit': 199900,\n",
       " 'block_net_limit': 1048576,\n",
       " 'server_version_string': 'v2.0.3',\n",
       " 'fork_db_head_block_num': 162417882,\n",
       " 'fork_db_head_block_id': '09ae4cda205bc92a6ca2361f4e2c57027da98b08a344d41375595f54de775e56',\n",
       " 'server_full_version_string': 'v2.0.3-94354d2541e077349a280a3c92dff44df43e8dc6'}"
      ]
     },
     "execution_count": 5,
     "metadata": {},
     "output_type": "execute_result"
    }
   ],
   "source": [
    "from uuoskit import uuosapi\n",
    "uuosapi.set_node('api.hkeos.com')\n",
    "uuosapi.get_info()"
   ]
  }
 ],
 "metadata": {
  "kernelspec": {
   "display_name": "Python 3",
   "language": "python",
   "name": "python3"
  },
  "language_info": {
   "codemirror_mode": {
    "name": "ipython",
    "version": 3
   },
   "file_extension": ".py",
   "mimetype": "text/x-python",
   "name": "python",
   "nbconvert_exporter": "python",
   "pygments_lexer": "ipython3",
   "version": "3.7.4"
  }
 },
 "nbformat": 4,
 "nbformat_minor": 2
}
