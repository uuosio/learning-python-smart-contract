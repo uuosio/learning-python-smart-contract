{
 "cells": [
  {
   "cell_type": "code",
   "execution_count": 1,
   "metadata": {},
   "outputs": [],
   "source": [
    "from init import *"
   ]
  },
  {
   "cell_type": "markdown",
   "metadata": {},
   "source": [
    "# has_auth"
   ]
  },
  {
   "cell_type": "code",
   "execution_count": 2,
   "metadata": {},
   "outputs": [
    {
     "name": "stdout",
     "output_type": "stream",
     "text": [
      "True\r\n",
      "False\r\n",
      "\n"
     ]
    }
   ],
   "source": [
    "code = '''\n",
    "import chain\n",
    "def apply(receiver, code, action):\n",
    "    print(chain.has_auth(receiver))\n",
    "    print(chain.has_auth('eosio'))\n",
    "'''\n",
    "\n",
    "code = uuosapi.mp_compile(python_contract, code)\n",
    "uuosapi.deploy_python_contract(python_contract, code, b'', deploy_type=1)\n",
    "r = uuosapi.push_action(python_contract, 'sayhello', b'hello,world', {python_contract:'active'})\n",
    "print(r['processed']['action_traces'][0]['console'])"
   ]
  },
  {
   "cell_type": "markdown",
   "metadata": {},
   "source": [
    "# require_auth/require_auth2"
   ]
  },
  {
   "cell_type": "code",
   "execution_count": 4,
   "metadata": {},
   "outputs": [
    {
     "name": "stdout",
     "output_type": "stream",
     "text": [
      "done!\r\n",
      "\n"
     ]
    }
   ],
   "source": [
    "code = '''\n",
    "import chain\n",
    "def apply(receiver, code, action):\n",
    "    chain.require_auth('hello')\n",
    "    chain.require_auth2('hello', 'active')\n",
    "    print('done!')\n",
    "'''\n",
    "\n",
    "abi = ''\n",
    "code = uuosapi.mp_compile(python_contract, code)\n",
    "uuosapi.deploy_python_contract(python_contract, code, abi, deploy_type=1)\n",
    "r = uuosapi.push_action(python_contract, 'sayhello', b'hello,world', {python_contract:'active'})\n",
    "print(r['processed']['action_traces'][0]['console'])"
   ]
  }
 ],
 "metadata": {
  "kernelspec": {
   "display_name": "Python 3",
   "language": "python",
   "name": "python3"
  },
  "language_info": {
   "codemirror_mode": {
    "name": "ipython",
    "version": 3
   },
   "file_extension": ".py",
   "mimetype": "text/x-python",
   "name": "python",
   "nbconvert_exporter": "python",
   "pygments_lexer": "ipython3",
   "version": "3.7.4"
  }
 },
 "nbformat": 4,
 "nbformat_minor": 2
}
