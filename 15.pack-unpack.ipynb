{
 "cells": [
  {
   "cell_type": "code",
   "execution_count": 1,
   "metadata": {},
   "outputs": [],
   "source": [
    "from init import *"
   ]
  },
  {
   "cell_type": "markdown",
   "metadata": {},
   "source": [
    "```python\n",
    "def pack_uint32(n: int) -> bytes\n",
    "def unpack_uint32(data: bytes) -> Tuple[int, int]\n",
    "```"
   ]
  },
  {
   "cell_type": "markdown",
   "metadata": {},
   "source": [
    "# string"
   ]
  },
  {
   "cell_type": "code",
   "execution_count": 13,
   "metadata": {},
   "outputs": [
    {
     "name": "stdout",
     "output_type": "stream",
     "text": [
      "b'\\x0bhello,world'\n",
      "11 1\n",
      "b'hello,world'\n",
      "\n",
      "b'\\x80\\x01aaaaaaaaaaaaaaaaaaaaaaaaaaaaaaaaaaaaaaaaaaaaaaaaaaaaaaaaaaaaaaaaaaaaaaaaaaaaaaaaaaaaaaaaaaaaaaaaaaaaaaaaaaaaaaaaaaaaaaaaaaaaaaaa'\n",
      "128 2\n",
      "b'aaaaaaaaaaaaaaaaaaaaaaaaaaaaaaaaaaaaaaaaaaaaaaaaaaaaaaaaaaaaaaaaaaaaaaaaaaaaaaaaaaaaaaaaaaaaaaaaaaaaaaaaaaaaaaaaaaaaaaaaaaaaaaaa'\n",
      "\n"
     ]
    }
   ],
   "source": [
    "code = '''\n",
    "import struct\n",
    "import chain\n",
    "def apply(receiver, code, action):\n",
    "    data = chain.read_action_data()\n",
    "    print(data)\n",
    "    value, size = struct.unpack_uint32(data)\n",
    "    print(value, size)\n",
    "    print(data[size:])\n",
    "'''\n",
    "\n",
    "abi = '''\n",
    "{\n",
    "   \"version\": \"eosio::abi/1.0\",\n",
    "   \"types\": [],\n",
    "  \"structs\": [{\n",
    "      \"name\": \"sayhello\",\n",
    "      \"base\": \"\",\n",
    "      \"fields\": [\n",
    "        {\"name\":\"worlds\", \"type\":\"string\"},\n",
    "      ]\n",
    "    }\n",
    "  ],\n",
    "  \"actions\": [{\n",
    "      \"name\": \"sayhello\",\n",
    "      \"type\": \"sayhello\",\n",
    "      \"ricardian_contract\": \"\"\n",
    "    }\n",
    "  ],\n",
    "  \"tables\": [\n",
    "  ]\n",
    "}\n",
    "'''\n",
    "\n",
    "uuosapi.set_abi(python_contract, abi)\n",
    "code = uuosapi.mp_compile(python_contract, code)\n",
    "uuosapi.deploy_python_code(python_contract, code, deploy_type=1)\n",
    "args = {'worlds':'hello,world'}\n",
    "r = uuosapi.push_action(python_contract, 'sayhello', args, {python_contract:'active'})\n",
    "print(r['processed']['action_traces'][0]['console'])\n",
    "\n",
    "\n",
    "args = {'worlds':'a'*128}\n",
    "r = uuosapi.push_action(python_contract, 'sayhello', args, {python_contract:'active'})\n",
    "print(r['processed']['action_traces'][0]['console'])\n"
   ]
  },
  {
   "cell_type": "markdown",
   "metadata": {},
   "source": [
    "# bytes"
   ]
  },
  {
   "cell_type": "code",
   "execution_count": 10,
   "metadata": {},
   "outputs": [
    {
     "name": "stdout",
     "output_type": "stream",
     "text": [
      "11 1\r\n",
      "b'hello,world'\r\n",
      "\n",
      "593\n"
     ]
    }
   ],
   "source": [
    "abi = '''\n",
    "{\n",
    "   \"version\": \"eosio::abi/1.0\",\n",
    "   \"types\": [],\n",
    "  \"structs\": [{\n",
    "      \"name\": \"sayhello\",\n",
    "      \"base\": \"\",\n",
    "      \"fields\": [\n",
    "        {\"name\":\"worlds\", \"type\":\"bytes\"},\n",
    "      ]\n",
    "    }\n",
    "  ],\n",
    "  \"actions\": [{\n",
    "      \"name\": \"sayhello\",\n",
    "      \"type\": \"sayhello\",\n",
    "      \"ricardian_contract\": \"\"\n",
    "    }\n",
    "  ],\n",
    "  \"tables\": [\n",
    "  ]\n",
    "}\n",
    "'''\n",
    "code = '''\n",
    "import struct\n",
    "import chain\n",
    "def apply(receiver, code, action):\n",
    "    data = chain.read_action_data()\n",
    "    value, size = struct.unpack_uint32(data)\n",
    "    print(value, size)\n",
    "    print(data[size:])\n",
    "'''\n",
    "\n",
    "uuosapi.set_abi(python_contract, abi)\n",
    "\n",
    "code = uuosapi.mp_compile(python_contract, code)\n",
    "uuosapi.deploy_python_code(python_contract, code, deploy_type=1)\n",
    "\n",
    "args = {'worlds':bytes.hex(b'hello,world')}\n",
    "r = uuosapi.push_action(python_contract, 'sayhello', args, {python_contract:'active'})\n",
    "print(r['processed']['action_traces'][0]['console'])\n",
    "print(r['processed']['elapsed'])\n"
   ]
  },
  {
   "cell_type": "markdown",
   "metadata": {},
   "source": [
    "# array"
   ]
  },
  {
   "cell_type": "code",
   "execution_count": 14,
   "metadata": {},
   "outputs": [
    {
     "name": "stdout",
     "output_type": "stream",
     "text": [
      "b'\\x02\\x0bhello,world\\x05hello'\r\n",
      "b'hello,world'\r\n",
      "b'hello'\r\n",
      "\n",
      "867\n"
     ]
    }
   ],
   "source": [
    "abi = '''\n",
    "{\n",
    "   \"version\": \"eosio::abi/1.0\",\n",
    "   \"types\": [],\n",
    "  \"structs\": [{\n",
    "      \"name\": \"sayhello\",\n",
    "      \"base\": \"\",\n",
    "      \"fields\": [\n",
    "        {\"name\":\"worlds\", \"type\":\"string[]\"},\n",
    "      ]\n",
    "    }\n",
    "  ],\n",
    "  \"actions\": [{\n",
    "      \"name\": \"sayhello\",\n",
    "      \"type\": \"sayhello\",\n",
    "      \"ricardian_contract\": \"\"\n",
    "    }\n",
    "  ],\n",
    "  \"tables\": [\n",
    "  ]\n",
    "}\n",
    "'''\n",
    "\n",
    "code = '''\n",
    "import chain\n",
    "import struct\n",
    "def apply(receiver, code, action):\n",
    "    data = chain.read_action_data()\n",
    "    print(data)\n",
    "    array_size, size = struct.unpack_uint32(data)\n",
    "    index = size\n",
    "    for i in range(array_size):\n",
    "        str_size, size = struct.unpack_uint32(data[index:])\n",
    "        print(data[index+size:index+size+str_size])\n",
    "        index += str_size\n",
    "        index += size\n",
    "'''\n",
    "\n",
    "uuosapi.set_abi(python_contract, abi)\n",
    "\n",
    "code = uuosapi.mp_compile(python_contract, code)\n",
    "uuosapi.deploy_python_code(python_contract, code, deploy_type=1)\n",
    "\n",
    "args = {'worlds':['hello,world', 'hello']}\n",
    "r = uuosapi.push_action(python_contract, 'sayhello', args, {python_contract:'active'})\n",
    "print(r['processed']['action_traces'][0]['console'])\n",
    "print(r['processed']['elapsed'])"
   ]
  },
  {
   "cell_type": "markdown",
   "metadata": {},
   "source": [
    "# symbol"
   ]
  },
  {
   "cell_type": "code",
   "execution_count": 16,
   "metadata": {},
   "outputs": [
    {
     "name": "stdout",
     "output_type": "stream",
     "text": [
      "b'\\x04SSSSSSS'\r\n",
      "\n",
      "533\n"
     ]
    }
   ],
   "source": [
    "abi = '''\n",
    "{\n",
    "   \"version\": \"eosio::abi/1.0\",\n",
    "   \"types\": [],\n",
    "  \"structs\": [{\n",
    "      \"name\": \"sayhello\",\n",
    "      \"base\": \"\",\n",
    "      \"fields\": [\n",
    "        {\"name\":\"test\", \"type\":\"symbol\"},\n",
    "      ]\n",
    "    }\n",
    "  ],\n",
    "  \"actions\": [{\n",
    "      \"name\": \"sayhello\",\n",
    "      \"type\": \"sayhello\",\n",
    "      \"ricardian_contract\": \"\"\n",
    "    }\n",
    "  ],\n",
    "  \"tables\": [\n",
    "  ]\n",
    "}\n",
    "'''\n",
    "\n",
    "code = '''\n",
    "import chain\n",
    "def apply(receiver, code, action):\n",
    "    data = chain.read_action_data()\n",
    "    print(data)\n",
    "'''\n",
    "    \n",
    "uuosapi.set_abi(python_contract, abi)\n",
    "\n",
    "code = uuosapi.mp_compile(python_contract, code)\n",
    "uuosapi.deploy_python_code(python_contract, code, deploy_type=1)\n",
    "\n",
    "args = {'test':'4,SSSSSSS'}\n",
    "r = uuosapi.push_action(python_contract, 'sayhello', args, {python_contract:'active'})\n",
    "print(r['processed']['action_traces'][0]['console'])\n",
    "print(r['processed']['elapsed'])"
   ]
  },
  {
   "cell_type": "markdown",
   "metadata": {},
   "source": [
    "# asset\n",
    "```c++\n",
    "struct asset {\n",
    "  int64_t      amount;\n",
    "  symbol_type  symbol;\n",
    "}\n",
    "```"
   ]
  },
  {
   "cell_type": "code",
   "execution_count": 17,
   "metadata": {},
   "outputs": [
    {
     "name": "stdout",
     "output_type": "stream",
     "text": [
      "1000000 b'\\x04SYS\\x00\\x00\\x00\\x00'\r\n",
      "\n",
      "618\n"
     ]
    }
   ],
   "source": [
    "abi = '''\n",
    "{\n",
    "   \"version\": \"eosio::abi/1.0\",\n",
    "   \"types\": [],\n",
    "  \"structs\": [{\n",
    "      \"name\": \"sayhello\",\n",
    "      \"base\": \"\",\n",
    "      \"fields\": [\n",
    "        {\"name\":\"test\", \"type\":\"asset\"},\n",
    "      ]\n",
    "    }\n",
    "  ],\n",
    "  \"actions\": [{\n",
    "      \"name\": \"sayhello\",\n",
    "      \"type\": \"sayhello\",\n",
    "      \"ricardian_contract\": \"\"\n",
    "    }\n",
    "  ],\n",
    "  \"tables\": [\n",
    "  ]\n",
    "}\n",
    "'''\n",
    "\n",
    "code = '''\n",
    "import struct\n",
    "import chain\n",
    "def apply(receiver, code, action):\n",
    "    data = chain.read_action_data()\n",
    "    amount, symbol = struct.unpack('q8s', data)\n",
    "    print(amount, symbol)\n",
    "'''\n",
    "\n",
    "uuosapi.set_abi(python_contract, abi)\n",
    "\n",
    "code = uuosapi.mp_compile(python_contract, code)\n",
    "uuosapi.deploy_python_code(python_contract, code, deploy_type=1)\n",
    "\n",
    "args = {'test':'100.0000 SYS'}\n",
    "r = uuosapi.push_action(python_contract, 'sayhello', args, {python_contract:'active'})\n",
    "print(r['processed']['action_traces'][0]['console'])\n",
    "print(r['processed']['elapsed'])\n"
   ]
  },
  {
   "cell_type": "code",
   "execution_count": 20,
   "metadata": {},
   "outputs": [
    {
     "name": "stdout",
     "output_type": "stream",
     "text": [
      "b'hello,world'\r\n",
      "1000000 b'\\x04UUOS\\x00\\x00\\x00'\r\n",
      "\n",
      "728\n"
     ]
    }
   ],
   "source": [
    "abi = '''\n",
    "{\n",
    "   \"version\": \"eosio::abi/1.0\",\n",
    "   \"types\": [{\n",
    "      \"new_type_name\": \"account_name\",\n",
    "      \"type\": \"name\"\n",
    "   }],\n",
    "  \"structs\": [{\n",
    "      \"name\": \"transfer\",\n",
    "      \"base\": \"\",\n",
    "      \"fields\": [\n",
    "        {\"name\":\"from\", \"type\":\"account_name\"},\n",
    "        {\"name\":\"to\", \"type\":\"account_name\"},\n",
    "        {\"name\":\"quantity\", \"type\":\"asset\"},\n",
    "        {\"name\":\"memo\", \"type\":\"string\"}\n",
    "      ]\n",
    "    }\n",
    "  ],\n",
    "  \"actions\": [{\n",
    "      \"name\": \"transfer\",\n",
    "      \"type\": \"transfer\",\n",
    "      \"ricardian_contract\": \"\"\n",
    "    }\n",
    "  ],\n",
    "  \"tables\": [\n",
    "  ],\n",
    "  \"ricardian_clauses\": [],\n",
    "  \"abi_extensions\": []\n",
    "}\n",
    "'''\n",
    "\n",
    "\n",
    "code = '''\n",
    "import struct\n",
    "import chain\n",
    "def apply(receiver, code, action):\n",
    "    data = chain.read_action_data()\n",
    "    from_, to, amount, symbol = struct.unpack('QQq8s', data[:32])\n",
    "    memo = data[32:]\n",
    "    n1, n2 = struct.unpack_uint32(memo)\n",
    "    memo = memo[n2:]\n",
    "    print(memo)\n",
    "    print(amount, symbol)\n",
    "'''\n",
    "\n",
    "uuosapi.set_abi(python_contract, abi)\n",
    "\n",
    "code = uuosapi.mp_compile(python_contract, code)\n",
    "uuosapi.deploy_python_code(python_contract, code, deploy_type=1)\n",
    "\n",
    "args = {'from':'eosio', 'to':'eosio.token', 'quantity':'100.0000 UUOS', 'memo':'hello,world'}\n",
    "r = uuosapi.push_action(python_contract, 'transfer', args, {python_contract:'active'})\n",
    "print(r['processed']['action_traces'][0]['console'])\n",
    "print(r['processed']['elapsed'])\n"
   ]
  }
 ],
 "metadata": {
  "kernelspec": {
   "display_name": "Python 3",
   "language": "python",
   "name": "python3"
  },
  "language_info": {
   "codemirror_mode": {
    "name": "ipython",
    "version": 3
   },
   "file_extension": ".py",
   "mimetype": "text/x-python",
   "name": "python",
   "nbconvert_exporter": "python",
   "pygments_lexer": "ipython3",
   "version": "3.7.4"
  }
 },
 "nbformat": 4,
 "nbformat_minor": 2
}
