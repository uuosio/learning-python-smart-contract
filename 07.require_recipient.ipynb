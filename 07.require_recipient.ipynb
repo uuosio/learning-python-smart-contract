{
 "cells": [
  {
   "cell_type": "code",
   "execution_count": 1,
   "metadata": {},
   "outputs": [],
   "source": [
    "from init import *"
   ]
  },
  {
   "cell_type": "markdown",
   "metadata": {},
   "source": [
    "### require_recipient\n",
    "def require_recipient(account:name) -> None:"
   ]
  },
  {
   "cell_type": "code",
   "execution_count": 2,
   "metadata": {},
   "outputs": [],
   "source": [
    "code = '''\n",
    "#include <eosio/print.hpp>\n",
    "extern \"C\" void apply(uint64_t receiver, uint64_t first_receiver, uint64_t action) {\n",
    "    if (receiver != first_receiver) {\n",
    "        eosio::print(\"notify received!\");\n",
    "    } else {\n",
    "        eosio::print(\"hello,world\");\n",
    "    }\n",
    "}\n",
    "'''\n",
    "code = uuosapi.compile(test_account2, code, vm_type=0)"
   ]
  },
  {
   "cell_type": "code",
   "execution_count": 3,
   "metadata": {},
   "outputs": [],
   "source": [
    "r = uuosapi.deploy_contract(test_account2, code, b'', vm_type=0)"
   ]
  },
  {
   "cell_type": "code",
   "execution_count": 4,
   "metadata": {},
   "outputs": [
    {
     "data": {
      "text/plain": [
       "'helloworld12'"
      ]
     },
     "execution_count": 4,
     "metadata": {},
     "output_type": "execute_result"
    }
   ],
   "source": [
    "test_account2"
   ]
  },
  {
   "cell_type": "code",
   "execution_count": 7,
   "metadata": {},
   "outputs": [],
   "source": [
    "code = '''\n",
    "import chain\n",
    "def apply(receiver, code, action):\n",
    "    print(chain.read_action_data())\n",
    "    chain.require_recipient('helloworld12')\n",
    "    print('done!!')\n",
    "'''\n",
    "\n",
    "code = uuosapi.mp_compile(python_contract, code)\n",
    "r = uuosapi.deploy_python_contract(python_contract, code, b'', deploy_type=1)"
   ]
  },
  {
   "cell_type": "code",
   "execution_count": 8,
   "metadata": {},
   "outputs": [
    {
     "name": "stdout",
     "output_type": "stream",
     "text": [
      "b'hello,world'\r\n",
      "done!!\r\n",
      "\n",
      "notify received!\n"
     ]
    }
   ],
   "source": [
    "r = uuosapi.push_action(python_contract, 'sayhello', b'hello,world', {python_contract:'active'})\n",
    "print(r['processed']['action_traces'][0]['console'])\n",
    "print(r['processed']['action_traces'][0]['inline_traces'][0]['console'])"
   ]
  }
 ],
 "metadata": {
  "kernelspec": {
   "display_name": "Python 3",
   "language": "python",
   "name": "python3"
  },
  "language_info": {
   "codemirror_mode": {
    "name": "ipython",
    "version": 3
   },
   "file_extension": ".py",
   "mimetype": "text/x-python",
   "name": "python",
   "nbconvert_exporter": "python",
   "pygments_lexer": "ipython3",
   "version": "3.7.4"
  }
 },
 "nbformat": 4,
 "nbformat_minor": 2
}
