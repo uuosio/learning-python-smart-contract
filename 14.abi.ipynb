{
 "cells": [
  {
   "cell_type": "markdown",
   "metadata": {},
   "source": [
    "[abi_serializer.cpp](https://github.com/EOSIO/eos/blob/5082391c60b0fa5e68157c385cd402bf25aea934/libraries/chain/abi_serializer.cpp#L63)\n",
    "```c++\n",
    "   void abi_serializer::configure_built_in_types() {\n",
    "\n",
    "      built_in_types.emplace(\"bool\",                      pack_unpack<uint8_t>());\n",
    "      built_in_types.emplace(\"int8\",                      pack_unpack<int8_t>());\n",
    "      built_in_types.emplace(\"uint8\",                     pack_unpack<uint8_t>());\n",
    "      built_in_types.emplace(\"int16\",                     pack_unpack<int16_t>());\n",
    "      built_in_types.emplace(\"uint16\",                    pack_unpack<uint16_t>());\n",
    "      built_in_types.emplace(\"int32\",                     pack_unpack<int32_t>());\n",
    "      built_in_types.emplace(\"uint32\",                    pack_unpack<uint32_t>());\n",
    "      built_in_types.emplace(\"int64\",                     pack_unpack<int64_t>());\n",
    "      built_in_types.emplace(\"uint64\",                    pack_unpack<uint64_t>());\n",
    "      built_in_types.emplace(\"int128\",                    pack_unpack<int128_t>());\n",
    "      built_in_types.emplace(\"uint128\",                   pack_unpack<uint128_t>());\n",
    "      built_in_types.emplace(\"varint32\",                  pack_unpack<fc::signed_int>());\n",
    "      built_in_types.emplace(\"varuint32\",                 pack_unpack<fc::unsigned_int>());\n",
    "\n",
    "      // TODO: Add proper support for floating point types. For now this is good enough.\n",
    "      built_in_types.emplace(\"float32\",                   pack_unpack<float>());\n",
    "      built_in_types.emplace(\"float64\",                   pack_unpack<double>());\n",
    "      built_in_types.emplace(\"float128\",                  pack_unpack<uint128_t>());\n",
    "\n",
    "      built_in_types.emplace(\"time_point\",                pack_unpack<fc::time_point>());\n",
    "      built_in_types.emplace(\"time_point_sec\",            pack_unpack<fc::time_point_sec>());\n",
    "      built_in_types.emplace(\"block_timestamp_type\",      pack_unpack<block_timestamp_type>());\n",
    "\n",
    "      built_in_types.emplace(\"name\",                      pack_unpack<name>());\n",
    "\n",
    "      built_in_types.emplace(\"bytes\",                     pack_unpack<bytes>());\n",
    "      built_in_types.emplace(\"string\",                    pack_unpack<string>());\n",
    "\n",
    "      built_in_types.emplace(\"checksum160\",               pack_unpack<checksum160_type>());\n",
    "      built_in_types.emplace(\"checksum256\",               pack_unpack<checksum256_type>());\n",
    "      built_in_types.emplace(\"checksum512\",               pack_unpack<checksum512_type>());\n",
    "\n",
    "      built_in_types.emplace(\"public_key\",                pack_unpack<public_key_type>());\n",
    "      built_in_types.emplace(\"signature\",                 pack_unpack<signature_type>());\n",
    "\n",
    "      built_in_types.emplace(\"symbol\",                    pack_unpack<symbol>());\n",
    "      built_in_types.emplace(\"symbol_code\",               pack_unpack<symbol_code>());\n",
    "      built_in_types.emplace(\"asset\",                     pack_unpack<asset>());\n",
    "      built_in_types.emplace(\"extended_asset\",            pack_unpack<extended_asset>());\n",
    "   }\n",
    "```"
   ]
  },
  {
   "cell_type": "code",
   "execution_count": 1,
   "metadata": {},
   "outputs": [],
   "source": [
    "from init import *"
   ]
  },
  {
   "cell_type": "markdown",
   "metadata": {},
   "source": [
    "# string"
   ]
  },
  {
   "cell_type": "code",
   "execution_count": 3,
   "metadata": {},
   "outputs": [],
   "source": [
    "\n",
    "abi = '''\n",
    "{\n",
    "   \"version\": \"eosio::abi/1.0\",\n",
    "   \"types\": [],\n",
    "  \"structs\": [{\n",
    "      \"name\": \"sayhello\",\n",
    "      \"base\": \"\",\n",
    "      \"fields\": [\n",
    "        {\"name\":\"worlds\", \"type\":\"string\"},\n",
    "      ]\n",
    "    }\n",
    "  ],\n",
    "  \"actions\": [{\n",
    "      \"name\": \"sayhello\",\n",
    "      \"type\": \"sayhello\",\n",
    "      \"ricardian_contract\": \"\"\n",
    "    }\n",
    "  ],\n",
    "  \"tables\": [\n",
    "  ]\n",
    "}\n",
    "'''\n"
   ]
  },
  {
   "cell_type": "code",
   "execution_count": 4,
   "metadata": {},
   "outputs": [],
   "source": [
    "uuosapi.set_abi('test', abi)"
   ]
  },
  {
   "cell_type": "code",
   "execution_count": 6,
   "metadata": {},
   "outputs": [
    {
     "name": "stdout",
     "output_type": "stream",
     "text": [
      "b'\\x80\\x01aaaaaaaaaaaaaaaaaaaaaaaaaaaaaaaaaaaaaaaaaaaaaaaaaaaaaaaaaaaaaaaaaaaaaaaaaaaaaaaaaaaaaaaaaaaaaaaaaaaaaaaaaaaaaaaaaaaaaaaaaaaaaaaa'\n",
      "{\"worlds\":\"aaaaaaaaaaaaaaaaaaaaaaaaaaaaaaaaaaaaaaaaaaaaaaaaaaaaaaaaaaaaaaaaaaaaaaaaaaaaaaaaaaaaaaaaaaaaaaaaaaaaaaaaaaaaaaaaaaaaaaaaaaaaaaaa\"}\n"
     ]
    }
   ],
   "source": [
    "args = {'worlds':'a'*128}\n",
    "packed_args = uuosapi.pack_args('test', 'sayhello', args)\n",
    "print(packed_args)\n",
    "args = uuosapi.unpack_args('test', 'sayhello', packed_args)\n",
    "print(args)"
   ]
  },
  {
   "cell_type": "code",
   "execution_count": null,
   "metadata": {},
   "outputs": [],
   "source": []
  },
  {
   "cell_type": "markdown",
   "metadata": {},
   "source": [
    "# bytes"
   ]
  },
  {
   "cell_type": "code",
   "execution_count": 7,
   "metadata": {},
   "outputs": [
    {
     "name": "stdout",
     "output_type": "stream",
     "text": [
      "68656c6c6f2c776f726c64\n",
      "b'\\x0bhello,world'\n"
     ]
    }
   ],
   "source": [
    "abi = '''\n",
    "{\n",
    "   \"version\": \"eosio::abi/1.0\",\n",
    "   \"types\": [],\n",
    "  \"structs\": [{\n",
    "      \"name\": \"sayhello\",\n",
    "      \"base\": \"\",\n",
    "      \"fields\": [\n",
    "        {\"name\":\"worlds\", \"type\":\"bytes\"},\n",
    "      ]\n",
    "    }\n",
    "  ],\n",
    "  \"actions\": [{\n",
    "      \"name\": \"sayhello\",\n",
    "      \"type\": \"sayhello\",\n",
    "      \"ricardian_contract\": \"\"\n",
    "    }\n",
    "  ],\n",
    "  \"tables\": [\n",
    "  ]\n",
    "}\n",
    "'''\n",
    "print(bytes.hex(b'hello,world'))\n",
    "uuosapi.set_abi('test', abi)\n",
    "args = {'worlds':bytes.hex(b'hello,world')}\n",
    "packed_args = uuosapi.pack_args('test', 'sayhello', args)\n",
    "print(packed_args)"
   ]
  },
  {
   "cell_type": "markdown",
   "metadata": {},
   "source": [
    "# array"
   ]
  },
  {
   "cell_type": "code",
   "execution_count": 8,
   "metadata": {},
   "outputs": [
    {
     "name": "stdout",
     "output_type": "stream",
     "text": [
      "b'\\x02\\x0bhello,world\\x05hello'\n",
      "{\"worlds\":[\"hello,world\",\"hello\"]}\n"
     ]
    }
   ],
   "source": [
    "abi = '''\n",
    "{\n",
    "   \"version\": \"eosio::abi/1.0\",\n",
    "   \"types\": [],\n",
    "  \"structs\": [{\n",
    "      \"name\": \"sayhello\",\n",
    "      \"base\": \"\",\n",
    "      \"fields\": [\n",
    "        {\"name\":\"worlds\", \"type\":\"string[]\"},\n",
    "      ]\n",
    "    }\n",
    "  ],\n",
    "  \"actions\": [{\n",
    "      \"name\": \"sayhello\",\n",
    "      \"type\": \"sayhello\",\n",
    "      \"ricardian_contract\": \"\"\n",
    "    }\n",
    "  ],\n",
    "  \"tables\": [\n",
    "  ]\n",
    "}\n",
    "'''\n",
    "args = {'worlds':['hello,world', 'hello']}\n",
    "uuosapi.set_abi('test', abi)\n",
    "packed_args = uuosapi.pack_args('test', 'sayhello', args)\n",
    "print(packed_args)\n",
    "args = uuosapi.unpack_args('test', 'sayhello', packed_args)\n",
    "print(args)\n"
   ]
  },
  {
   "cell_type": "markdown",
   "metadata": {},
   "source": [
    "# symbol"
   ]
  },
  {
   "cell_type": "code",
   "execution_count": 10,
   "metadata": {},
   "outputs": [
    {
     "name": "stdout",
     "output_type": "stream",
     "text": [
      "b'\\x04SSSSSSS'\n",
      "{\"test\":\"4,SSSSSSS\"}\n"
     ]
    }
   ],
   "source": [
    "abi = '''\n",
    "{\n",
    "   \"version\": \"eosio::abi/1.0\",\n",
    "   \"types\": [],\n",
    "  \"structs\": [{\n",
    "      \"name\": \"test\",\n",
    "      \"base\": \"\",\n",
    "      \"fields\": [\n",
    "        {\"name\":\"test\", \"type\":\"symbol\"},\n",
    "      ]\n",
    "    }\n",
    "  ],\n",
    "  \"actions\": [{\n",
    "      \"name\": \"test\",\n",
    "      \"type\": \"test\",\n",
    "      \"ricardian_contract\": \"\"\n",
    "    }\n",
    "  ],\n",
    "  \"tables\": [\n",
    "  ]\n",
    "}\n",
    "'''\n",
    "args = {'test':'4,SSSSSSS'}\n",
    "uuosapi.set_abi('test', abi)\n",
    "packed_args = uuosapi.pack_args('test', 'test', args)\n",
    "print(packed_args)\n",
    "print(uuosapi.unpack_args('test', 'test', packed_args))"
   ]
  },
  {
   "cell_type": "markdown",
   "metadata": {},
   "source": [
    "# asset\n",
    "```c++\n",
    "struct asset {\n",
    "  int64_t      amount;\n",
    "  symbol_type  symbol;\n",
    "}\n",
    "```"
   ]
  },
  {
   "cell_type": "code",
   "execution_count": 11,
   "metadata": {},
   "outputs": [
    {
     "name": "stdout",
     "output_type": "stream",
     "text": [
      "b'@B\\x0f\\x00\\x00\\x00\\x00\\x00\\x04SYS\\x00\\x00\\x00\\x00'\n",
      "{\"test\":\"100.0000 SYS\"}\n"
     ]
    }
   ],
   "source": [
    "abi = '''\n",
    "{\n",
    "   \"version\": \"eosio::abi/1.0\",\n",
    "   \"types\": [],\n",
    "  \"structs\": [{\n",
    "      \"name\": \"test\",\n",
    "      \"base\": \"\",\n",
    "      \"fields\": [\n",
    "        {\"name\":\"test\", \"type\":\"asset\"},\n",
    "      ]\n",
    "    }\n",
    "  ],\n",
    "  \"actions\": [{\n",
    "      \"name\": \"test\",\n",
    "      \"type\": \"test\",\n",
    "      \"ricardian_contract\": \"\"\n",
    "    }\n",
    "  ],\n",
    "  \"tables\": [\n",
    "  ]\n",
    "}\n",
    "'''\n",
    "args = {'test':'100.0000 SYS'}\n",
    "uuosapi.set_abi('test', abi)\n",
    "packed_args = uuosapi.pack_args('test', 'test', args)\n",
    "print(packed_args)\n",
    "args = uuosapi.unpack_args('test', 'test', packed_args)\n",
    "print(args)\n"
   ]
  },
  {
   "cell_type": "code",
   "execution_count": 12,
   "metadata": {},
   "outputs": [
    {
     "name": "stdout",
     "output_type": "stream",
     "text": [
      "b'\\x00\\x00\\x00\\x00\\x00\\xea0U\\x00\\xa6\\x824\\x03\\xea0U@B\\x0f\\x00\\x00\\x00\\x00\\x00\\x04UUOS\\x00\\x00\\x00\\x0bhello,world'\n",
      "{\"from\":\"eosio\",\"to\":\"eosio.token\",\"quantity\":\"100.0000 UUOS\",\"memo\":\"hello,world\"}\n"
     ]
    }
   ],
   "source": [
    "abi = '''\n",
    "{\n",
    "   \"version\": \"eosio::abi/1.0\",\n",
    "   \"types\": [{\n",
    "      \"new_type_name\": \"account_name\",\n",
    "      \"type\": \"name\"\n",
    "   }],\n",
    "  \"structs\": [{\n",
    "      \"name\": \"transfer\",\n",
    "      \"base\": \"\",\n",
    "      \"fields\": [\n",
    "        {\"name\":\"from\", \"type\":\"account_name\"},\n",
    "        {\"name\":\"to\", \"type\":\"account_name\"},\n",
    "        {\"name\":\"quantity\", \"type\":\"asset\"},\n",
    "        {\"name\":\"memo\", \"type\":\"string\"}\n",
    "      ]\n",
    "    }\n",
    "  ],\n",
    "  \"actions\": [{\n",
    "      \"name\": \"transfer\",\n",
    "      \"type\": \"transfer\",\n",
    "      \"ricardian_contract\": \"\"\n",
    "    }\n",
    "  ],\n",
    "  \"tables\": [\n",
    "  ],\n",
    "  \"ricardian_clauses\": [],\n",
    "  \"abi_extensions\": []\n",
    "}\n",
    "'''\n",
    "args = {'from':'eosio', 'to':'eosio.token', 'quantity':'100.0000 UUOS', 'memo':'hello,world'}\n",
    "uuosapi.set_abi('test', abi)\n",
    "packed_args = uuosapi.pack_args('test', 'transfer', args)\n",
    "print(packed_args)\n",
    "args = uuosapi.unpack_args('test', 'transfer', packed_args)\n",
    "print(args)"
   ]
  },
  {
   "cell_type": "code",
   "execution_count": null,
   "metadata": {},
   "outputs": [],
   "source": []
  },
  {
   "cell_type": "markdown",
   "metadata": {},
   "source": [
    "# float64"
   ]
  },
  {
   "cell_type": "code",
   "execution_count": 13,
   "metadata": {},
   "outputs": [
    {
     "name": "stdout",
     "output_type": "stream",
     "text": [
      "b'\\x00\\x00\\x00\\x00\\x00\\x90g@'\n",
      "{\"test\":\"188.50000000000000000\"}\n"
     ]
    }
   ],
   "source": [
    "abi = '''{\n",
    "   \"version\": \"eosio::abi/1.0\",\n",
    "   \"types\": [],\n",
    "  \"structs\": [{\n",
    "      \"name\": \"test\",\n",
    "      \"base\": \"\",\n",
    "      \"fields\": [\n",
    "        {\"name\":\"test\", \"type\":\"float64\"},\n",
    "      ]\n",
    "    }\n",
    "  ],\n",
    "  \"actions\": [{\n",
    "      \"name\": \"test\",\n",
    "      \"type\": \"test\",\n",
    "      \"ricardian_contract\": \"\"\n",
    "    }\n",
    "  ],\n",
    "  \"tables\": [\n",
    "  ]\n",
    "}\n",
    "'''\n",
    "args = {'test':188.5}\n",
    "uuosapi.set_abi('test', abi)\n",
    "packed_args = uuosapi.pack_args('test', 'test', args)\n",
    "print(packed_args)\n",
    "args = uuosapi.unpack_args('test', 'test', packed_args)\n",
    "print(args)"
   ]
  },
  {
   "cell_type": "markdown",
   "metadata": {},
   "source": [
    "# public_key"
   ]
  },
  {
   "cell_type": "code",
   "execution_count": 14,
   "metadata": {},
   "outputs": [
    {
     "name": "stdout",
     "output_type": "stream",
     "text": [
      "b'\\x00\\x03k\\xfc\\\\\\xc1\\xe9!V%\\xa2\\xf2_\\xd1\\x01<\\xden{\\x9do)GS\\xcc\\xe4\\x98\\xf5u\\xa2\\xe74\\xa7\\x00'\n",
      "{\"test\":\"EOS7ent7keWbVgvptfYaMYeF2cenMBiwYKcwEuc11uCbStsFKsrmV\"}\n"
     ]
    }
   ],
   "source": [
    "abi = '''\n",
    "{\n",
    "   \"version\": \"eosio::abi/1.0\",\n",
    "   \"types\": [],\n",
    "  \"structs\": [{\n",
    "      \"name\": \"test\",\n",
    "      \"base\": \"\",\n",
    "      \"fields\": [\n",
    "        {\"name\":\"test\", \"type\":\"public_key\"},\n",
    "      ]\n",
    "    }\n",
    "  ],\n",
    "  \"actions\": [{\n",
    "      \"name\": \"test\",\n",
    "      \"type\": \"test\",\n",
    "      \"ricardian_contract\": \"\"\n",
    "    }\n",
    "  ],\n",
    "  \"tables\": [\n",
    "  ]\n",
    "}\n",
    "'''\n",
    "uuosapi.set_abi('test', abi)\n",
    "\n",
    "args = {'test':'EOS7ent7keWbVgvptfYaMYeF2cenMBiwYKcwEuc11uCbStsFKsrmV'}\n",
    "packed_args = uuosapi.pack_args('test', 'test', args)\n",
    "print(packed_args)\n",
    "args = uuosapi.unpack_args('test', 'test', packed_args)\n",
    "print(args)"
   ]
  },
  {
   "cell_type": "markdown",
   "metadata": {},
   "source": [
    "# signature"
   ]
  },
  {
   "cell_type": "code",
   "execution_count": 15,
   "metadata": {},
   "outputs": [
    {
     "name": "stdout",
     "output_type": "stream",
     "text": [
      "b'\\x00\\x1f+v\\x98\\x0c\\x1b\\x84\\x91\\xa4:\\xc2b\\xa2q\\xeb)\\xd3\\x8f\\x89\\x8cm\\x1d\\x9a\\xd7\\xc2o\\xa4\\x03\\xe2K>\\xc5,\\x06-\\xbf\\xd5i#\\xfb\\xb4|Q\\xf8:\\x9dtN\\x83\\xab\\x88JJ\\xac\\nPh\\xcc\\xa5\\xe0\\xb15$\\x9b\\xcd'\n",
      "{\"test\":\"SIG_K1_JzwaU4Zf1ZzyRDsg5EtoThjqtECKMcKozDTHwEtBpqoCQAYu1JnZXSTc7Tjpb1AzLNxu8gCXRrHYhLgz7v9M2iu3Th8Qow\"}\n"
     ]
    }
   ],
   "source": [
    "import os\n",
    "from pyeoskit import wallet\n",
    "if os.path.exists('testabi.wallet'):\n",
    "    os.remove('testabi.wallet')\n",
    "psw = wallet.create('testabi')\n",
    "wallet.import_key('testabi', '5KH8vwQkP4QoTwgBtCV5ZYhKmv8mx56WeNrw9AZuhNRXTrPzgYc')\n",
    "\n",
    "abi = '''\n",
    "{\n",
    "   \"version\": \"eosio::abi/1.0\",\n",
    "   \"types\": [],\n",
    "  \"structs\": [{\n",
    "      \"name\": \"test\",\n",
    "      \"base\": \"\",\n",
    "      \"fields\": [\n",
    "        {\"name\":\"test\", \"type\":\"signature\"},\n",
    "      ]\n",
    "    }\n",
    "  ],\n",
    "  \"actions\": [{\n",
    "      \"name\": \"test\",\n",
    "      \"type\": \"test\",\n",
    "      \"ricardian_contract\": \"\"\n",
    "    }\n",
    "  ],\n",
    "  \"tables\": [\n",
    "  ]\n",
    "}\n",
    "'''\n",
    "uuosapi.set_abi('test', abi)\n",
    "\n",
    "import hashlib\n",
    "h = hashlib.sha256()\n",
    "h.update(b'hello,world')\n",
    "digest = h.digest()\n",
    "digest = wallet.sign_digest(digest, 'EOS7ent7keWbVgvptfYaMYeF2cenMBiwYKcwEuc11uCbStsFKsrmV')\n",
    "args = {'test':digest}\n",
    "packed_args = uuosapi.pack_args('test', 'test', args)\n",
    "print(packed_args)\n",
    "args = uuosapi.unpack_args('test', 'test', packed_args)\n",
    "print(args)\n"
   ]
  },
  {
   "cell_type": "code",
   "execution_count": 9,
   "metadata": {},
   "outputs": [
    {
     "data": {
      "text/plain": [
       "b'\\x03k\\xfc\\\\\\xc1\\xe9!V%\\xa2\\xf2_\\xd1\\x01<\\xden{\\x9do)GS\\xcc\\xe4\\x98\\xf5u\\xa2\\xe74\\xa7\\x00O}\\xcc\\xa8'"
      ]
     },
     "execution_count": 9,
     "metadata": {},
     "output_type": "execute_result"
    }
   ],
   "source": [
    "import base58\n",
    "dir(base58)\n",
    "base58.b58decode('7ent7keWbVgvptfYaMYeF2cenMBiwYKcwEuc11uCbStsFKsrmV')"
   ]
  },
  {
   "cell_type": "markdown",
   "metadata": {},
   "source": [
    "# checksum160"
   ]
  },
  {
   "cell_type": "code",
   "execution_count": 16,
   "metadata": {},
   "outputs": [
    {
     "name": "stdout",
     "output_type": "stream",
     "text": [
      "b'\\xaa\\xf4\\xc6\\x1d\\xdc\\xc5\\xe8\\xa2\\xda\\xbe\\xde\\x0f;H,\\xd9\\xae\\xa9CM'\n",
      "{\"test\":\"aaf4c61ddcc5e8a2dabede0f3b482cd9aea9434d\"}\n"
     ]
    }
   ],
   "source": [
    "abi = '''\n",
    "{\n",
    "   \"version\": \"eosio::abi/1.0\",\n",
    "   \"types\": [],\n",
    "  \"structs\": [{\n",
    "      \"name\": \"test\",\n",
    "      \"base\": \"\",\n",
    "      \"fields\": [\n",
    "        {\"name\":\"test\", \"type\":\"checksum160\"},\n",
    "      ]\n",
    "    }\n",
    "  ],\n",
    "  \"actions\": [{\n",
    "      \"name\": \"test\",\n",
    "      \"type\": \"test\",\n",
    "      \"ricardian_contract\": \"\"\n",
    "    }\n",
    "  ],\n",
    "  \"tables\": [\n",
    "  ]\n",
    "}\n",
    "'''\n",
    "uuosapi.set_abi('test', abi)\n",
    "\n",
    "import hashlib\n",
    "h = hashlib.sha1()\n",
    "h.update(b'hello')\n",
    "digest = h.hexdigest()\n",
    "args = {'test': digest}\n",
    "packed_args = uuosapi.pack_args('test', 'test', args)\n",
    "print(packed_args)\n",
    "args = uuosapi.unpack_args('test', 'test', packed_args)\n",
    "print(args)"
   ]
  },
  {
   "cell_type": "markdown",
   "metadata": {},
   "source": [
    "# checksum256"
   ]
  },
  {
   "cell_type": "code",
   "execution_count": 18,
   "metadata": {},
   "outputs": [
    {
     "name": "stdout",
     "output_type": "stream",
     "text": [
      "b',\\xf2M\\xba_\\xb0\\xa3\\x0e&\\xe8;*\\xc5\\xb9\\xe2\\x9e\\x1b\\x16\\x1e\\\\\\x1f\\xa7B^s\\x043b\\x93\\x8b\\x98$'\n",
      "{\"test\":\"2cf24dba5fb0a30e26e83b2ac5b9e29e1b161e5c1fa7425e73043362938b9824\"}\n"
     ]
    }
   ],
   "source": [
    "abi = '''\n",
    "{\n",
    "   \"version\": \"eosio::abi/1.0\",\n",
    "   \"types\": [],\n",
    "  \"structs\": [{\n",
    "      \"name\": \"test\",\n",
    "      \"base\": \"\",\n",
    "      \"fields\": [\n",
    "        {\"name\":\"test\", \"type\":\"checksum256\"},\n",
    "      ]\n",
    "    }\n",
    "  ],\n",
    "  \"actions\": [{\n",
    "      \"name\": \"test\",\n",
    "      \"type\": \"test\",\n",
    "      \"ricardian_contract\": \"\"\n",
    "    }\n",
    "  ],\n",
    "  \"tables\": [\n",
    "  ]\n",
    "}\n",
    "'''\n",
    "uuosapi.set_abi('test', abi)\n",
    "\n",
    "import hashlib\n",
    "h = hashlib.sha256()\n",
    "h.update(b'hello')\n",
    "digest = h.hexdigest()\n",
    "args = {'test':digest}\n",
    "packed_args = uuosapi.pack_args('test', 'test', args)\n",
    "print(packed_args)\n",
    "args = uuosapi.unpack_args('test', 'test', packed_args)\n",
    "print(args)"
   ]
  },
  {
   "cell_type": "code",
   "execution_count": null,
   "metadata": {},
   "outputs": [],
   "source": []
  }
 ],
 "metadata": {
  "kernelspec": {
   "display_name": "Python 3",
   "language": "python",
   "name": "python3"
  },
  "language_info": {
   "codemirror_mode": {
    "name": "ipython",
    "version": 3
   },
   "file_extension": ".py",
   "mimetype": "text/x-python",
   "name": "python",
   "nbconvert_exporter": "python",
   "pygments_lexer": "ipython3",
   "version": "3.7.4"
  }
 },
 "nbformat": 4,
 "nbformat_minor": 2
}
