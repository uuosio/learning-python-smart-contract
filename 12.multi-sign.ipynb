{
 "cells": [
  {
   "cell_type": "markdown",
   "metadata": {},
   "source": [
    "```python\n",
    "eosapi.gen_transaction(actions, expiration, reference_block_id)\n",
    "```"
   ]
  },
  {
   "cell_type": "markdown",
   "metadata": {},
   "source": [
    "```python\n",
    "wallet.sign_transaction(trx, public_keys, chain_id)\n",
    "```"
   ]
  },
  {
   "cell_type": "markdown",
   "metadata": {},
   "source": [
    "```python\n",
    "eosapi.push_transaction(trx, compress=0)\n",
    "```"
   ]
  },
  {
   "cell_type": "code",
   "execution_count": 1,
   "metadata": {
    "scrolled": true
   },
   "outputs": [],
   "source": [
    "from init import *\n",
    "import json"
   ]
  },
  {
   "cell_type": "code",
   "execution_count": 4,
   "metadata": {},
   "outputs": [
    {
     "data": {
      "text/plain": [
       "['EOS7sPDxfw5yx5SZgQcVb57zS1XeSWLNpQKhaGjjy2qe61BrAQ49o',\n",
       " 'EOS89jesRgvvnFVuNtLg4rkFXcBg2Qq26wjzppssdHj2a8PSoWMhx']"
      ]
     },
     "execution_count": 4,
     "metadata": {},
     "output_type": "execute_result"
    }
   ],
   "source": [
    "a = ['EOS7sPDxfw5yx5SZgQcVb57zS1XeSWLNpQKhaGjjy2qe61BrAQ49o',\n",
    "    'EOS89jesRgvvnFVuNtLg4rkFXcBg2Qq26wjzppssdHj2a8PSoWMhx']\n",
    "a.sort()\n",
    "a"
   ]
  },
  {
   "cell_type": "code",
   "execution_count": 5,
   "metadata": {},
   "outputs": [
    {
     "name": "stdout",
     "output_type": "stream",
     "text": [
      "done!\n"
     ]
    }
   ],
   "source": [
    "a = {\n",
    "    \"account\": python_contract,\n",
    "    \"permission\": \"sayhello\",\n",
    "    \"parent\": \"active\",\n",
    "    \"auth\": {\n",
    "        \"threshold\": 2,\n",
    "        \"keys\": [\n",
    "            {\n",
    "                \"key\": \"EOS7sPDxfw5yx5SZgQcVb57zS1XeSWLNpQKhaGjjy2qe61BrAQ49o\",\n",
    "                \"weight\": 1\n",
    "            },\n",
    "            {\n",
    "                \"key\": \"EOS89jesRgvvnFVuNtLg4rkFXcBg2Qq26wjzppssdHj2a8PSoWMhx\",\n",
    "                \"weight\": 1\n",
    "            }\n",
    "        ],\n",
    "        \"accounts\": [],\n",
    "        \"waits\": []\n",
    "    }\n",
    "}\n",
    "r = uuosapi.push_action('eosio', 'updateauth', a, {python_contract:'active'})\n",
    "print('done!')"
   ]
  },
  {
   "cell_type": "code",
   "execution_count": 6,
   "metadata": {
    "scrolled": true
   },
   "outputs": [
    {
     "data": {
      "text/plain": [
       "{'transaction_id': '1c120c44e9943b109c733350e260f134c01173d1d54235b73ec3d017a22cd3a3',\n",
       " 'processed': {'id': '1c120c44e9943b109c733350e260f134c01173d1d54235b73ec3d017a22cd3a3',\n",
       "  'block_num': 3122,\n",
       "  'block_time': {'slot': 332998872},\n",
       "  'producer_block_id': None,\n",
       "  'receipt': {'status': 'executed',\n",
       "   'cpu_usage_us': 277,\n",
       "   'net_usage_words': 16},\n",
       "  'elapsed': 277,\n",
       "  'net_usage': 128,\n",
       "  'scheduled': False,\n",
       "  'action_traces': [{'action_ordinal': 1,\n",
       "    'creator_action_ordinal': 0,\n",
       "    'closest_unnotified_ancestor_action_ordinal': 0,\n",
       "    'receipt': {'receiver': 'eosio',\n",
       "     'act_digest': 'f72cd783b33beadfdc670e2e80e4e7f0b4e8eb45f83f1cd7d1271376315c09ec',\n",
       "     'global_sequence': 3657,\n",
       "     'recv_sequence': 3362,\n",
       "     'auth_sequence': [['hello', 58]],\n",
       "     'code_sequence': 2,\n",
       "     'abi_sequence': 2},\n",
       "    'receiver': 'eosio',\n",
       "    'act': {'account': 'eosio',\n",
       "     'name': 'linkauth',\n",
       "     'authorization': [{'actor': 'hello', 'permission': 'active'}],\n",
       "     'data': {'account': 'hello',\n",
       "      'code': 'hello',\n",
       "      'type': 'sayhello',\n",
       "      'requirement': 'sayhello'},\n",
       "     'hex_data': '00000000001aa36a00000000001aa36a0000003446d5bcc10000003446d5bcc1'},\n",
       "    'context_free': False,\n",
       "    'elapsed': 91,\n",
       "    'console': '',\n",
       "    'trx_id': '1c120c44e9943b109c733350e260f134c01173d1d54235b73ec3d017a22cd3a3',\n",
       "    'block_num': 3122,\n",
       "    'block_time': {'slot': 332998872},\n",
       "    'producer_block_id': None,\n",
       "    'account_ram_deltas': [{'account': 'hello', 'delta': 144}],\n",
       "    'account_disk_deltas': [],\n",
       "    'except': None,\n",
       "    'error_code': None,\n",
       "    'return_value_hex_data': '',\n",
       "    'inline_traces': []}],\n",
       "  'account_ram_delta': None,\n",
       "  'except': None,\n",
       "  'error_code': None}}"
      ]
     },
     "execution_count": 6,
     "metadata": {},
     "output_type": "execute_result"
    }
   ],
   "source": [
    "args = {\n",
    "    'account':python_contract,\n",
    "    'code':python_contract,\n",
    "    'type':'sayhello',\n",
    "    'requirement':'sayhello'\n",
    "}\n",
    "uuosapi.push_action('eosio', 'linkauth', args, {python_contract:'active'})"
   ]
  },
  {
   "cell_type": "code",
   "execution_count": 7,
   "metadata": {
    "scrolled": true
   },
   "outputs": [
    {
     "data": {
      "text/plain": [
       "{'account_name': 'hello',\n",
       " 'head_block_num': 3123,\n",
       " 'head_block_time': '2021-02-07T07:22:26.000',\n",
       " 'privileged': False,\n",
       " 'last_code_update': '2021-02-07T05:46:20.000',\n",
       " 'created': '2021-02-07T05:31:46.000',\n",
       " 'core_liquid_balance': '10000000.1000 EOS',\n",
       " 'ram_quota': -1,\n",
       " 'net_weight': -1,\n",
       " 'cpu_weight': -1,\n",
       " 'net_limit': {'used': -1,\n",
       "  'available': -1,\n",
       "  'max': -1,\n",
       "  'last_usage_update_time': {'slot': 332998872},\n",
       "  'current_used': -1},\n",
       " 'cpu_limit': {'used': -1,\n",
       "  'available': -1,\n",
       "  'max': -1,\n",
       "  'last_usage_update_time': {'slot': 332998872},\n",
       "  'current_used': -1},\n",
       " 'ram_usage': 2713988,\n",
       " 'permissions': [{'perm_name': 'active',\n",
       "   'parent': 'owner',\n",
       "   'required_auth': {'threshold': 1,\n",
       "    'keys': [{'key': 'EOS6AjF6hvF7GSuSd4sCgfPKq5uWaXvGM2aQtEUCwmEHygQaqxBSV',\n",
       "      'weight': 1}],\n",
       "    'accounts': [{'permission': {'actor': 'hello', 'permission': 'eosio.code'},\n",
       "      'weight': 1}],\n",
       "    'waits': []}},\n",
       "  {'perm_name': 'owner',\n",
       "   'parent': '',\n",
       "   'required_auth': {'threshold': 1,\n",
       "    'keys': [{'key': 'EOS6AjF6hvF7GSuSd4sCgfPKq5uWaXvGM2aQtEUCwmEHygQaqxBSV',\n",
       "      'weight': 1}],\n",
       "    'accounts': [],\n",
       "    'waits': []}},\n",
       "  {'perm_name': 'sayhello',\n",
       "   'parent': 'active',\n",
       "   'required_auth': {'threshold': 2,\n",
       "    'keys': [{'key': 'EOS7sPDxfw5yx5SZgQcVb57zS1XeSWLNpQKhaGjjy2qe61BrAQ49o',\n",
       "      'weight': 1},\n",
       "     {'key': 'EOS89jesRgvvnFVuNtLg4rkFXcBg2Qq26wjzppssdHj2a8PSoWMhx',\n",
       "      'weight': 1}],\n",
       "    'accounts': [],\n",
       "    'waits': []}}],\n",
       " 'total_resources': None,\n",
       " 'self_delegated_bandwidth': None,\n",
       " 'refund_request': None,\n",
       " 'voter_info': None,\n",
       " 'rex_info': None}"
      ]
     },
     "execution_count": 7,
     "metadata": {},
     "output_type": "execute_result"
    }
   ],
   "source": [
    "uuosapi.get_account(python_contract)"
   ]
  },
  {
   "cell_type": "code",
   "execution_count": 8,
   "metadata": {},
   "outputs": [
    {
     "data": {
      "text/plain": [
       "'hello'"
      ]
     },
     "execution_count": 8,
     "metadata": {},
     "output_type": "execute_result"
    }
   ],
   "source": [
    "python_contract"
   ]
  },
  {
   "cell_type": "code",
   "execution_count": 10,
   "metadata": {
    "scrolled": true
   },
   "outputs": [
    {
     "name": "stdout",
     "output_type": "stream",
     "text": [
      "hello,world\r\n",
      "\n"
     ]
    }
   ],
   "source": [
    "code = '''\n",
    "import chain\n",
    "def apply(receiver, code, action):\n",
    "    print('hello,world')\n",
    "    chain.require_auth2('hello', 'sayhello')\n",
    "'''\n",
    "code = uuosapi.mp_compile(python_contract, code)\n",
    "uuosapi.deploy_python_contract(python_contract, code, b'', deploy_type=1)\n",
    "r = uuosapi.push_action(python_contract, 'sayhello', b'hello,world', {python_contract:'sayhello'})\n",
    "print(r['processed']['action_traces'][0]['console'])"
   ]
  },
  {
   "cell_type": "code",
   "execution_count": 11,
   "metadata": {
    "scrolled": false
   },
   "outputs": [
    {
     "name": "stdout",
     "output_type": "stream",
     "text": [
      "{\"expiration\":\"2021-02-07T08:23:14\",\"ref_block_num\":3146,\"ref_block_prefix\":2747756194,\"max_net_usage_words\":0,\"max_cpu_usage_ms\":0,\"delay_sec\":0,\"context_free_actions\":[],\"actions\":[{\"account\":\"hello\",\"name\":\"sayhello\",\"authorization\":[{\"actor\":\"hello\",\"permission\":\"sayhello\"}],\"data\":\"68656c6c6f2c776f726c64\"}],\"transaction_extensions\":[],\"signatures\":[],\"context_free_data\":[]}\n"
     ]
    }
   ],
   "source": [
    "action = [python_contract, 'sayhello', b'hello,world', {python_contract:'sayhello'}]\n",
    "info = uuosapi.get_info()\n",
    "reference_block_id = info['last_irreversible_block_id']\n",
    "trx = uuosapi.gen_transaction([action], 60*60, reference_block_id)\n",
    "print(trx)"
   ]
  },
  {
   "cell_type": "code",
   "execution_count": 12,
   "metadata": {},
   "outputs": [
    {
     "data": {
      "text/plain": [
       "{'perm_name': 'sayhello',\n",
       " 'parent': 'active',\n",
       " 'required_auth': {'threshold': 2,\n",
       "  'keys': [{'key': 'EOS7sPDxfw5yx5SZgQcVb57zS1XeSWLNpQKhaGjjy2qe61BrAQ49o',\n",
       "    'weight': 1},\n",
       "   {'key': 'EOS89jesRgvvnFVuNtLg4rkFXcBg2Qq26wjzppssdHj2a8PSoWMhx',\n",
       "    'weight': 1}],\n",
       "  'accounts': [],\n",
       "  'waits': []}}"
      ]
     },
     "execution_count": 12,
     "metadata": {},
     "output_type": "execute_result"
    }
   ],
   "source": [
    "uuosapi.get_account(python_contract)['permissions'][2]"
   ]
  },
  {
   "cell_type": "markdown",
   "metadata": {},
   "source": [
    "### sign with private key of EOS7sPDxfw5yx5SZgQcVb57zS1XeSWLNpQKhaGjjy2qe61BrAQ49o"
   ]
  },
  {
   "cell_type": "code",
   "execution_count": null,
   "metadata": {},
   "outputs": [],
   "source": []
  },
  {
   "cell_type": "code",
   "execution_count": 14,
   "metadata": {},
   "outputs": [
    {
     "data": {
      "text/plain": [
       "['SIG_K1_KcnGviEcveYheYXZrwthrzEYG9XEpC6Cuaaco19eU8kyk4NZigMfVmDNP4m1Afy5uEq4834PD3oSkHDGMjxZW8y4zRszVj']"
      ]
     },
     "execution_count": 14,
     "metadata": {},
     "output_type": "execute_result"
    }
   ],
   "source": [
    "import hashlib\n",
    "import json\n",
    "public_keys = ['EOS7sPDxfw5yx5SZgQcVb57zS1XeSWLNpQKhaGjjy2qe61BrAQ49o',]\n",
    "info = uuosapi.get_info()\n",
    "signed_trx = wallet.sign_transaction(trx, public_keys, info['chain_id'])\n",
    "sign1 = json.loads(signed_trx)['signatures']\n",
    "sign1"
   ]
  },
  {
   "cell_type": "code",
   "execution_count": 16,
   "metadata": {},
   "outputs": [
    {
     "data": {
      "text/plain": [
       "'SIG_K1_K5qu5LGuzAc3TrpsDWH8wC4cEXcmcchbnDEKxxRnAFkuubJWpp1pumySADpbGSnQzZG4soxAa2bxbScftYC2bTiCvaEdLP'"
      ]
     },
     "execution_count": 16,
     "metadata": {},
     "output_type": "execute_result"
    }
   ],
   "source": [
    "import hashlib\n",
    "info = uuosapi.get_info()\n",
    "chain_id = bytes.fromhex(info['chain_id'])\n",
    "\n",
    "packed_trx = uuosapi.pack_transaction(trx)\n",
    "packed_trx = json.loads(packed_trx)\n",
    "packed_trx = bytes.fromhex(packed_trx['packed_trx'])\n",
    "\n",
    "h = hashlib.sha256()\n",
    "h.update(chain_id)\n",
    "h.update(packed_trx)\n",
    "h.update(b'\\x00'*32)\n",
    "wallet.sign_digest(h.digest(), 'EOS89jesRgvvnFVuNtLg4rkFXcBg2Qq26wjzppssdHj2a8PSoWMhx')\n"
   ]
  },
  {
   "cell_type": "markdown",
   "metadata": {},
   "source": [
    "### sign with private key of EOS89jesRgvvnFVuNtLg4rkFXcBg2Qq26wjzppssdHj2a8PSoWMhx"
   ]
  },
  {
   "cell_type": "code",
   "execution_count": 17,
   "metadata": {},
   "outputs": [
    {
     "data": {
      "text/plain": [
       "['SIG_K1_KcnGviEcveYheYXZrwthrzEYG9XEpC6Cuaaco19eU8kyk4NZigMfVmDNP4m1Afy5uEq4834PD3oSkHDGMjxZW8y4zRszVj',\n",
       " 'SIG_K1_K5qu5LGuzAc3TrpsDWH8wC4cEXcmcchbnDEKxxRnAFkuubJWpp1pumySADpbGSnQzZG4soxAa2bxbScftYC2bTiCvaEdLP']"
      ]
     },
     "execution_count": 17,
     "metadata": {},
     "output_type": "execute_result"
    }
   ],
   "source": [
    "public_keys = ['EOS89jesRgvvnFVuNtLg4rkFXcBg2Qq26wjzppssdHj2a8PSoWMhx']\n",
    "info = uuosapi.get_info()\n",
    "signed_trx = wallet.sign_transaction(signed_trx, public_keys, info['chain_id'])\n",
    "sign2 = json.loads(signed_trx)['signatures']\n",
    "sign2"
   ]
  },
  {
   "cell_type": "code",
   "execution_count": 18,
   "metadata": {
    "scrolled": true
   },
   "outputs": [
    {
     "name": "stdout",
     "output_type": "stream",
     "text": [
      "hello,world\r\n",
      "\n"
     ]
    }
   ],
   "source": [
    "r = uuosapi.push_transaction(signed_trx, compress=False)\n",
    "print(r['processed']['action_traces'][0]['console'])"
   ]
  }
 ],
 "metadata": {
  "kernelspec": {
   "display_name": "Python 3",
   "language": "python",
   "name": "python3"
  },
  "language_info": {
   "codemirror_mode": {
    "name": "ipython",
    "version": 3
   },
   "file_extension": ".py",
   "mimetype": "text/x-python",
   "name": "python",
   "nbconvert_exporter": "python",
   "pygments_lexer": "ipython3",
   "version": "3.7.4"
  }
 },
 "nbformat": 4,
 "nbformat_minor": 2
}
