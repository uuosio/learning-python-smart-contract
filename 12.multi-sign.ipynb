{
 "cells": [
  {
   "cell_type": "markdown",
   "metadata": {},
   "source": [
    "```python\n",
    "eosapi.gen_transaction(actions, expiration, reference_block_id)\n",
    "```"
   ]
  },
  {
   "cell_type": "markdown",
   "metadata": {},
   "source": [
    "```python\n",
    "wallet.sign_transaction(trx, public_keys, chain_id)\n",
    "```"
   ]
  },
  {
   "cell_type": "markdown",
   "metadata": {},
   "source": [
    "```python\n",
    "eosapi.push_transaction(trx, compress=0)\n",
    "```"
   ]
  },
  {
   "cell_type": "code",
   "execution_count": 58,
   "metadata": {
    "scrolled": true
   },
   "outputs": [],
   "source": [
    "from init import *\n",
    "import json"
   ]
  },
  {
   "cell_type": "code",
   "execution_count": 38,
   "metadata": {},
   "outputs": [
    {
     "data": {
      "text/plain": [
       "['EOS4yV91cqR6db8ntKtCLFVwWfvvvDMZctpd85GsaX5GUMaiqUWYL',\n",
       " 'EOS5gNqDpWm72KzNWFVgBDmybrEtk9qx2ZuAeRbK9iSJMVJ2B8y73']"
      ]
     },
     "execution_count": 38,
     "metadata": {},
     "output_type": "execute_result"
    }
   ],
   "source": [
    "a = ['EOS4yV91cqR6db8ntKtCLFVwWfvvvDMZctpd85GsaX5GUMaiqUWYL',\n",
    "    'EOS5gNqDpWm72KzNWFVgBDmybrEtk9qx2ZuAeRbK9iSJMVJ2B8y73']\n",
    "a.sort()\n",
    "a"
   ]
  },
  {
   "cell_type": "code",
   "execution_count": 46,
   "metadata": {},
   "outputs": [
    {
     "name": "stdout",
     "output_type": "stream",
     "text": [
      "done!\n"
     ]
    }
   ],
   "source": [
    "a = {\n",
    "    \"account\": python_contract,\n",
    "    \"permission\": \"sayhello\",\n",
    "    \"parent\": \"active\",\n",
    "    \"auth\": {\n",
    "        \"threshold\": 2,\n",
    "        \"keys\": [\n",
    "            {\n",
    "                \"key\": \"EOS4yV91cqR6db8ntKtCLFVwWfvvvDMZctpd85GsaX5GUMaiqUWYL\",\n",
    "                \"weight\": 1\n",
    "            },\n",
    "            {\n",
    "                \"key\": \"EOS5gNqDpWm72KzNWFVgBDmybrEtk9qx2ZuAeRbK9iSJMVJ2B8y73\",\n",
    "                \"weight\": 1\n",
    "            }\n",
    "        ],\n",
    "        \"accounts\": [],\n",
    "        \"waits\": []\n",
    "    }\n",
    "}\n",
    "r = uuosapi.push_action('eosio', 'updateauth', a, {python_contract:'active'})\n",
    "print('done!')"
   ]
  },
  {
   "cell_type": "code",
   "execution_count": 52,
   "metadata": {
    "scrolled": true
   },
   "outputs": [
    {
     "data": {
      "text/plain": [
       "{'transaction_id': 'e954825897da354a38bd0d4b8b6502473a46d82750dc92d7857f9c8907c5fa10',\n",
       " 'processed': {'id': 'e954825897da354a38bd0d4b8b6502473a46d82750dc92d7857f9c8907c5fa10',\n",
       "  'block_num': 44502669,\n",
       "  'block_time': '2021-01-06T11:28:36.000',\n",
       "  'producer_block_id': None,\n",
       "  'receipt': {'status': 'executed',\n",
       "   'cpu_usage_us': 449,\n",
       "   'net_usage_words': 16},\n",
       "  'elapsed': 449,\n",
       "  'net_usage': 128,\n",
       "  'scheduled': False,\n",
       "  'action_traces': [{'action_ordinal': 1,\n",
       "    'creator_action_ordinal': 0,\n",
       "    'closest_unnotified_ancestor_action_ordinal': 0,\n",
       "    'receipt': {'receiver': 'eosio',\n",
       "     'act_digest': '515222e6eb83b57b46bb66e742296f91f298e51b7bc11472864017efb33bcf1b',\n",
       "     'global_sequence': 54890536,\n",
       "     'recv_sequence': 44539930,\n",
       "     'auth_sequence': [['ceyelqpjeeia', 2170]],\n",
       "     'code_sequence': 3,\n",
       "     'abi_sequence': 3},\n",
       "    'receiver': 'eosio',\n",
       "    'act': {'account': 'eosio',\n",
       "     'name': 'linkauth',\n",
       "     'authorization': [{'actor': 'ceyelqpjeeia', 'permission': 'active'}],\n",
       "     'data': {'account': 'ceyelqpjeeia',\n",
       "      'code': 'ceyelqpjeeia',\n",
       "      'type': 'sayhello',\n",
       "      'requirement': 'sayhello'},\n",
       "     'hex_data': '609c52afdaa8bc42609c52afdaa8bc420000003446d5bcc10000003446d5bcc1'},\n",
       "    'context_free': False,\n",
       "    'elapsed': 90,\n",
       "    'console': '',\n",
       "    'trx_id': 'e954825897da354a38bd0d4b8b6502473a46d82750dc92d7857f9c8907c5fa10',\n",
       "    'block_num': 44502669,\n",
       "    'block_time': '2021-01-06T11:28:36.000',\n",
       "    'producer_block_id': None,\n",
       "    'account_ram_deltas': [{'account': 'ceyelqpjeeia', 'delta': 144}],\n",
       "    'except': None,\n",
       "    'error_code': None,\n",
       "    'inline_traces': [{'action_ordinal': 2,\n",
       "      'creator_action_ordinal': 1,\n",
       "      'closest_unnotified_ancestor_action_ordinal': 1,\n",
       "      'receipt': {'receiver': 'eosio.authln',\n",
       "       'act_digest': '515222e6eb83b57b46bb66e742296f91f298e51b7bc11472864017efb33bcf1b',\n",
       "       'global_sequence': 54890537,\n",
       "       'recv_sequence': 3,\n",
       "       'auth_sequence': [['ceyelqpjeeia', 2171]],\n",
       "       'code_sequence': 3,\n",
       "       'abi_sequence': 3},\n",
       "      'receiver': 'eosio.authln',\n",
       "      'act': {'account': 'eosio',\n",
       "       'name': 'linkauth',\n",
       "       'authorization': [{'actor': 'ceyelqpjeeia', 'permission': 'active'}],\n",
       "       'data': {'account': 'ceyelqpjeeia',\n",
       "        'code': 'ceyelqpjeeia',\n",
       "        'type': 'sayhello',\n",
       "        'requirement': 'sayhello'},\n",
       "       'hex_data': '609c52afdaa8bc42609c52afdaa8bc420000003446d5bcc10000003446d5bcc1'},\n",
       "      'context_free': False,\n",
       "      'elapsed': 148,\n",
       "      'console': '',\n",
       "      'trx_id': 'e954825897da354a38bd0d4b8b6502473a46d82750dc92d7857f9c8907c5fa10',\n",
       "      'block_num': 44502669,\n",
       "      'block_time': '2021-01-06T11:28:36.000',\n",
       "      'producer_block_id': None,\n",
       "      'account_ram_deltas': [{'account': 'eosio.authln', 'delta': 400}],\n",
       "      'except': None,\n",
       "      'error_code': None,\n",
       "      'inline_traces': []}]}],\n",
       "  'account_ram_delta': None,\n",
       "  'except': None,\n",
       "  'error_code': None}}"
      ]
     },
     "execution_count": 52,
     "metadata": {},
     "output_type": "execute_result"
    }
   ],
   "source": [
    "args = {\n",
    "    'account':python_contract,\n",
    "    'code':python_contract,\n",
    "    'type':'sayhello',\n",
    "    'requirement':'sayhello'\n",
    "}\n",
    "uuosapi.push_action('eosio', 'linkauth', args, {python_contract:'active'})"
   ]
  },
  {
   "cell_type": "code",
   "execution_count": 47,
   "metadata": {
    "scrolled": true
   },
   "outputs": [
    {
     "data": {
      "text/plain": [
       "{'account_name': 'ceyelqpjeeia',\n",
       " 'head_block_num': 44492356,\n",
       " 'head_block_time': '2021-01-06T10:02:39.500',\n",
       " 'privileged': False,\n",
       " 'last_code_update': '2021-01-06T09:35:46.500',\n",
       " 'created': '2020-11-30T02:20:16.000',\n",
       " 'core_liquid_balance': '78.8595 TNT',\n",
       " 'ram_quota': 3810651,\n",
       " 'net_weight': 30000,\n",
       " 'cpu_weight': 310000,\n",
       " 'net_limit': {'used': 278054, 'available': 6910692, 'max': 7188746},\n",
       " 'cpu_limit': {'used': 141748, 'available': 14025384, 'max': 14167132},\n",
       " 'ram_usage': 2725324,\n",
       " 'permissions': [{'perm_name': 'active',\n",
       "   'parent': 'owner',\n",
       "   'required_auth': {'threshold': 1,\n",
       "    'keys': [{'key': 'EOS8moVJwVaR8pb43KBi2HwmtbwebXmjSJUerfwbvFW41tEvYsfDE',\n",
       "      'weight': 1}],\n",
       "    'accounts': [{'permission': {'actor': 'ceyelqpjeeia',\n",
       "       'permission': 'eosio.code'},\n",
       "      'weight': 1}],\n",
       "    'waits': []}},\n",
       "  {'perm_name': 'owner',\n",
       "   'parent': '',\n",
       "   'required_auth': {'threshold': 1,\n",
       "    'keys': [{'key': 'EOS79fssH8wH5EyNtKP2oZAt1b9jfeu6hpna7RJ7eMwwjr73S5kWa',\n",
       "      'weight': 1}],\n",
       "    'accounts': [],\n",
       "    'waits': []}},\n",
       "  {'perm_name': 'sayhello',\n",
       "   'parent': 'active',\n",
       "   'required_auth': {'threshold': 2,\n",
       "    'keys': [{'key': 'EOS4yV91cqR6db8ntKtCLFVwWfvvvDMZctpd85GsaX5GUMaiqUWYL',\n",
       "      'weight': 1},\n",
       "     {'key': 'EOS5gNqDpWm72KzNWFVgBDmybrEtk9qx2ZuAeRbK9iSJMVJ2B8y73',\n",
       "      'weight': 1}],\n",
       "    'accounts': [],\n",
       "    'waits': []}}],\n",
       " 'total_resources': {'owner': 'ceyelqpjeeia',\n",
       "  'net_weight': '3.0000 TNT',\n",
       "  'cpu_weight': '31.0000 TNT',\n",
       "  'ram_bytes': 3809251},\n",
       " 'self_delegated_bandwidth': {'from': 'ceyelqpjeeia',\n",
       "  'to': 'ceyelqpjeeia',\n",
       "  'net_weight': '3.0000 TNT',\n",
       "  'cpu_weight': '31.0000 TNT'},\n",
       " 'refund_request': None,\n",
       " 'voter_info': {'owner': 'ceyelqpjeeia',\n",
       "  'proxy': '',\n",
       "  'producers': [],\n",
       "  'staked': 340000,\n",
       "  'last_vote_weight': '0.00000000000000000',\n",
       "  'proxied_vote_weight': '0.00000000000000000',\n",
       "  'is_proxy': 0,\n",
       "  'flags1': 0,\n",
       "  'reserved2': 0,\n",
       "  'reserved3': '0 '},\n",
       " 'rex_info': None}"
      ]
     },
     "execution_count": 47,
     "metadata": {},
     "output_type": "execute_result"
    }
   ],
   "source": [
    "uuosapi.get_account(python_contract)"
   ]
  },
  {
   "cell_type": "code",
   "execution_count": 41,
   "metadata": {},
   "outputs": [
    {
     "data": {
      "text/plain": [
       "'ceyelqpjeeia'"
      ]
     },
     "execution_count": 41,
     "metadata": {},
     "output_type": "execute_result"
    }
   ],
   "source": [
    "python_contract"
   ]
  },
  {
   "cell_type": "code",
   "execution_count": 55,
   "metadata": {
    "scrolled": true
   },
   "outputs": [
    {
     "name": "stdout",
     "output_type": "stream",
     "text": [
      "hello,world\r\n",
      "\n"
     ]
    }
   ],
   "source": [
    "code = '''\n",
    "import chain\n",
    "def apply(receiver, code, action):\n",
    "    print('hello,world')\n",
    "    chain.require_auth2('ceyelqpjeeia', 'sayhello')\n",
    "'''\n",
    "code = uuosapi.mp_compile(python_contract, code)\n",
    "uuosapi.deploy_python_contract(python_contract, code, b'', deploy_type=1)\n",
    "r = uuosapi.push_action(python_contract, 'sayhello', b'hello,world', {python_contract:'sayhello'})\n",
    "print(r['processed']['action_traces'][0]['console'])"
   ]
  },
  {
   "cell_type": "code",
   "execution_count": 72,
   "metadata": {
    "scrolled": false
   },
   "outputs": [
    {
     "name": "stdout",
     "output_type": "stream",
     "text": [
      "{\"expiration\":\"2021-01-06T12:35:47\",\"ref_block_num\":4252,\"ref_block_prefix\":2300341352,\"max_net_usage_words\":0,\"max_cpu_usage_ms\":0,\"delay_sec\":0,\"context_free_actions\":[],\"actions\":[{\"account\":\"ceyelqpjeeia\",\"name\":\"sayhello\",\"authorization\":[{\"actor\":\"ceyelqpjeeia\",\"permission\":\"sayhello\"}],\"data\":\"68656c6c6f2c776f726c64\"}],\"transaction_extensions\":[],\"signatures\":[],\"context_free_data\":[]}\n"
     ]
    }
   ],
   "source": [
    "action = [python_contract, 'sayhello', b'hello,world', {python_contract:'sayhello'}]\n",
    "info = uuosapi.get_info()\n",
    "reference_block_id = info['last_irreversible_block_id']\n",
    "trx = uuosapi.gen_transaction([action], 60*60, reference_block_id)\n",
    "print(trx)"
   ]
  },
  {
   "cell_type": "markdown",
   "metadata": {},
   "source": [
    "### test_account1"
   ]
  },
  {
   "cell_type": "code",
   "execution_count": 14,
   "metadata": {},
   "outputs": [
    {
     "data": {
      "text/plain": [
       "{'perm_name': 'active',\n",
       " 'parent': 'owner',\n",
       " 'required_auth': {'threshold': 1,\n",
       "  'keys': [{'key': 'EOS4yV91cqR6db8ntKtCLFVwWfvvvDMZctpd85GsaX5GUMaiqUWYL',\n",
       "    'weight': 1}],\n",
       "  'accounts': [],\n",
       "  'waits': []}}"
      ]
     },
     "execution_count": 14,
     "metadata": {},
     "output_type": "execute_result"
    }
   ],
   "source": [
    "uuosapi.get_account(test_account1)['permissions'][0]"
   ]
  },
  {
   "cell_type": "code",
   "execution_count": null,
   "metadata": {},
   "outputs": [],
   "source": []
  },
  {
   "cell_type": "code",
   "execution_count": 73,
   "metadata": {},
   "outputs": [
    {
     "data": {
      "text/plain": [
       "['SIG_K1_KZqveCQi7X6WQWegSaaWGMMSKz4MkB4TqDTtiWrQuhBuNR3RfNFezzC8WK1Y6GmpBJk6izgfSsofoQ1e5wdK3cEcXkpM6n']"
      ]
     },
     "execution_count": 73,
     "metadata": {},
     "output_type": "execute_result"
    }
   ],
   "source": [
    "import hashlib\n",
    "import json\n",
    "public_keys = ['EOS4yV91cqR6db8ntKtCLFVwWfvvvDMZctpd85GsaX5GUMaiqUWYL',]\n",
    "info = uuosapi.get_info()\n",
    "signed_trx = wallet.sign_transaction(trx, public_keys, info['chain_id'])\n",
    "sign1 = json.loads(signed_trx)['signatures']\n",
    "sign1"
   ]
  },
  {
   "cell_type": "code",
   "execution_count": 74,
   "metadata": {},
   "outputs": [
    {
     "data": {
      "text/plain": [
       "'SIG_K1_KZqveCQi7X6WQWegSaaWGMMSKz4MkB4TqDTtiWrQuhBuNR3RfNFezzC8WK1Y6GmpBJk6izgfSsofoQ1e5wdK3cEcXkpM6n'"
      ]
     },
     "execution_count": 74,
     "metadata": {},
     "output_type": "execute_result"
    }
   ],
   "source": [
    "import hashlib\n",
    "info = uuosapi.get_info()\n",
    "chain_id = bytes.fromhex(info['chain_id'])\n",
    "\n",
    "packed_trx = uuosapi.pack_transaction(trx)\n",
    "packed_trx = json.loads(packed_trx)\n",
    "packed_trx = bytes.fromhex(packed_trx['packed_trx'])\n",
    "\n",
    "h = hashlib.sha256()\n",
    "h.update(chain_id)\n",
    "h.update(packed_trx)\n",
    "h.update(b'\\x00'*32)\n",
    "wallet.sign_digest(h.digest(), 'EOS4yV91cqR6db8ntKtCLFVwWfvvvDMZctpd85GsaX5GUMaiqUWYL')\n"
   ]
  },
  {
   "cell_type": "markdown",
   "metadata": {},
   "source": [
    "### test_account2"
   ]
  },
  {
   "cell_type": "code",
   "execution_count": 21,
   "metadata": {},
   "outputs": [
    {
     "data": {
      "text/plain": [
       "{'perm_name': 'active',\n",
       " 'parent': 'owner',\n",
       " 'required_auth': {'threshold': 1,\n",
       "  'keys': [{'key': 'EOS5gNqDpWm72KzNWFVgBDmybrEtk9qx2ZuAeRbK9iSJMVJ2B8y73',\n",
       "    'weight': 1}],\n",
       "  'accounts': [],\n",
       "  'waits': []}}"
      ]
     },
     "execution_count": 21,
     "metadata": {},
     "output_type": "execute_result"
    }
   ],
   "source": [
    "uuosapi.get_account(test_account2)['permissions'][0]"
   ]
  },
  {
   "cell_type": "code",
   "execution_count": 75,
   "metadata": {},
   "outputs": [
    {
     "data": {
      "text/plain": [
       "['SIG_K1_KZqveCQi7X6WQWegSaaWGMMSKz4MkB4TqDTtiWrQuhBuNR3RfNFezzC8WK1Y6GmpBJk6izgfSsofoQ1e5wdK3cEcXkpM6n',\n",
       " 'SIG_K1_K6uMeGNTErfBx94eehdRKyYzK2LqPGmnpFE1MEp56sSUqCvLZYH6CTZ8JD44gqcJDpGPRRSRwpnWCmXPkfrSXnE2bULi2n']"
      ]
     },
     "execution_count": 75,
     "metadata": {},
     "output_type": "execute_result"
    }
   ],
   "source": [
    "public_keys = ['EOS5gNqDpWm72KzNWFVgBDmybrEtk9qx2ZuAeRbK9iSJMVJ2B8y73']\n",
    "info = uuosapi.get_info()\n",
    "signed_trx = wallet.sign_transaction(signed_trx, public_keys, info['chain_id'])\n",
    "sign2 = json.loads(signed_trx)['signatures']\n",
    "sign2"
   ]
  },
  {
   "cell_type": "code",
   "execution_count": 76,
   "metadata": {
    "scrolled": true
   },
   "outputs": [
    {
     "data": {
      "text/plain": [
       "{'transaction_id': '834beeaade131e2db0d759cf7840857c5f8f57ee223fb61ecc4b2757055e8f38',\n",
       " 'processed': {'id': '834beeaade131e2db0d759cf7840857c5f8f57ee223fb61ecc4b2757055e8f38',\n",
       "  'block_num': 44503569,\n",
       "  'block_time': '2021-01-06T11:36:06.000',\n",
       "  'producer_block_id': None,\n",
       "  'receipt': {'status': 'executed',\n",
       "   'cpu_usage_us': 585,\n",
       "   'net_usage_words': 15},\n",
       "  'elapsed': 585,\n",
       "  'net_usage': 120,\n",
       "  'scheduled': False,\n",
       "  'action_traces': [{'action_ordinal': 1,\n",
       "    'creator_action_ordinal': 0,\n",
       "    'closest_unnotified_ancestor_action_ordinal': 0,\n",
       "    'receipt': {'receiver': 'ceyelqpjeeia',\n",
       "     'act_digest': 'f9438859b06653a68cee0307791a233589e6868254acbb4562eca5d28799ec8b',\n",
       "     'global_sequence': 54891504,\n",
       "     'recv_sequence': 3233,\n",
       "     'auth_sequence': [['ceyelqpjeeia', 2178]],\n",
       "     'code_sequence': 29,\n",
       "     'abi_sequence': 425},\n",
       "    'receiver': 'ceyelqpjeeia',\n",
       "    'act': {'account': 'ceyelqpjeeia',\n",
       "     'name': 'sayhello',\n",
       "     'authorization': [{'actor': 'ceyelqpjeeia', 'permission': 'sayhello'}],\n",
       "     'data': '68656c6c6f2c776f726c64'},\n",
       "    'context_free': False,\n",
       "    'elapsed': 300,\n",
       "    'console': 'hello,world\\r\\n',\n",
       "    'trx_id': '834beeaade131e2db0d759cf7840857c5f8f57ee223fb61ecc4b2757055e8f38',\n",
       "    'block_num': 44503569,\n",
       "    'block_time': '2021-01-06T11:36:06.000',\n",
       "    'producer_block_id': None,\n",
       "    'account_ram_deltas': [],\n",
       "    'except': None,\n",
       "    'error_code': None,\n",
       "    'inline_traces': []}],\n",
       "  'account_ram_delta': None,\n",
       "  'except': None,\n",
       "  'error_code': None}}"
      ]
     },
     "execution_count": 76,
     "metadata": {},
     "output_type": "execute_result"
    }
   ],
   "source": [
    "uuosapi.push_transaction(signed_trx, compress=False)"
   ]
  }
 ],
 "metadata": {
  "kernelspec": {
   "display_name": "Python 3",
   "language": "python",
   "name": "python3"
  },
  "language_info": {
   "codemirror_mode": {
    "name": "ipython",
    "version": 3
   },
   "file_extension": ".py",
   "mimetype": "text/x-python",
   "name": "python",
   "nbconvert_exporter": "python",
   "pygments_lexer": "ipython3",
   "version": "3.7.4"
  }
 },
 "nbformat": 4,
 "nbformat_minor": 2
}
