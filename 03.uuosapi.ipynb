{
 "cells": [
  {
   "cell_type": "code",
   "execution_count": 1,
   "metadata": {},
   "outputs": [],
   "source": [
    "from uuoskit import uuosapi"
   ]
  },
  {
   "cell_type": "code",
   "execution_count": 7,
   "metadata": {},
   "outputs": [],
   "source": [
    "uuosapi.set_node('https://api.testnet.eos.io')"
   ]
  },
  {
   "cell_type": "code",
   "execution_count": 8,
   "metadata": {},
   "outputs": [
    {
     "data": {
      "text/plain": [
       "{'server_version': '0d87dff8',\n",
       " 'chain_id': 'cf057bbfb72640471fd910bcb67639c22df9f92470936cddc1ade0e2f2e7dc4f',\n",
       " 'head_block_num': 44861958,\n",
       " 'last_irreversible_block_num': 44861624,\n",
       " 'last_irreversible_block_id': '02ac88b8f67d6f2361d63d285d18cf5e1bf718258f1b24fe2086c9ffd76f165a',\n",
       " 'head_block_id': '02ac8a06250c1d30160e57c7442f96571ba60df14ce20ad4603d91995babf1d9',\n",
       " 'head_block_time': '2021-01-08T13:22:40.500',\n",
       " 'head_block_producer': 'initk',\n",
       " 'virtual_block_cpu_limit': 200000000,\n",
       " 'virtual_block_net_limit': 1048576000,\n",
       " 'block_cpu_limit': 199900,\n",
       " 'block_net_limit': 1048576,\n",
       " 'server_version_string': 'v2.0.7',\n",
       " 'fork_db_head_block_num': 44861958,\n",
       " 'fork_db_head_block_id': '02ac8a06250c1d30160e57c7442f96571ba60df14ce20ad4603d91995babf1d9',\n",
       " 'server_full_version_string': 'v2.0.7-0d87dff8bee56179aa01472dd00a089b2aa7b9fa'}"
      ]
     },
     "execution_count": 8,
     "metadata": {},
     "output_type": "execute_result"
    }
   ],
   "source": [
    "uuosapi.get_info()"
   ]
  },
  {
   "cell_type": "code",
   "execution_count": 9,
   "metadata": {},
   "outputs": [
    {
     "data": {
      "text/plain": [
       "'https://api.testnet.eos.io'"
      ]
     },
     "execution_count": 9,
     "metadata": {},
     "output_type": "execute_result"
    }
   ],
   "source": [
    "uuosapi.node_url"
   ]
  },
  {
   "cell_type": "code",
   "execution_count": 10,
   "metadata": {},
   "outputs": [
    {
     "data": {
      "text/plain": [
       "{'public': 'EOS8ZZahJb367bsdgABwwWTtDBRhXfUC73r1ornAAaThqgyTm9NFe',\n",
       " 'private': '5HpcvZHJBX8Ag4F1a6kzGkQA67DLvJU1Ru6wZasKkmQaV2DGSb9'}"
      ]
     },
     "execution_count": 10,
     "metadata": {},
     "output_type": "execute_result"
    }
   ],
   "source": [
    "uuosapi.create_key()"
   ]
  },
  {
   "cell_type": "code",
   "execution_count": 11,
   "metadata": {},
   "outputs": [
    {
     "data": {
      "text/plain": [
       "{'account_name': 'eosio.token',\n",
       " 'head_block_num': 44861974,\n",
       " 'head_block_time': '2021-01-08T13:22:48.500',\n",
       " 'privileged': False,\n",
       " 'last_code_update': '2020-04-23T04:46:53.000',\n",
       " 'created': '2020-04-23T04:46:52.000',\n",
       " 'ram_quota': -1,\n",
       " 'net_weight': -1,\n",
       " 'cpu_weight': -1,\n",
       " 'net_limit': {'used': -1, 'available': -1, 'max': -1},\n",
       " 'cpu_limit': {'used': -1, 'available': -1, 'max': -1},\n",
       " 'ram_usage': 184055,\n",
       " 'permissions': [{'perm_name': 'active',\n",
       "   'parent': 'owner',\n",
       "   'required_auth': {'threshold': 1,\n",
       "    'keys': [],\n",
       "    'accounts': [{'permission': {'actor': 'eosio', 'permission': 'active'},\n",
       "      'weight': 1}],\n",
       "    'waits': []}},\n",
       "  {'perm_name': 'owner',\n",
       "   'parent': '',\n",
       "   'required_auth': {'threshold': 1,\n",
       "    'keys': [],\n",
       "    'accounts': [{'permission': {'actor': 'eosio', 'permission': 'active'},\n",
       "      'weight': 1}],\n",
       "    'waits': []}}],\n",
       " 'total_resources': None,\n",
       " 'self_delegated_bandwidth': None,\n",
       " 'refund_request': None,\n",
       " 'voter_info': None,\n",
       " 'rex_info': None}"
      ]
     },
     "execution_count": 11,
     "metadata": {},
     "output_type": "execute_result"
    }
   ],
   "source": [
    "uuosapi.get_account('eosio.token')"
   ]
  },
  {
   "cell_type": "code",
   "execution_count": 13,
   "metadata": {},
   "outputs": [
    {
     "data": {
      "text/plain": [
       "0.0"
      ]
     },
     "execution_count": 13,
     "metadata": {},
     "output_type": "execute_result"
    }
   ],
   "source": [
    "uuosapi.get_balance('eosio')"
   ]
  },
  {
   "cell_type": "code",
   "execution_count": 19,
   "metadata": {},
   "outputs": [],
   "source": [
    "from uuoskit import wallet, config\n",
    "if os.path.exists('test.wallet'):\n",
    "    os.remove('test.wallet')\n",
    "psw = wallet.create('test')\n",
    "\n",
    "wallet.import_key('test', '5JfZz1kXF8TXsxQgwfsvZCUBeTQefYSsCLDSbSPmnbKQfFmtBny')\n",
    "test_account1 = 'ceyelqpjeeia'\n",
    "config.main_token = 'TNT'"
   ]
  },
  {
   "cell_type": "code",
   "execution_count": 17,
   "metadata": {},
   "outputs": [
    {
     "data": {
      "text/plain": [
       "798713357.4334"
      ]
     },
     "execution_count": 17,
     "metadata": {},
     "output_type": "execute_result"
    }
   ],
   "source": [
    "uuosapi.get_balance('eosio', token_account='eosio.token', token_name=main_token)"
   ]
  },
  {
   "cell_type": "code",
   "execution_count": 20,
   "metadata": {
    "scrolled": true
   },
   "outputs": [
    {
     "data": {
      "text/plain": [
       "{'transaction_id': '3187933dade8177dc92200a65af2e7274d5f868684c3a41fc60246deba29241c',\n",
       " 'processed': {'id': '3187933dade8177dc92200a65af2e7274d5f868684c3a41fc60246deba29241c',\n",
       "  'block_num': 44862304,\n",
       "  'block_time': '2021-01-08T13:25:33.500',\n",
       "  'producer_block_id': None,\n",
       "  'receipt': {'status': 'executed',\n",
       "   'cpu_usage_us': 858,\n",
       "   'net_usage_words': 17},\n",
       "  'elapsed': 858,\n",
       "  'net_usage': 136,\n",
       "  'scheduled': False,\n",
       "  'action_traces': [{'action_ordinal': 1,\n",
       "    'creator_action_ordinal': 0,\n",
       "    'closest_unnotified_ancestor_action_ordinal': 0,\n",
       "    'receipt': {'receiver': 'eosio.token',\n",
       "     'act_digest': '22a65a2a462df869c8772c08df47bd06ac85e46ab6cceefa7abb6c5073f50154',\n",
       "     'global_sequence': 55271257,\n",
       "     'recv_sequence': 61432,\n",
       "     'auth_sequence': [['ceyelqpjeeia', 2322]],\n",
       "     'code_sequence': 1,\n",
       "     'abi_sequence': 1},\n",
       "    'receiver': 'eosio.token',\n",
       "    'act': {'account': 'eosio.token',\n",
       "     'name': 'transfer',\n",
       "     'authorization': [{'actor': 'ceyelqpjeeia', 'permission': 'active'}],\n",
       "     'data': {'from': 'ceyelqpjeeia',\n",
       "      'to': 'eosio.token',\n",
       "      'quantity': '0.1000 TNT',\n",
       "      'memo': 'hello'},\n",
       "     'hex_data': '609c52afdaa8bc4200a6823403ea3055e80300000000000004544e54000000000568656c6c6f'},\n",
       "    'context_free': False,\n",
       "    'elapsed': 166,\n",
       "    'console': '',\n",
       "    'trx_id': '3187933dade8177dc92200a65af2e7274d5f868684c3a41fc60246deba29241c',\n",
       "    'block_num': 44862304,\n",
       "    'block_time': '2021-01-08T13:25:33.500',\n",
       "    'producer_block_id': None,\n",
       "    'account_ram_deltas': [{'account': 'ceyelqpjeeia', 'delta': 240}],\n",
       "    'except': None,\n",
       "    'error_code': None,\n",
       "    'inline_traces': [{'action_ordinal': 2,\n",
       "      'creator_action_ordinal': 1,\n",
       "      'closest_unnotified_ancestor_action_ordinal': 1,\n",
       "      'receipt': {'receiver': 'ceyelqpjeeia',\n",
       "       'act_digest': '22a65a2a462df869c8772c08df47bd06ac85e46ab6cceefa7abb6c5073f50154',\n",
       "       'global_sequence': 55271258,\n",
       "       'recv_sequence': 3422,\n",
       "       'auth_sequence': [['ceyelqpjeeia', 2323]],\n",
       "       'code_sequence': 1,\n",
       "       'abi_sequence': 1},\n",
       "      'receiver': 'ceyelqpjeeia',\n",
       "      'act': {'account': 'eosio.token',\n",
       "       'name': 'transfer',\n",
       "       'authorization': [{'actor': 'ceyelqpjeeia', 'permission': 'active'}],\n",
       "       'data': {'from': 'ceyelqpjeeia',\n",
       "        'to': 'eosio.token',\n",
       "        'quantity': '0.1000 TNT',\n",
       "        'memo': 'hello'},\n",
       "       'hex_data': '609c52afdaa8bc4200a6823403ea3055e80300000000000004544e54000000000568656c6c6f'},\n",
       "      'context_free': False,\n",
       "      'elapsed': 395,\n",
       "      'console': 'ceyelqpjeeia eosio.token transfer\\r\\n7684013976526520320 hello\\r\\n',\n",
       "      'trx_id': '3187933dade8177dc92200a65af2e7274d5f868684c3a41fc60246deba29241c',\n",
       "      'block_num': 44862304,\n",
       "      'block_time': '2021-01-08T13:25:33.500',\n",
       "      'producer_block_id': None,\n",
       "      'account_ram_deltas': [],\n",
       "      'except': None,\n",
       "      'error_code': None,\n",
       "      'inline_traces': []}]}],\n",
       "  'account_ram_delta': None,\n",
       "  'except': None,\n",
       "  'error_code': None}}"
      ]
     },
     "execution_count": 20,
     "metadata": {},
     "output_type": "execute_result"
    }
   ],
   "source": [
    "uuosapi.transfer(test_account1, 'eosio.token', 0.1, 'hello')"
   ]
  },
  {
   "cell_type": "code",
   "execution_count": null,
   "metadata": {},
   "outputs": [],
   "source": []
  }
 ],
 "metadata": {
  "kernelspec": {
   "display_name": "Python 3",
   "language": "python",
   "name": "python3"
  },
  "language_info": {
   "codemirror_mode": {
    "name": "ipython",
    "version": 3
   },
   "file_extension": ".py",
   "mimetype": "text/x-python",
   "name": "python",
   "nbconvert_exporter": "python",
   "pygments_lexer": "ipython3",
   "version": "3.7.4"
  }
 },
 "nbformat": 4,
 "nbformat_minor": 2
}
