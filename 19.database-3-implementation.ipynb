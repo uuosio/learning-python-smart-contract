{
 "cells": [
  {
   "cell_type": "code",
   "execution_count": 1,
   "metadata": {},
   "outputs": [],
   "source": [
    "from init import *"
   ]
  },
  {
   "cell_type": "code",
   "execution_count": 2,
   "metadata": {},
   "outputs": [
    {
     "name": "stdout",
     "output_type": "stream",
     "text": [
      "[1, 2, 3, 5.0]\r\n",
      "[3, 4, 5, 7.0]\r\n",
      "False\r\n",
      "done!\r\n",
      "\n"
     ]
    }
   ],
   "source": [
    "code = '''\n",
    "import json\n",
    "import struct\n",
    "import chain\n",
    "import db\n",
    "\n",
    "def get_scope():\n",
    "    return name(chain.read_action_data()[:8])\n",
    "\n",
    "class MyData(object):\n",
    "    def __init__(self, a: int, b: int, c: int, d: float):\n",
    "        self.a = a\n",
    "        self.b = b\n",
    "        self.c = c\n",
    "        self.d = d\n",
    "        self.payer = 0\n",
    "\n",
    "    def pack(self):\n",
    "        b = int.to_bytes(self.b, 16, 'little')\n",
    "        c = int.to_bytes(self.c, 32, 'little')\n",
    "        return struct.pack('Q16s32sd', self.a, b, c, self.d)\n",
    "\n",
    "    @classmethod\n",
    "    def unpack(cls, data):\n",
    "        a, b, c, d = struct.unpack('Q16s32sd', data)\n",
    "        b = int.from_bytes(b, 'little')\n",
    "        c = int.from_bytes(c, 'little')\n",
    "        return cls(a, b, c, d)\n",
    "\n",
    "    def get_primary_key(self):\n",
    "        return self.a\n",
    "\n",
    "    def get_secondary_values(self):\n",
    "        return (self.a, self.b, self.c, self.d)\n",
    "\n",
    "    @staticmethod\n",
    "    def get_secondary_indexes():\n",
    "        return (db.idx64, db.idx128, db.idx256, db.idx_double)\n",
    "\n",
    "    def __str__(self):\n",
    "        data = (self.a, self.b, self.c, self.d)\n",
    "        return json.dumps(data)\n",
    "\n",
    "def apply(receiver, code, action):\n",
    "    code = receiver\n",
    "    scope = get_scope()\n",
    "    payer = receiver\n",
    "\n",
    "    table = name('table')\n",
    "    mi = db.MultiIndex(code, scope, table, MyData)\n",
    "\n",
    "    itr = mi.find(1)\n",
    "    if itr >= 0:\n",
    "        data = mi.get(itr)\n",
    "        print(data.a, data.b, data.c, data.d)\n",
    "\n",
    "    d = MyData(1, 2, 3, 5.0)\n",
    "    d.payer = payer\n",
    "    mi[1] = d\n",
    "    print(mi[1])\n",
    "\n",
    "    d = MyData(3, 4, 5, 7.0)\n",
    "    d.payer = payer\n",
    "    mi.store(d)\n",
    "    print(mi[3])\n",
    "\n",
    "    del mi[3]\n",
    "    print(3 in mi)\n",
    "    print('done!')\n",
    "'''\n",
    "\n",
    "code = uuosapi.mp_compile(python_contract, code)\n",
    "\n",
    "uuosapi.deploy_python_code(python_contract, code, deploy_type=1)\n",
    "\n",
    "r = uuosapi.push_action(python_contract, 'sayhello', b'hello,world', {python_contract:'active'})\n",
    "print(r['processed']['action_traces'][0]['console'])\n"
   ]
  }
 ],
 "metadata": {
  "kernelspec": {
   "display_name": "Python 3",
   "language": "python",
   "name": "python3"
  },
  "language_info": {
   "codemirror_mode": {
    "name": "ipython",
    "version": 3
   },
   "file_extension": ".py",
   "mimetype": "text/x-python",
   "name": "python",
   "nbconvert_exporter": "python",
   "pygments_lexer": "ipython3",
   "version": "3.7.4"
  }
 },
 "nbformat": 4,
 "nbformat_minor": 2
}
